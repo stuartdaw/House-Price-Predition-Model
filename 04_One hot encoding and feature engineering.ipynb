{
 "cells": [
  {
   "cell_type": "markdown",
   "metadata": {},
   "source": [
    "# One Hot Encoding and Feature engineering\n",
    "\n",
    "In this notebook I will:\n",
    "+ Split the categorical columns out into One Hot encoded columns\n"
   ]
  },
  {
   "cell_type": "markdown",
   "metadata": {},
   "source": [
    "### Contents:\n",
    "- [Data Import](#Data-Import)\n",
    "- [One hot coding](#One-Hot-Coding)"
   ]
  },
  {
   "cell_type": "markdown",
   "metadata": {},
   "source": [
    "# Data Import"
   ]
  },
  {
   "cell_type": "code",
   "execution_count": 1595,
   "metadata": {},
   "outputs": [],
   "source": [
    "# load libraries\n",
    "import numpy as np\n",
    "import pandas as pd\n",
    "import seaborn as sns\n",
    "import matplotlib.pyplot as plt\n",
    "from sklearn.linear_model import LinearRegression, LassoCV, RidgeCV,ElasticNet, ElasticNetCV\n",
    "from sklearn import metrics\n",
    "from sklearn.metrics import mean_squared_error\n",
    "from sklearn.model_selection import train_test_split, cross_val_score, KFold\n",
    "from sklearn.preprocessing import PolynomialFeatures, StandardScaler\n",
    "\n",
    "%matplotlib inline"
   ]
  },
  {
   "cell_type": "markdown",
   "metadata": {},
   "source": [
    "#### Get Data"
   ]
  },
  {
   "cell_type": "code",
   "execution_count": 1596,
   "metadata": {},
   "outputs": [],
   "source": [
    "ames_train = pd.read_csv('./datasets/outputs/data_cleaning_train_1.0.csv')\n",
    "ames_test = pd.read_csv('./datasets/outputs/data_cleaning_test_1.0.csv')"
   ]
  },
  {
   "cell_type": "code",
   "execution_count": 1597,
   "metadata": {},
   "outputs": [],
   "source": [
    "ames_train.drop(columns='Unnamed: 0', inplace=True)\n",
    "ames_test.drop(columns='Unnamed: 0', inplace=True)"
   ]
  },
  {
   "cell_type": "code",
   "execution_count": 1598,
   "metadata": {},
   "outputs": [
    {
     "data": {
      "text/plain": [
       "((2051, 81), (879, 80))"
      ]
     },
     "execution_count": 1598,
     "metadata": {},
     "output_type": "execute_result"
    }
   ],
   "source": [
    "ames_train.shape, ames_test.shape"
   ]
  },
  {
   "cell_type": "code",
   "execution_count": 1599,
   "metadata": {},
   "outputs": [
    {
     "data": {
      "text/html": [
       "<div>\n",
       "<style scoped>\n",
       "    .dataframe tbody tr th:only-of-type {\n",
       "        vertical-align: middle;\n",
       "    }\n",
       "\n",
       "    .dataframe tbody tr th {\n",
       "        vertical-align: top;\n",
       "    }\n",
       "\n",
       "    .dataframe thead th {\n",
       "        text-align: right;\n",
       "    }\n",
       "</style>\n",
       "<table border=\"1\" class=\"dataframe\">\n",
       "  <thead>\n",
       "    <tr style=\"text-align: right;\">\n",
       "      <th></th>\n",
       "      <th>feature</th>\n",
       "      <th>clean_dt</th>\n",
       "      <th>dataset</th>\n",
       "      <th>description</th>\n",
       "    </tr>\n",
       "  </thead>\n",
       "  <tbody>\n",
       "    <tr>\n",
       "      <th>0</th>\n",
       "      <td>id</td>\n",
       "      <td>int</td>\n",
       "      <td>train</td>\n",
       "      <td>Property number</td>\n",
       "    </tr>\n",
       "    <tr>\n",
       "      <th>1</th>\n",
       "      <td>pid</td>\n",
       "      <td>int</td>\n",
       "      <td>train</td>\n",
       "      <td>Row number</td>\n",
       "    </tr>\n",
       "    <tr>\n",
       "      <th>2</th>\n",
       "      <td>ms_subclass</td>\n",
       "      <td>int</td>\n",
       "      <td>train</td>\n",
       "      <td>The building class</td>\n",
       "    </tr>\n",
       "    <tr>\n",
       "      <th>3</th>\n",
       "      <td>ms_zoning</td>\n",
       "      <td>string</td>\n",
       "      <td>train</td>\n",
       "      <td>Identifies the general zoning classification o...</td>\n",
       "    </tr>\n",
       "    <tr>\n",
       "      <th>4</th>\n",
       "      <td>lot_frontage</td>\n",
       "      <td>float</td>\n",
       "      <td>train</td>\n",
       "      <td>Linear feet of street connected to property</td>\n",
       "    </tr>\n",
       "    <tr>\n",
       "      <th>...</th>\n",
       "      <td>...</td>\n",
       "      <td>...</td>\n",
       "      <td>...</td>\n",
       "      <td>...</td>\n",
       "    </tr>\n",
       "    <tr>\n",
       "      <th>76</th>\n",
       "      <td>misc_val</td>\n",
       "      <td>int</td>\n",
       "      <td>train</td>\n",
       "      <td>$Value of miscellaneous feature</td>\n",
       "    </tr>\n",
       "    <tr>\n",
       "      <th>77</th>\n",
       "      <td>mo_sold</td>\n",
       "      <td>int</td>\n",
       "      <td>train</td>\n",
       "      <td>Month Sold</td>\n",
       "    </tr>\n",
       "    <tr>\n",
       "      <th>78</th>\n",
       "      <td>yr_sold</td>\n",
       "      <td>int</td>\n",
       "      <td>train</td>\n",
       "      <td>Year Sold</td>\n",
       "    </tr>\n",
       "    <tr>\n",
       "      <th>79</th>\n",
       "      <td>sale_type</td>\n",
       "      <td>string</td>\n",
       "      <td>train</td>\n",
       "      <td>Type of sale</td>\n",
       "    </tr>\n",
       "    <tr>\n",
       "      <th>80</th>\n",
       "      <td>saleprice</td>\n",
       "      <td>int</td>\n",
       "      <td>train</td>\n",
       "      <td>Price property was sold for</td>\n",
       "    </tr>\n",
       "  </tbody>\n",
       "</table>\n",
       "<p>81 rows × 4 columns</p>\n",
       "</div>"
      ],
      "text/plain": [
       "         feature clean_dt dataset  \\\n",
       "0             id      int   train   \n",
       "1            pid      int   train   \n",
       "2    ms_subclass      int   train   \n",
       "3      ms_zoning   string   train   \n",
       "4   lot_frontage    float   train   \n",
       "..           ...      ...     ...   \n",
       "76      misc_val      int   train   \n",
       "77       mo_sold      int   train   \n",
       "78       yr_sold      int   train   \n",
       "79     sale_type   string   train   \n",
       "80     saleprice      int   train   \n",
       "\n",
       "                                          description  \n",
       "0                                     Property number  \n",
       "1                                          Row number  \n",
       "2                                  The building class  \n",
       "3   Identifies the general zoning classification o...  \n",
       "4         Linear feet of street connected to property  \n",
       "..                                                ...  \n",
       "76                    $Value of miscellaneous feature  \n",
       "77                                         Month Sold  \n",
       "78                                          Year Sold  \n",
       "79                                       Type of sale  \n",
       "80                        Price property was sold for  \n",
       "\n",
       "[81 rows x 4 columns]"
      ]
     },
     "execution_count": 1599,
     "metadata": {},
     "output_type": "execute_result"
    }
   ],
   "source": [
    "data_dict = pd.read_csv('./datasets/outputs/data_dictionary_df.csv')\n",
    "data_dict.drop(columns='Unnamed: 0', inplace=True)\n",
    "data_dict"
   ]
  },
  {
   "cell_type": "code",
   "execution_count": 1600,
   "metadata": {},
   "outputs": [
    {
     "data": {
      "text/plain": [
       "saleprice         0\n",
       "total_bsmt_sf     0\n",
       "year_remod/add    0\n",
       "roof_style        0\n",
       "roof_matl         0\n",
       "dtype: int64"
      ]
     },
     "execution_count": 1600,
     "metadata": {},
     "output_type": "execute_result"
    }
   ],
   "source": [
    "# chek no nulls in train\n",
    "ames_train.isnull().sum().sort_values(ascending=False).head(5)"
   ]
  },
  {
   "cell_type": "code",
   "execution_count": 1601,
   "metadata": {},
   "outputs": [
    {
     "data": {
      "text/plain": [
       "sale_type         0\n",
       "yr_sold           0\n",
       "year_remod/add    0\n",
       "roof_style        0\n",
       "roof_matl         0\n",
       "dtype: int64"
      ]
     },
     "execution_count": 1601,
     "metadata": {},
     "output_type": "execute_result"
    }
   ],
   "source": [
    "# chek no nulls in test\n",
    "ames_test.isnull().sum().sort_values(ascending=False).head(5)"
   ]
  },
  {
   "cell_type": "markdown",
   "metadata": {},
   "source": [
    "---"
   ]
  },
  {
   "cell_type": "markdown",
   "metadata": {},
   "source": [
    "# One-Hot-Coding"
   ]
  },
  {
   "cell_type": "code",
   "execution_count": 1602,
   "metadata": {},
   "outputs": [],
   "source": [
    "# Create the mark down column for remaining columns\n",
    "train_types = ames_train.select_dtypes(include ='object').columns\n",
    "# print('|Feature|Type|Options|decision|\\n|----|----|----|----|')\n",
    "# for i in train_types:\n",
    "#     print(f\"|{i}|  |  | |\")"
   ]
  },
  {
   "cell_type": "markdown",
   "metadata": {},
   "source": [
    "### Feature Table\n",
    "\n",
    "Shows the categories and what I should do with columns."
   ]
  },
  {
   "cell_type": "markdown",
   "metadata": {},
   "source": [
    "|Feature|Type|Options|decision|drop?|\n",
    "|----|----|----|----|----|\n",
    "|ms_subclass| Category | - | Create dummy columns |\n",
    "|ms_zoning| Category | - | Create dummy columns | |\n",
    "|street| Category |-  | Create dummy columns | |\n",
    "|alley|Category  | - |Create dummy columns | |\n",
    "|lot_shape|Category  |- |Create dummy columns | |\n",
    "|land_contour|Category  | - |Create dummy columns | |\n",
    "|utilities| Ordinal | 'AllPub', 'NoSeWa', 'NoSewr' |create ordinal 2,1,0 | |\n",
    "|lot_config|Category  | - |Create dummy columns | |\n",
    "|land_slope|Category  | - |Create dummy columns | |\n",
    "|neighborhood| Category  | - |Create dummy columns | |\n",
    "|condition_1| Category  | - |Create dummy columns | |\n",
    "|condition_2| Category  | - |Create dummy columns | |\n",
    "|bldg_type| Category  | - |Create dummy columns | |\n",
    "|house_style| Category  | - |Create dummy columns | |\n",
    "|roof_style| Category  |-  |Create dummy columns |y |\n",
    "|roof_matl| Category  | - |Create dummy columns |y |\n",
    "|exterior_1st| Category  | - |Create dummy columns | |\n",
    "|exterior_2nd| Category  | - |Create dummy columns | |\n",
    "|mas_vnr_type| Category  | - |Create dummy columns | |\n",
    "|exter_qual| Ordinal | 'Ex','Gd','TA', 'Fa', 'Po','None'| create ordinal 5,4,3,2,1,0| |\n",
    "|exter_cond| Ordinal | 'Ex','Gd','TA', 'Fa', 'Po','None'| create ordinal 5,4,3,2,1,0| |\n",
    "|foundation|  Category  | - |Create dummy columns | |\n",
    "|bsmt_qual| Ordinal | 'Ex','Gd','TA', 'Fa', 'Po','None'| create ordinal 5,4,3,2,1,0| |\n",
    "|bsmt_cond| Ordinal | 'Ex','Gd','TA', 'Fa', 'Po','None'| create ordinal 5,4,3,2,1,0| |\n",
    "|bsmt_exposure| Ordinal |'Gd', 'Av','Mn' 'No', 'None' | create ordinal 3,2,1,0,0| |\n",
    "|bsmtfin_type_1| Ordinal| 'GLQ','ALQ','BLQ','Rec', 'LwQ' 'Unf','None'| create ordinal 6,5,4,3,2,1,0  | |\n",
    "|bsmtfin_type_2| Ordinal | 'GLQ','ALQ','BLQ','Rec', 'LwQ' 'Unf','None'| create ordinal 6,5,4,3,2,1,0  | |\n",
    "|heating|  Category  | - |Create dummy columns | |\n",
    "|heating_qc| Ordinal |'Ex','Gd','TA', 'Fa', 'Po' | create ordinal 4,3,2,1,0| |\n",
    "|central_air|Category | - |Create dummy columns | |\n",
    "|electrical| Category | - |Create dummy columns | |\n",
    "|kitchen_qual|Ordinal |'Ex','Gd','TA', 'Fa', 'Po' | create ordinal 4,3,2,1,0| |\n",
    "|functional| Ordinal  | 'Typ', 'Min1','Min2','Mod', 'Maj1', 'Maj2' 'Sev', 'Sal'  |  create ordinal 7,6,5,4,3,2,1,0| | \n",
    "|fireplace_qu|Ordinal |'Ex','Gd','TA', 'Fa', 'Po' | create ordinal 4,3,2,1,0| |\n",
    "|garage_type| Category  | - |Create dummy columns | |\n",
    "|garage_finish|Ordinal | 'RFn', 'Unf', 'Fin', 'none', 'None' |create ordinal 2,1,0 | |\n",
    "|garage_qual|  Ordinal | 'Ex','Gd','TA', 'Fa', 'Po','None'| create ordinal 5,4,3,2,1,0| |\n",
    "|garage_cond|  Ordinal | 'Ex','Gd','TA', 'Fa', 'Po','None','none'| create ordinal 5,4,3,2,1,0,0| |\n",
    "|paved_drive| Category  | - |Create dummy columns | |\n",
    "|pool_qc| Ordinal | 'Ex','Gd','TA', 'Fa', 'Po','None'| create ordinal 5,4,3,2,1,0| |\n",
    "|fence| Ordinal | 'GdPrv','MnPrv', 'GdWo', 'MnWw','None' | create ordinal 4,3,2,1,0||\n",
    "|misc_feature|  Category  | - |Create dummy columns | |\n",
    "|sale_type| Category  | - |Create dummy columns |y |"
   ]
  },
  {
   "cell_type": "markdown",
   "metadata": {},
   "source": [
    "# Observations:\n",
    "\n",
    "+ Pros for all columns\n",
    "    + Allow Lasso to decide which columns are important. If they are not then their coefficient will drop to 0\n",
    "    + Computationally its still a small data set so there is capacity to add them all.\n",
    "    \n",
    "+ Con for adding them all\n",
    "    + May be able to discount some obvious columns\n",
    "    + Save time\n",
    "\n",
    "+ I chose to add them all. Especially as this is more thorough and know that the less important ones will be removed."
   ]
  },
  {
   "cell_type": "markdown",
   "metadata": {},
   "source": [
    "#### Ordinal Test Columns"
   ]
  },
  {
   "cell_type": "code",
   "execution_count": 1603,
   "metadata": {},
   "outputs": [],
   "source": [
    "# Need to create 7 dictionaries\n",
    "\n",
    "# Quality Dictionary\n",
    "qual_dict = {'Ex':5, \"Gd\":4, 'TA':3, \"Fa\":2, \"Po\":1, \"None\":0, \"none\":0}\n",
    "\n",
    "# Basment fin type Dictionary\n",
    "bsmt_fin_type_dict = {'GLQ':6, \"ALQ\":5, 'BLQ':4, \"Rec\":3, \"LwQ\":2, \"Unf\":1, \"None\":0}\n",
    "\n",
    "# Basment Exposure Dictionary\n",
    "bsmnt_exp_dict = {'Gd':4, \"Av\":3, 'Mn':2, \"No\":1, \"None\":0}\n",
    "\n",
    "# Fence Dictionary\n",
    "fence_dict = {'GdPrv':4, \"MnPrv\":3, 'GdWo':2, \"MnWw\":1, \"None\":0}\n",
    "\n",
    "# Garage Finish Dictionary\n",
    "garage_fn_dict = {'Fin':3,'RFn':3, 'Unf':1,  'none':0, 'None':0 }\n",
    "\n",
    "# Untilities Dictionary\n",
    "util_dict = {'AllPub':2, 'NoSeWa':1, 'NoSewr':0 }\n",
    "\n",
    "# functional Dictionary\n",
    "functional_dict = {'Typ':7,'Min1':6, \"Min2\":5, 'Mod':4, 'Maj1':3, \"Maj2\":2, \"Sev\":1, \"Sal\":0}"
   ]
  },
  {
   "cell_type": "markdown",
   "metadata": {},
   "source": [
    "#### Update ordinal columns"
   ]
  },
  {
   "cell_type": "code",
   "execution_count": 1604,
   "metadata": {},
   "outputs": [],
   "source": [
    "ames_train['utilities'] = [x if util_dict.get(x)==None else util_dict[x] for x in ames_train['utilities']]"
   ]
  },
  {
   "cell_type": "code",
   "execution_count": 1605,
   "metadata": {},
   "outputs": [],
   "source": [
    "ames_train['exter_qual'] = [x if qual_dict.get(x)==None else qual_dict[x] for x in ames_train['exter_qual']]"
   ]
  },
  {
   "cell_type": "code",
   "execution_count": 1606,
   "metadata": {},
   "outputs": [],
   "source": [
    "ames_train['exter_cond'] = [x if qual_dict.get(x)==None else qual_dict[x] for x in ames_train['exter_cond']]"
   ]
  },
  {
   "cell_type": "code",
   "execution_count": 1607,
   "metadata": {},
   "outputs": [],
   "source": [
    "ames_train['bsmt_qual'] = [x if qual_dict.get(x)==None else qual_dict[x] for x in ames_train['bsmt_qual']]"
   ]
  },
  {
   "cell_type": "code",
   "execution_count": 1608,
   "metadata": {},
   "outputs": [],
   "source": [
    "ames_train['bsmt_cond'] = [x if qual_dict.get(x)==None else qual_dict[x] for x in ames_train['bsmt_cond']]"
   ]
  },
  {
   "cell_type": "code",
   "execution_count": 1609,
   "metadata": {},
   "outputs": [],
   "source": [
    "ames_train['bsmt_exposure'] = [x if bsmnt_exp_dict.get(x)==None else bsmnt_exp_dict[x] for x in ames_train['bsmt_exposure']]"
   ]
  },
  {
   "cell_type": "code",
   "execution_count": 1610,
   "metadata": {},
   "outputs": [],
   "source": [
    "ames_train['bsmtfin_type_1'] = [x if bsmt_fin_type_dict.get(x)==None \n",
    "                                else bsmt_fin_type_dict[x] for x in ames_train['bsmtfin_type_1']]"
   ]
  },
  {
   "cell_type": "code",
   "execution_count": 1611,
   "metadata": {},
   "outputs": [],
   "source": [
    "ames_train['bsmtfin_type_2'] = [x if bsmt_fin_type_dict.get(x)==None \n",
    "                                else bsmt_fin_type_dict[x] for x in ames_train['bsmtfin_type_2']]"
   ]
  },
  {
   "cell_type": "code",
   "execution_count": 1612,
   "metadata": {},
   "outputs": [],
   "source": [
    "ames_train['heating_qc'] = [x if qual_dict.get(x)==None else qual_dict[x] for x in ames_train['heating_qc']]"
   ]
  },
  {
   "cell_type": "code",
   "execution_count": 1613,
   "metadata": {},
   "outputs": [],
   "source": [
    "ames_train['kitchen_qual'] = [x if qual_dict.get(x)==None else qual_dict[x] for x in ames_train['kitchen_qual']]"
   ]
  },
  {
   "cell_type": "code",
   "execution_count": 1614,
   "metadata": {},
   "outputs": [],
   "source": [
    "ames_train['functional'] = [x if functional_dict.get(x)==None else functional_dict[x] for x in ames_train['functional']]"
   ]
  },
  {
   "cell_type": "code",
   "execution_count": 1615,
   "metadata": {},
   "outputs": [],
   "source": [
    "ames_train['fireplace_qu'] = [x if qual_dict.get(x)==None else qual_dict[x] for x in ames_train['fireplace_qu']]"
   ]
  },
  {
   "cell_type": "code",
   "execution_count": 1616,
   "metadata": {},
   "outputs": [],
   "source": [
    "ames_train['garage_finish'] = [x if garage_fn_dict.get(x)==None else garage_fn_dict[x] for x in ames_train['garage_finish']]"
   ]
  },
  {
   "cell_type": "code",
   "execution_count": 1617,
   "metadata": {},
   "outputs": [],
   "source": [
    "ames_train['garage_qual'] = [x if qual_dict.get(x)==None else qual_dict[x] for x in ames_train['garage_qual']]"
   ]
  },
  {
   "cell_type": "code",
   "execution_count": 1618,
   "metadata": {},
   "outputs": [],
   "source": [
    "ames_train['garage_cond'] = [x if qual_dict.get(x)==None else qual_dict[x] for x in ames_train['garage_cond']]"
   ]
  },
  {
   "cell_type": "code",
   "execution_count": 1619,
   "metadata": {},
   "outputs": [],
   "source": [
    "ames_train['pool_qc'] = [x if qual_dict.get(x)==None else qual_dict[x] for x in ames_train['pool_qc']]"
   ]
  },
  {
   "cell_type": "code",
   "execution_count": 1620,
   "metadata": {},
   "outputs": [],
   "source": [
    "ames_train['fence'] = [x if fence_dict.get(x)==None else fence_dict[x] for x in ames_train['fence']]"
   ]
  },
  {
   "cell_type": "markdown",
   "metadata": {},
   "source": [
    "---"
   ]
  },
  {
   "cell_type": "markdown",
   "metadata": {},
   "source": [
    "#### Train Dummies"
   ]
  },
  {
   "cell_type": "code",
   "execution_count": 1621,
   "metadata": {},
   "outputs": [],
   "source": [
    "ames_train =  pd.get_dummies(ames_train, columns=['ms_subclass'], drop_first=True, prefix=\"ms_sub\")"
   ]
  },
  {
   "cell_type": "code",
   "execution_count": 1622,
   "metadata": {},
   "outputs": [],
   "source": [
    "ames_train =  pd.get_dummies(ames_train, columns=['ms_zoning'], drop_first=True, prefix=\"msz\")"
   ]
  },
  {
   "cell_type": "code",
   "execution_count": 1623,
   "metadata": {},
   "outputs": [],
   "source": [
    "ames_train = pd.get_dummies(ames_train, columns=['street'], prefix=\"str\")"
   ]
  },
  {
   "cell_type": "code",
   "execution_count": 1624,
   "metadata": {},
   "outputs": [],
   "source": [
    "ames_train = pd.get_dummies(ames_train, columns=['alley'], prefix=\"aly\")"
   ]
  },
  {
   "cell_type": "code",
   "execution_count": 1625,
   "metadata": {},
   "outputs": [],
   "source": [
    "ames_train = pd.get_dummies(ames_train, columns=['lot_shape'], prefix=\"lts\")"
   ]
  },
  {
   "cell_type": "code",
   "execution_count": 1626,
   "metadata": {},
   "outputs": [],
   "source": [
    "ames_train = pd.get_dummies(ames_train, columns=['land_contour'], prefix=\"ld_ct\")"
   ]
  },
  {
   "cell_type": "code",
   "execution_count": 1627,
   "metadata": {},
   "outputs": [],
   "source": [
    "ames_train = pd.get_dummies(ames_train, columns=['lot_config'], prefix=\"lt_cfg\")"
   ]
  },
  {
   "cell_type": "code",
   "execution_count": 1628,
   "metadata": {},
   "outputs": [],
   "source": [
    "ames_train = pd.get_dummies(ames_train, columns=['land_slope'], prefix=\"ld_sl\")"
   ]
  },
  {
   "cell_type": "code",
   "execution_count": 1629,
   "metadata": {},
   "outputs": [],
   "source": [
    "ames_train = pd.get_dummies(ames_train, columns=['condition_1'], prefix=\"cd1\")"
   ]
  },
  {
   "cell_type": "code",
   "execution_count": 1630,
   "metadata": {},
   "outputs": [],
   "source": [
    "ames_train = pd.get_dummies(ames_train, columns=['condition_2'], prefix=\"cd2\")"
   ]
  },
  {
   "cell_type": "code",
   "execution_count": 1631,
   "metadata": {},
   "outputs": [],
   "source": [
    "ames_train = pd.get_dummies(ames_train, columns=['bldg_type'], prefix=\"bd_ty\")"
   ]
  },
  {
   "cell_type": "code",
   "execution_count": 1632,
   "metadata": {},
   "outputs": [],
   "source": [
    "ames_train = pd.get_dummies(ames_train, columns=['house_style'], prefix=\"hs_sty\")"
   ]
  },
  {
   "cell_type": "code",
   "execution_count": 1633,
   "metadata": {},
   "outputs": [],
   "source": [
    "#ames_train = pd.get_dummies(ames_train, columns=['roof_style'], prefix=\"rf_sty\")"
   ]
  },
  {
   "cell_type": "code",
   "execution_count": 1634,
   "metadata": {},
   "outputs": [],
   "source": [
    "#ames_train = pd.get_dummies(ames_train, columns=['roof_matl'], prefix=\"rf_mat\")"
   ]
  },
  {
   "cell_type": "code",
   "execution_count": 1635,
   "metadata": {},
   "outputs": [],
   "source": [
    "ames_train = pd.get_dummies(ames_train, columns=['exterior_1st'], prefix=\"ext1\")"
   ]
  },
  {
   "cell_type": "code",
   "execution_count": 1636,
   "metadata": {},
   "outputs": [],
   "source": [
    "ames_train = pd.get_dummies(ames_train, columns=['exterior_2nd'], prefix=\"ext2\")"
   ]
  },
  {
   "cell_type": "code",
   "execution_count": 1637,
   "metadata": {},
   "outputs": [],
   "source": [
    "ames_train = pd.get_dummies(ames_train, columns=['mas_vnr_type'], prefix=\"mvt\")"
   ]
  },
  {
   "cell_type": "code",
   "execution_count": 1638,
   "metadata": {},
   "outputs": [],
   "source": [
    "ames_train = pd.get_dummies(ames_train, columns=['foundation'], prefix=\"fd\")"
   ]
  },
  {
   "cell_type": "code",
   "execution_count": 1639,
   "metadata": {},
   "outputs": [],
   "source": [
    "ames_train = pd.get_dummies(ames_train, columns=['heating'], prefix=\"ht\")"
   ]
  },
  {
   "cell_type": "code",
   "execution_count": 1640,
   "metadata": {},
   "outputs": [],
   "source": [
    "ames_train = pd.get_dummies(ames_train, columns=['central_air'], prefix=\"ac\")"
   ]
  },
  {
   "cell_type": "code",
   "execution_count": 1641,
   "metadata": {},
   "outputs": [],
   "source": [
    "ames_train = pd.get_dummies(ames_train, columns=['electrical'], prefix=\"elc\")"
   ]
  },
  {
   "cell_type": "code",
   "execution_count": 1642,
   "metadata": {},
   "outputs": [],
   "source": [
    "ames_train = pd.get_dummies(ames_train, columns=['garage_type'], prefix=\"gtyp\")"
   ]
  },
  {
   "cell_type": "code",
   "execution_count": 1643,
   "metadata": {},
   "outputs": [],
   "source": [
    "#ames_train = pd.get_dummies(ames_train, columns=['paved_drive'], prefix=\"pav\")"
   ]
  },
  {
   "cell_type": "code",
   "execution_count": 1644,
   "metadata": {},
   "outputs": [],
   "source": [
    "#ames_train = pd.get_dummies(ames_train, columns=['sale_type'], prefix=\"styp\")"
   ]
  },
  {
   "cell_type": "code",
   "execution_count": 1645,
   "metadata": {},
   "outputs": [],
   "source": [
    "ames_train = pd.get_dummies(ames_train, columns=['neighborhood'], prefix=\"nbd_\")"
   ]
  },
  {
   "cell_type": "code",
   "execution_count": 1646,
   "metadata": {},
   "outputs": [],
   "source": [
    "#ames_train =  pd.get_dummies(ames_train, columns=['misc_feature'], prefix=\"mf_\")"
   ]
  },
  {
   "cell_type": "markdown",
   "metadata": {},
   "source": [
    "---"
   ]
  },
  {
   "cell_type": "markdown",
   "metadata": {},
   "source": [
    "### Test data"
   ]
  },
  {
   "cell_type": "code",
   "execution_count": 1647,
   "metadata": {},
   "outputs": [],
   "source": [
    "# Update ordinal columns"
   ]
  },
  {
   "cell_type": "code",
   "execution_count": 1648,
   "metadata": {},
   "outputs": [],
   "source": [
    "ames_test['utilities'] = [x if util_dict.get(x)==None else util_dict[x] for x in ames_test['utilities']]"
   ]
  },
  {
   "cell_type": "code",
   "execution_count": 1649,
   "metadata": {},
   "outputs": [],
   "source": [
    "ames_test['exter_qual'] = [x if qual_dict.get(x)==None else qual_dict[x] for x in ames_test['exter_qual']]"
   ]
  },
  {
   "cell_type": "code",
   "execution_count": 1650,
   "metadata": {},
   "outputs": [],
   "source": [
    "ames_test['exter_cond'] = [x if qual_dict.get(x)==None else qual_dict[x] for x in ames_test['exter_cond']]"
   ]
  },
  {
   "cell_type": "code",
   "execution_count": 1651,
   "metadata": {},
   "outputs": [],
   "source": [
    "ames_test['bsmt_qual'] = [x if qual_dict.get(x)==None else qual_dict[x] for x in ames_test['bsmt_qual']]"
   ]
  },
  {
   "cell_type": "code",
   "execution_count": 1652,
   "metadata": {},
   "outputs": [],
   "source": [
    "ames_test['bsmt_cond'] = [x if qual_dict.get(x)==None else qual_dict[x] for x in ames_test['bsmt_cond']]"
   ]
  },
  {
   "cell_type": "code",
   "execution_count": 1653,
   "metadata": {},
   "outputs": [],
   "source": [
    "ames_test['bsmt_exposure'] = [x if bsmnt_exp_dict.get(x)==None \n",
    "                              else bsmnt_exp_dict[x] for x in ames_test['bsmt_exposure']]"
   ]
  },
  {
   "cell_type": "code",
   "execution_count": 1654,
   "metadata": {},
   "outputs": [],
   "source": [
    "ames_test['bsmtfin_type_1'] = [x if bsmt_fin_type_dict.get(x)==None \n",
    "                               else bsmt_fin_type_dict[x] for x in ames_test['bsmtfin_type_1']]"
   ]
  },
  {
   "cell_type": "code",
   "execution_count": 1655,
   "metadata": {},
   "outputs": [],
   "source": [
    "ames_test['bsmtfin_type_2'] = [x if bsmt_fin_type_dict.get(x)==None \n",
    "                               else bsmt_fin_type_dict[x] for x in ames_test['bsmtfin_type_2']]"
   ]
  },
  {
   "cell_type": "code",
   "execution_count": 1656,
   "metadata": {},
   "outputs": [
    {
     "data": {
      "text/plain": [
       "array([1, 2, 0, 5, 6, 3, 4])"
      ]
     },
     "execution_count": 1656,
     "metadata": {},
     "output_type": "execute_result"
    }
   ],
   "source": [
    "ames_test['bsmtfin_type_2'].unique()"
   ]
  },
  {
   "cell_type": "code",
   "execution_count": 1657,
   "metadata": {},
   "outputs": [],
   "source": [
    "ames_test['heating_qc'] = [x if qual_dict.get(x)==None else qual_dict[x] for x in ames_test['heating_qc']]"
   ]
  },
  {
   "cell_type": "code",
   "execution_count": 1658,
   "metadata": {},
   "outputs": [],
   "source": [
    "ames_test['kitchen_qual'] = [x if qual_dict.get(x)==None else qual_dict[x] for x in ames_test['kitchen_qual']]"
   ]
  },
  {
   "cell_type": "code",
   "execution_count": 1659,
   "metadata": {},
   "outputs": [],
   "source": [
    "ames_test['functional'] = [x if functional_dict.get(x)==None else functional_dict[x] for x in ames_test['functional']]"
   ]
  },
  {
   "cell_type": "code",
   "execution_count": 1660,
   "metadata": {},
   "outputs": [],
   "source": [
    "ames_test['fireplace_qu'] = [x if qual_dict.get(x)==None else qual_dict[x] for x in ames_test['fireplace_qu']]"
   ]
  },
  {
   "cell_type": "code",
   "execution_count": 1661,
   "metadata": {},
   "outputs": [],
   "source": [
    "ames_test['garage_finish'] = [x if garage_fn_dict.get(x)==None else garage_fn_dict[x] for x in ames_test['garage_finish']]"
   ]
  },
  {
   "cell_type": "code",
   "execution_count": 1662,
   "metadata": {},
   "outputs": [],
   "source": [
    "ames_test['garage_qual'] = [x if qual_dict.get(x)==None else qual_dict[x] for x in ames_test['garage_qual']]"
   ]
  },
  {
   "cell_type": "code",
   "execution_count": 1663,
   "metadata": {},
   "outputs": [],
   "source": [
    "ames_test['garage_cond'] = [x if qual_dict.get(x)==None else qual_dict[x] for x in ames_test['garage_cond']]"
   ]
  },
  {
   "cell_type": "code",
   "execution_count": 1664,
   "metadata": {},
   "outputs": [],
   "source": [
    "ames_test['pool_qc'] = [x if qual_dict.get(x)==None else qual_dict[x] for x in ames_test['pool_qc']]"
   ]
  },
  {
   "cell_type": "code",
   "execution_count": 1665,
   "metadata": {},
   "outputs": [],
   "source": [
    "ames_test['fence'] = [x if fence_dict.get(x)==None else fence_dict[x] for x in ames_test['fence']]"
   ]
  },
  {
   "cell_type": "code",
   "execution_count": 1666,
   "metadata": {},
   "outputs": [],
   "source": [
    "# Train Dummies"
   ]
  },
  {
   "cell_type": "code",
   "execution_count": 1667,
   "metadata": {},
   "outputs": [],
   "source": [
    "ames_test =  pd.get_dummies(ames_test, columns=['ms_subclass'], drop_first=True, prefix=\"ms_sub\")"
   ]
  },
  {
   "cell_type": "code",
   "execution_count": 1668,
   "metadata": {},
   "outputs": [],
   "source": [
    "ames_test =  pd.get_dummies(ames_test, columns=['ms_zoning'], drop_first=True, prefix=\"msz\")"
   ]
  },
  {
   "cell_type": "code",
   "execution_count": 1669,
   "metadata": {},
   "outputs": [],
   "source": [
    "ames_test = pd.get_dummies(ames_test, columns=['street'], prefix=\"str\")"
   ]
  },
  {
   "cell_type": "code",
   "execution_count": 1670,
   "metadata": {},
   "outputs": [],
   "source": [
    "ames_test = pd.get_dummies(ames_test, columns=['alley'], prefix=\"aly\")"
   ]
  },
  {
   "cell_type": "code",
   "execution_count": 1671,
   "metadata": {},
   "outputs": [],
   "source": [
    "ames_test = pd.get_dummies(ames_test, columns=['lot_shape'], prefix=\"lts\")"
   ]
  },
  {
   "cell_type": "code",
   "execution_count": 1672,
   "metadata": {},
   "outputs": [],
   "source": [
    "ames_test = pd.get_dummies(ames_test, columns=['land_contour'], prefix=\"ld_ct\")"
   ]
  },
  {
   "cell_type": "code",
   "execution_count": 1673,
   "metadata": {},
   "outputs": [],
   "source": [
    "ames_test = pd.get_dummies(ames_test, columns=['lot_config'], prefix=\"lt_cfg\")"
   ]
  },
  {
   "cell_type": "code",
   "execution_count": 1674,
   "metadata": {},
   "outputs": [],
   "source": [
    "ames_test = pd.get_dummies(ames_test, columns=['land_slope'], prefix=\"ld_sl\")"
   ]
  },
  {
   "cell_type": "code",
   "execution_count": 1675,
   "metadata": {},
   "outputs": [],
   "source": [
    "ames_test = pd.get_dummies(ames_test, columns=['condition_1'], prefix=\"cd1\")"
   ]
  },
  {
   "cell_type": "code",
   "execution_count": 1676,
   "metadata": {},
   "outputs": [],
   "source": [
    "ames_test = pd.get_dummies(ames_test, columns=['condition_2'], prefix=\"cd2\")"
   ]
  },
  {
   "cell_type": "code",
   "execution_count": 1677,
   "metadata": {},
   "outputs": [],
   "source": [
    "ames_test = pd.get_dummies(ames_test, columns=['bldg_type'], prefix=\"bd_ty\")"
   ]
  },
  {
   "cell_type": "code",
   "execution_count": 1678,
   "metadata": {},
   "outputs": [],
   "source": [
    "ames_test = pd.get_dummies(ames_test, columns=['house_style'], prefix=\"hs_sty\")"
   ]
  },
  {
   "cell_type": "code",
   "execution_count": 1679,
   "metadata": {},
   "outputs": [],
   "source": [
    "#ames_test = pd.get_dummies(ames_test, columns=['roof_style'], prefix=\"rf_sty\")"
   ]
  },
  {
   "cell_type": "code",
   "execution_count": 1680,
   "metadata": {},
   "outputs": [],
   "source": [
    "#ames_test = pd.get_dummies(ames_test, columns=['roof_matl'], prefix=\"rf_mat\")"
   ]
  },
  {
   "cell_type": "code",
   "execution_count": 1681,
   "metadata": {},
   "outputs": [],
   "source": [
    "ames_test = pd.get_dummies(ames_test, columns=['exterior_1st'], prefix=\"ext1\")"
   ]
  },
  {
   "cell_type": "code",
   "execution_count": 1682,
   "metadata": {},
   "outputs": [],
   "source": [
    "ames_test = pd.get_dummies(ames_test, columns=['exterior_2nd'], prefix=\"ext2\")"
   ]
  },
  {
   "cell_type": "code",
   "execution_count": 1683,
   "metadata": {},
   "outputs": [],
   "source": [
    "ames_test = pd.get_dummies(ames_test, columns=['mas_vnr_type'], prefix=\"mvt\")"
   ]
  },
  {
   "cell_type": "code",
   "execution_count": 1684,
   "metadata": {},
   "outputs": [],
   "source": [
    "ames_test = pd.get_dummies(ames_test, columns=['foundation'], prefix=\"fd\")"
   ]
  },
  {
   "cell_type": "code",
   "execution_count": 1685,
   "metadata": {},
   "outputs": [],
   "source": [
    "ames_test = pd.get_dummies(ames_test, columns=['heating'], prefix=\"ht\")"
   ]
  },
  {
   "cell_type": "code",
   "execution_count": 1686,
   "metadata": {},
   "outputs": [],
   "source": [
    "ames_test = pd.get_dummies(ames_test, columns=['central_air'], prefix=\"ac\")"
   ]
  },
  {
   "cell_type": "code",
   "execution_count": 1687,
   "metadata": {},
   "outputs": [],
   "source": [
    "ames_test = pd.get_dummies(ames_test, columns=['electrical'], prefix=\"elc\")"
   ]
  },
  {
   "cell_type": "code",
   "execution_count": 1688,
   "metadata": {},
   "outputs": [],
   "source": [
    "ames_test = pd.get_dummies(ames_test, columns=['garage_type'], prefix=\"gtyp\")"
   ]
  },
  {
   "cell_type": "code",
   "execution_count": 1689,
   "metadata": {},
   "outputs": [],
   "source": [
    "#ames_test = pd.get_dummies(ames_test, columns=['paved_drive'], prefix=\"pav\")"
   ]
  },
  {
   "cell_type": "code",
   "execution_count": 1690,
   "metadata": {},
   "outputs": [],
   "source": [
    "#ames_test = pd.get_dummies(ames_test, columns=['sale_type'], prefix=\"styp\")"
   ]
  },
  {
   "cell_type": "code",
   "execution_count": 1691,
   "metadata": {},
   "outputs": [],
   "source": [
    "ames_test = pd.get_dummies(ames_test, columns=['neighborhood'], prefix=\"nbd_\")"
   ]
  },
  {
   "cell_type": "code",
   "execution_count": 1692,
   "metadata": {},
   "outputs": [],
   "source": [
    "#ames_test =  pd.get_dummies(ames_test, columns=['misc_feature'], prefix=\"mf_\")"
   ]
  },
  {
   "cell_type": "code",
   "execution_count": null,
   "metadata": {},
   "outputs": [],
   "source": []
  },
  {
   "cell_type": "markdown",
   "metadata": {},
   "source": [
    "#### Check cols\n",
    "Some data in the test has more category items in the columns. Therefore I need to check that the columns are present in both the test data and the train data "
   ]
  },
  {
   "cell_type": "code",
   "execution_count": 1693,
   "metadata": {},
   "outputs": [
    {
     "data": {
      "text/plain": [
       "['saleprice',\n",
       " 'ms_sub_150',\n",
       " 'msz_C (all)',\n",
       " 'cd2_Artery',\n",
       " 'cd2_RRAe',\n",
       " 'cd2_RRAn',\n",
       " 'cd2_RRNn',\n",
       " 'ext1_CBlock',\n",
       " 'ext1_ImStucc',\n",
       " 'ext1_Stone',\n",
       " 'ext2_Stone',\n",
       " 'ht_OthW',\n",
       " 'ht_Wall',\n",
       " 'elc_Mix',\n",
       " 'gtyp_none',\n",
       " 'nbd__GrnHill',\n",
       " 'nbd__Landmrk']"
      ]
     },
     "execution_count": 1693,
     "metadata": {},
     "output_type": "execute_result"
    }
   ],
   "source": [
    "# Check the train data isnt missing any columns \n",
    "\n",
    "missing_cols_test = []\n",
    "for i in ames_train.columns:\n",
    "    if i not in ames_test.columns:\n",
    "        missing_cols_test.append(i)\n",
    "        \n",
    "missing_cols_test"
   ]
  },
  {
   "cell_type": "code",
   "execution_count": 1694,
   "metadata": {},
   "outputs": [],
   "source": [
    "# Add data to the missing columns\n",
    "\n",
    "for i in missing_cols_test:\n",
    "    ames_test[i] = 0"
   ]
  },
  {
   "cell_type": "code",
   "execution_count": 1695,
   "metadata": {},
   "outputs": [
    {
     "data": {
      "text/plain": [
       "['ext1_PreCast', 'ext2_Other', 'ext2_PreCast', 'mvt_CBlock', 'ht_Floor']"
      ]
     },
     "execution_count": 1695,
     "metadata": {},
     "output_type": "execute_result"
    }
   ],
   "source": [
    "# Check the train data isnt missing any columns \n",
    "\n",
    "missing_cols_train = []\n",
    "for i in ames_test.columns:\n",
    "    if i not in ames_train.columns:\n",
    "        missing_cols_train.append(i)\n",
    "        \n",
    "missing_cols_train"
   ]
  },
  {
   "cell_type": "code",
   "execution_count": 1696,
   "metadata": {},
   "outputs": [],
   "source": [
    "# Add data to the missing columns\n",
    "\n",
    "for i in missing_cols_train:\n",
    "    ames_train[i] = 0"
   ]
  },
  {
   "cell_type": "code",
   "execution_count": 1697,
   "metadata": {
    "scrolled": true
   },
   "outputs": [],
   "source": [
    "# remove the sale price from test as it shouldnt be there\n",
    "\n",
    "ames_test.drop(columns='saleprice', inplace=True)"
   ]
  },
  {
   "cell_type": "markdown",
   "metadata": {},
   "source": [
    "---"
   ]
  },
  {
   "cell_type": "markdown",
   "metadata": {},
   "source": [
    "## Save the Data"
   ]
  },
  {
   "cell_type": "code",
   "execution_count": 1698,
   "metadata": {},
   "outputs": [],
   "source": [
    "ames_train.to_csv('./datasets/outputs/final_train.csv', index=False)"
   ]
  },
  {
   "cell_type": "code",
   "execution_count": 1699,
   "metadata": {},
   "outputs": [],
   "source": [
    "ames_test.to_csv('./datasets/outputs/final_test.csv', index=False)"
   ]
  }
 ],
 "metadata": {
  "kernelspec": {
   "display_name": "Python 3",
   "language": "python",
   "name": "python3"
  },
  "language_info": {
   "codemirror_mode": {
    "name": "ipython",
    "version": 3
   },
   "file_extension": ".py",
   "mimetype": "text/x-python",
   "name": "python",
   "nbconvert_exporter": "python",
   "pygments_lexer": "ipython3",
   "version": "3.7.6"
  }
 },
 "nbformat": 4,
 "nbformat_minor": 4
}
