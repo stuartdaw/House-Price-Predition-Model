{
 "cells": [
  {
   "cell_type": "markdown",
   "metadata": {},
   "source": [
    "# Modelling and conclusions\n",
    "In this notebook I will:\n",
    "+ Re-run the models and compare it to the\n",
    "    + Baseline model\n",
    "    + Best regression model in notebook 03_EDA_and Visualisations\n",
    "+ Compare the models progress\n",
    "+ Discuss the model choice and evaluation\n"
   ]
  },
  {
   "cell_type": "markdown",
   "metadata": {},
   "source": [
    "### Contents:\n",
    "- [Data Import](#Data-Import)\n",
    "- [Model Discussion](#Model-Discussion)\n",
    "- [Run Model](#Run-Model)\n",
    "- [Model Iterations and improvements](#Model-Iterations-and-improvements)\n",
    "- [Interpreting Results](#Model-Interpretation)\n",
    "- [Kaggle Submission](#Kaggle-Submission)"
   ]
  },
  {
   "cell_type": "markdown",
   "metadata": {},
   "source": [
    "# Data Import"
   ]
  },
  {
   "cell_type": "code",
   "execution_count": 703,
   "metadata": {},
   "outputs": [],
   "source": [
    "# load libraries\n",
    "import numpy as np\n",
    "import pandas as pd\n",
    "import seaborn as sns\n",
    "import matplotlib.pyplot as plt\n",
    "from sklearn.linear_model import LinearRegression, LassoCV, RidgeCV, ElasticNet, ElasticNetCV\n",
    "from sklearn import metrics\n",
    "from sklearn.metrics import mean_squared_error\n",
    "from sklearn.model_selection import train_test_split, cross_val_score, KFold\n",
    "from sklearn.preprocessing import PolynomialFeatures, StandardScaler\n",
    "\n",
    "%matplotlib inline"
   ]
  },
  {
   "cell_type": "markdown",
   "metadata": {},
   "source": [
    "#### Get Data"
   ]
  },
  {
   "cell_type": "code",
   "execution_count": 704,
   "metadata": {},
   "outputs": [],
   "source": [
    "ames_train = pd.read_csv('./datasets/outputs/final_train.csv')\n",
    "ames_test = pd.read_csv('./datasets/outputs/final_test.csv')"
   ]
  },
  {
   "cell_type": "code",
   "execution_count": 705,
   "metadata": {},
   "outputs": [
    {
     "data": {
      "text/plain": [
       "((2051, 226), (879, 225))"
      ]
     },
     "execution_count": 705,
     "metadata": {},
     "output_type": "execute_result"
    }
   ],
   "source": [
    "ames_train.shape, ames_test.shape"
   ]
  },
  {
   "cell_type": "code",
   "execution_count": 706,
   "metadata": {},
   "outputs": [
    {
     "data": {
      "text/plain": [
       "ht_Floor    0\n",
       "mo_sold     0\n",
       "str_Pave    0\n",
       "str_Grvl    0\n",
       "msz_RM      0\n",
       "dtype: int64"
      ]
     },
     "execution_count": 706,
     "metadata": {},
     "output_type": "execute_result"
    }
   ],
   "source": [
    "# chek no nulls in train\n",
    "ames_train.isnull().sum().sort_values(ascending=False).head(5)"
   ]
  },
  {
   "cell_type": "code",
   "execution_count": 707,
   "metadata": {},
   "outputs": [
    {
     "data": {
      "text/plain": [
       "nbd__Landmrk    0\n",
       "cd2_PosN        0\n",
       "aly_None        0\n",
       "aly_Grvl        0\n",
       "str_Pave        0\n",
       "dtype: int64"
      ]
     },
     "execution_count": 707,
     "metadata": {},
     "output_type": "execute_result"
    }
   ],
   "source": [
    "# chek no nulls in test\n",
    "ames_test.isnull().sum().sort_values(ascending=False).head(5)"
   ]
  },
  {
   "cell_type": "markdown",
   "metadata": {},
   "source": [
    "---"
   ]
  },
  {
   "cell_type": "markdown",
   "metadata": {},
   "source": [
    "# Model Discussion"
   ]
  },
  {
   "cell_type": "markdown",
   "metadata": {},
   "source": [
    "I have chosen to use the following models:\n",
    "+ Linear Regression\n",
    "    + Multiple Linear Regression - No Regularisation penalty\n",
    "    \n",
    "    \n",
    "    + Multiple Linear Regression - Lasso Regularisation penalty\n",
    "        + A harsh penalty which brings coefficients down to 0 when there impact is limited\n",
    "        \n",
    "        \n",
    "    + Multiple Linear Regression - Ridge Regularisation penalty\n",
    "        + A slightly softer penalty but still penalises high coefficients and reduces there impact\n",
    "        \n",
    "        \n",
    "    + Multiple Linear Regression - ElasticNet Regularisation penalty\n",
    "        + This uses a ratio of both L1 and L2 which is a nice way of making sure the better of the two approach is chosen\n",
    "        \n",
    "        \n",
    "My data cleaning and decisions have been based on trying to keep as much data as possible. This approach is because I think its important not to fabricate or remove valid data points. However this leaves many features in the model. I think ElasticNet and L1 and L2 offer a great way to help decide which features are important and which ones arent. The result is they are effectively dropped by the model when the coefficient reaches 0.\n",
    "\n"
   ]
  },
  {
   "cell_type": "markdown",
   "metadata": {},
   "source": [
    "## Feature Selection and creation\n",
    "\n",
    "As per my plan I used as many features as I could in the model. This was planned and I expected that Lasso and ElasticNet penalties would naturally remove unimportant features.\n",
    "\n",
    "However I found that over fitting was occuring and a good performance on the training set was not being matched on the test set.\n",
    "\n",
    "Therefore I removed columns that were similar and had a strong correlation and columns that I deduced as less important. These columns were:\n",
    "\n",
    "+ 'sale_type'\n",
    "+ 'roof_matl'\n",
    "+ 'roof_style'\n",
    "+ 'paved_drive'\n",
    "+ 'misc_features'\n",
    "+ 'garage_cars'\n",
    "\n",
    "#### Column creation\n",
    "\n",
    "As per notebook 04_One hot encoding and feature engineering, I created features by turnig ordinal data into scales by using dictionaries to match the category values to corresponding numbers.\n",
    "\n",
    "I also created dummy columns for the other categorical data which didnt have a scale. This is important as some features presence may be important. However if its not one hot encoded then it will be missed."
   ]
  },
  {
   "cell_type": "markdown",
   "metadata": {},
   "source": [
    "##  Grid Search\n",
    "\n",
    "I have not used grid search becuase the LassoCV, RidgeCV and ElasticNetCV provide the same functionality as the grid search. However it is a more efficient algorithm in this case. Therefore I would have no extra beneft but at a cost."
   ]
  },
  {
   "cell_type": "markdown",
   "metadata": {},
   "source": [
    "##  Metrics\n",
    "\n",
    "The initial models return\n",
    "+ r2 the models return the coefficient of determination R^2 of the prediction.\n",
    "\n",
    "I also convert the final model into\n",
    "+ RMSE - Root Means Squared Error - requested metric for the assignment\n",
    "\n",
    "Both are popular metrics to compare and standardise the errors and makke model comparisons easier. However they both are score well when the accuracy improves. The smaller the residuals or difference between yhat and y leads to better scores.\n",
    "\n",
    "\n",
    "### Problems\n",
    "They are both good measures but unless you use cross validation they are prone to overfitting. They could provide a good score on a certain data split. However this may vary drastically on another. Therefore to reduce this I will split the data up using cross val splits of 5 and take an average of the performance of the models.\n"
   ]
  },
  {
   "cell_type": "markdown",
   "metadata": {},
   "source": [
    "# Run Model"
   ]
  },
  {
   "cell_type": "code",
   "execution_count": 708,
   "metadata": {},
   "outputs": [
    {
     "data": {
      "text/plain": [
       "numpy.int64"
      ]
     },
     "execution_count": 708,
     "metadata": {},
     "output_type": "execute_result"
    }
   ],
   "source": [
    "type(ames_train['mo_sold'][0])"
   ]
  },
  {
   "cell_type": "code",
   "execution_count": 709,
   "metadata": {},
   "outputs": [
    {
     "data": {
      "text/html": [
       "<div>\n",
       "<style scoped>\n",
       "    .dataframe tbody tr th:only-of-type {\n",
       "        vertical-align: middle;\n",
       "    }\n",
       "\n",
       "    .dataframe tbody tr th {\n",
       "        vertical-align: top;\n",
       "    }\n",
       "\n",
       "    .dataframe thead th {\n",
       "        text-align: right;\n",
       "    }\n",
       "</style>\n",
       "<table border=\"1\" class=\"dataframe\">\n",
       "  <thead>\n",
       "    <tr style=\"text-align: right;\">\n",
       "      <th></th>\n",
       "      <th>id</th>\n",
       "      <th>pid</th>\n",
       "      <th>lot_frontage</th>\n",
       "      <th>lot_area</th>\n",
       "      <th>utilities</th>\n",
       "      <th>overall_qual</th>\n",
       "      <th>overall_cond</th>\n",
       "      <th>year_built</th>\n",
       "      <th>year_remod/add</th>\n",
       "      <th>mas_vnr_area</th>\n",
       "      <th>...</th>\n",
       "      <th>nbd__SawyerW</th>\n",
       "      <th>nbd__Somerst</th>\n",
       "      <th>nbd__StoneBr</th>\n",
       "      <th>nbd__Timber</th>\n",
       "      <th>nbd__Veenker</th>\n",
       "      <th>ext1_PreCast</th>\n",
       "      <th>ext2_Other</th>\n",
       "      <th>ext2_PreCast</th>\n",
       "      <th>mvt_CBlock</th>\n",
       "      <th>ht_Floor</th>\n",
       "    </tr>\n",
       "  </thead>\n",
       "  <tbody>\n",
       "    <tr>\n",
       "      <th>0</th>\n",
       "      <td>109</td>\n",
       "      <td>533352170</td>\n",
       "      <td>13517.0</td>\n",
       "      <td>13517.0</td>\n",
       "      <td>2</td>\n",
       "      <td>6</td>\n",
       "      <td>8</td>\n",
       "      <td>1976</td>\n",
       "      <td>2005</td>\n",
       "      <td>289.0</td>\n",
       "      <td>...</td>\n",
       "      <td>0</td>\n",
       "      <td>0</td>\n",
       "      <td>0</td>\n",
       "      <td>0</td>\n",
       "      <td>0</td>\n",
       "      <td>0</td>\n",
       "      <td>0</td>\n",
       "      <td>0</td>\n",
       "      <td>0</td>\n",
       "      <td>0</td>\n",
       "    </tr>\n",
       "    <tr>\n",
       "      <th>1</th>\n",
       "      <td>544</td>\n",
       "      <td>531379050</td>\n",
       "      <td>43.0</td>\n",
       "      <td>11492.0</td>\n",
       "      <td>2</td>\n",
       "      <td>7</td>\n",
       "      <td>5</td>\n",
       "      <td>1996</td>\n",
       "      <td>1997</td>\n",
       "      <td>132.0</td>\n",
       "      <td>...</td>\n",
       "      <td>1</td>\n",
       "      <td>0</td>\n",
       "      <td>0</td>\n",
       "      <td>0</td>\n",
       "      <td>0</td>\n",
       "      <td>0</td>\n",
       "      <td>0</td>\n",
       "      <td>0</td>\n",
       "      <td>0</td>\n",
       "      <td>0</td>\n",
       "    </tr>\n",
       "    <tr>\n",
       "      <th>2</th>\n",
       "      <td>153</td>\n",
       "      <td>535304180</td>\n",
       "      <td>68.0</td>\n",
       "      <td>7922.0</td>\n",
       "      <td>2</td>\n",
       "      <td>5</td>\n",
       "      <td>7</td>\n",
       "      <td>1953</td>\n",
       "      <td>2007</td>\n",
       "      <td>0.0</td>\n",
       "      <td>...</td>\n",
       "      <td>0</td>\n",
       "      <td>0</td>\n",
       "      <td>0</td>\n",
       "      <td>0</td>\n",
       "      <td>0</td>\n",
       "      <td>0</td>\n",
       "      <td>0</td>\n",
       "      <td>0</td>\n",
       "      <td>0</td>\n",
       "      <td>0</td>\n",
       "    </tr>\n",
       "    <tr>\n",
       "      <th>3</th>\n",
       "      <td>318</td>\n",
       "      <td>916386060</td>\n",
       "      <td>73.0</td>\n",
       "      <td>9802.0</td>\n",
       "      <td>2</td>\n",
       "      <td>5</td>\n",
       "      <td>5</td>\n",
       "      <td>2006</td>\n",
       "      <td>2007</td>\n",
       "      <td>0.0</td>\n",
       "      <td>...</td>\n",
       "      <td>0</td>\n",
       "      <td>0</td>\n",
       "      <td>0</td>\n",
       "      <td>1</td>\n",
       "      <td>0</td>\n",
       "      <td>0</td>\n",
       "      <td>0</td>\n",
       "      <td>0</td>\n",
       "      <td>0</td>\n",
       "      <td>0</td>\n",
       "    </tr>\n",
       "    <tr>\n",
       "      <th>4</th>\n",
       "      <td>255</td>\n",
       "      <td>906425045</td>\n",
       "      <td>82.0</td>\n",
       "      <td>14235.0</td>\n",
       "      <td>2</td>\n",
       "      <td>6</td>\n",
       "      <td>8</td>\n",
       "      <td>1900</td>\n",
       "      <td>1993</td>\n",
       "      <td>0.0</td>\n",
       "      <td>...</td>\n",
       "      <td>1</td>\n",
       "      <td>0</td>\n",
       "      <td>0</td>\n",
       "      <td>0</td>\n",
       "      <td>0</td>\n",
       "      <td>0</td>\n",
       "      <td>0</td>\n",
       "      <td>0</td>\n",
       "      <td>0</td>\n",
       "      <td>0</td>\n",
       "    </tr>\n",
       "    <tr>\n",
       "      <th>...</th>\n",
       "      <td>...</td>\n",
       "      <td>...</td>\n",
       "      <td>...</td>\n",
       "      <td>...</td>\n",
       "      <td>...</td>\n",
       "      <td>...</td>\n",
       "      <td>...</td>\n",
       "      <td>...</td>\n",
       "      <td>...</td>\n",
       "      <td>...</td>\n",
       "      <td>...</td>\n",
       "      <td>...</td>\n",
       "      <td>...</td>\n",
       "      <td>...</td>\n",
       "      <td>...</td>\n",
       "      <td>...</td>\n",
       "      <td>...</td>\n",
       "      <td>...</td>\n",
       "      <td>...</td>\n",
       "      <td>...</td>\n",
       "      <td>...</td>\n",
       "    </tr>\n",
       "    <tr>\n",
       "      <th>2046</th>\n",
       "      <td>1587</td>\n",
       "      <td>921126030</td>\n",
       "      <td>79.0</td>\n",
       "      <td>11449.0</td>\n",
       "      <td>2</td>\n",
       "      <td>8</td>\n",
       "      <td>5</td>\n",
       "      <td>2007</td>\n",
       "      <td>2007</td>\n",
       "      <td>0.0</td>\n",
       "      <td>...</td>\n",
       "      <td>0</td>\n",
       "      <td>0</td>\n",
       "      <td>0</td>\n",
       "      <td>1</td>\n",
       "      <td>0</td>\n",
       "      <td>0</td>\n",
       "      <td>0</td>\n",
       "      <td>0</td>\n",
       "      <td>0</td>\n",
       "      <td>0</td>\n",
       "    </tr>\n",
       "    <tr>\n",
       "      <th>2047</th>\n",
       "      <td>785</td>\n",
       "      <td>905377130</td>\n",
       "      <td>12342.0</td>\n",
       "      <td>12342.0</td>\n",
       "      <td>2</td>\n",
       "      <td>4</td>\n",
       "      <td>5</td>\n",
       "      <td>1940</td>\n",
       "      <td>1950</td>\n",
       "      <td>0.0</td>\n",
       "      <td>...</td>\n",
       "      <td>0</td>\n",
       "      <td>0</td>\n",
       "      <td>0</td>\n",
       "      <td>0</td>\n",
       "      <td>0</td>\n",
       "      <td>0</td>\n",
       "      <td>0</td>\n",
       "      <td>0</td>\n",
       "      <td>0</td>\n",
       "      <td>0</td>\n",
       "    </tr>\n",
       "    <tr>\n",
       "      <th>2048</th>\n",
       "      <td>916</td>\n",
       "      <td>909253010</td>\n",
       "      <td>57.0</td>\n",
       "      <td>7558.0</td>\n",
       "      <td>2</td>\n",
       "      <td>6</td>\n",
       "      <td>6</td>\n",
       "      <td>1928</td>\n",
       "      <td>1950</td>\n",
       "      <td>0.0</td>\n",
       "      <td>...</td>\n",
       "      <td>0</td>\n",
       "      <td>0</td>\n",
       "      <td>0</td>\n",
       "      <td>0</td>\n",
       "      <td>0</td>\n",
       "      <td>0</td>\n",
       "      <td>0</td>\n",
       "      <td>0</td>\n",
       "      <td>0</td>\n",
       "      <td>0</td>\n",
       "    </tr>\n",
       "    <tr>\n",
       "      <th>2049</th>\n",
       "      <td>639</td>\n",
       "      <td>535179160</td>\n",
       "      <td>80.0</td>\n",
       "      <td>10400.0</td>\n",
       "      <td>2</td>\n",
       "      <td>4</td>\n",
       "      <td>5</td>\n",
       "      <td>1956</td>\n",
       "      <td>1956</td>\n",
       "      <td>0.0</td>\n",
       "      <td>...</td>\n",
       "      <td>0</td>\n",
       "      <td>0</td>\n",
       "      <td>0</td>\n",
       "      <td>0</td>\n",
       "      <td>0</td>\n",
       "      <td>0</td>\n",
       "      <td>0</td>\n",
       "      <td>0</td>\n",
       "      <td>0</td>\n",
       "      <td>0</td>\n",
       "    </tr>\n",
       "    <tr>\n",
       "      <th>2050</th>\n",
       "      <td>10</td>\n",
       "      <td>527162130</td>\n",
       "      <td>60.0</td>\n",
       "      <td>7500.0</td>\n",
       "      <td>2</td>\n",
       "      <td>7</td>\n",
       "      <td>5</td>\n",
       "      <td>1999</td>\n",
       "      <td>1999</td>\n",
       "      <td>0.0</td>\n",
       "      <td>...</td>\n",
       "      <td>0</td>\n",
       "      <td>0</td>\n",
       "      <td>0</td>\n",
       "      <td>0</td>\n",
       "      <td>0</td>\n",
       "      <td>0</td>\n",
       "      <td>0</td>\n",
       "      <td>0</td>\n",
       "      <td>0</td>\n",
       "      <td>0</td>\n",
       "    </tr>\n",
       "  </tbody>\n",
       "</table>\n",
       "<p>2051 rows × 221 columns</p>\n",
       "</div>"
      ],
      "text/plain": [
       "        id        pid  lot_frontage  lot_area  utilities  overall_qual  \\\n",
       "0      109  533352170       13517.0   13517.0          2             6   \n",
       "1      544  531379050          43.0   11492.0          2             7   \n",
       "2      153  535304180          68.0    7922.0          2             5   \n",
       "3      318  916386060          73.0    9802.0          2             5   \n",
       "4      255  906425045          82.0   14235.0          2             6   \n",
       "...    ...        ...           ...       ...        ...           ...   \n",
       "2046  1587  921126030          79.0   11449.0          2             8   \n",
       "2047   785  905377130       12342.0   12342.0          2             4   \n",
       "2048   916  909253010          57.0    7558.0          2             6   \n",
       "2049   639  535179160          80.0   10400.0          2             4   \n",
       "2050    10  527162130          60.0    7500.0          2             7   \n",
       "\n",
       "      overall_cond  year_built  year_remod/add  mas_vnr_area  ...  \\\n",
       "0                8        1976            2005         289.0  ...   \n",
       "1                5        1996            1997         132.0  ...   \n",
       "2                7        1953            2007           0.0  ...   \n",
       "3                5        2006            2007           0.0  ...   \n",
       "4                8        1900            1993           0.0  ...   \n",
       "...            ...         ...             ...           ...  ...   \n",
       "2046             5        2007            2007           0.0  ...   \n",
       "2047             5        1940            1950           0.0  ...   \n",
       "2048             6        1928            1950           0.0  ...   \n",
       "2049             5        1956            1956           0.0  ...   \n",
       "2050             5        1999            1999           0.0  ...   \n",
       "\n",
       "      nbd__SawyerW  nbd__Somerst  nbd__StoneBr  nbd__Timber  nbd__Veenker  \\\n",
       "0                0             0             0            0             0   \n",
       "1                1             0             0            0             0   \n",
       "2                0             0             0            0             0   \n",
       "3                0             0             0            1             0   \n",
       "4                1             0             0            0             0   \n",
       "...            ...           ...           ...          ...           ...   \n",
       "2046             0             0             0            1             0   \n",
       "2047             0             0             0            0             0   \n",
       "2048             0             0             0            0             0   \n",
       "2049             0             0             0            0             0   \n",
       "2050             0             0             0            0             0   \n",
       "\n",
       "      ext1_PreCast  ext2_Other  ext2_PreCast  mvt_CBlock  ht_Floor  \n",
       "0                0           0             0           0         0  \n",
       "1                0           0             0           0         0  \n",
       "2                0           0             0           0         0  \n",
       "3                0           0             0           0         0  \n",
       "4                0           0             0           0         0  \n",
       "...            ...         ...           ...         ...       ...  \n",
       "2046             0           0             0           0         0  \n",
       "2047             0           0             0           0         0  \n",
       "2048             0           0             0           0         0  \n",
       "2049             0           0             0           0         0  \n",
       "2050             0           0             0           0         0  \n",
       "\n",
       "[2051 rows x 221 columns]"
      ]
     },
     "execution_count": 709,
     "metadata": {},
     "output_type": "execute_result"
    }
   ],
   "source": [
    "ames_train.select_dtypes(exclude=['object'])"
   ]
  },
  {
   "cell_type": "code",
   "execution_count": 710,
   "metadata": {},
   "outputs": [],
   "source": [
    "# Create a list of features that will be used in the model\n",
    "\n",
    "train_features = [col for col in ames_train._get_numeric_data().columns if col != 'saleprice' \n",
    "                                                                              and col != 'id' \n",
    "                                                                              and col != 'pid'\n",
    "                                                                              and col != 'sale_type'\n",
    "                                                                              and col != 'roof_matl'\n",
    "                                                                              and col != 'roof_style'\n",
    "                                                                              and col != 'paved_drive'\n",
    "                                                                              and col != 'misc_features'\n",
    "                                                                              and col != 'garage_cars'\n",
    "                                                                              and col != '1st_flr_sf'\n",
    "                                                                              and col != '2nd_flr_sf']"
   ]
  },
  {
   "cell_type": "code",
   "execution_count": 711,
   "metadata": {},
   "outputs": [],
   "source": [
    "# Setup the features\n",
    "X = ames_train[train_features]\n",
    "y = ames_train['saleprice']"
   ]
  },
  {
   "cell_type": "code",
   "execution_count": 712,
   "metadata": {},
   "outputs": [],
   "source": [
    "# Split the test data\n",
    "X_train, X_test, y_train, y_test = train_test_split(X, y, train_size=0.7)"
   ]
  },
  {
   "cell_type": "code",
   "execution_count": 713,
   "metadata": {},
   "outputs": [],
   "source": [
    "# Scale the data\n",
    "ss = StandardScaler()\n",
    "ss.fit(X_train)\n",
    "X_train = ss.transform(X_train)\n",
    "X_test = ss.transform(X_test)"
   ]
  },
  {
   "cell_type": "code",
   "execution_count": 714,
   "metadata": {},
   "outputs": [],
   "source": [
    "# Setup our models\n",
    "\n",
    "lr_dm = LinearRegression()\n",
    "lasso_dm = LassoCV(n_alphas=200, max_iter=10000)\n",
    "ridge_dm = RidgeCV(alphas=np.linspace(0.1,10,100))\n",
    "enet_dm = ElasticNetCV(l1_ratio=np.linspace(0.0001,1,50), n_alphas = 200, max_iter=10000)"
   ]
  },
  {
   "cell_type": "code",
   "execution_count": 715,
   "metadata": {},
   "outputs": [
    {
     "data": {
      "text/plain": [
       "-1.0467664710800547e+25"
      ]
     },
     "execution_count": 715,
     "metadata": {},
     "output_type": "execute_result"
    }
   ],
   "source": [
    "### Run the different models and compare\n",
    "\n",
    "lr_scores = cross_val_score(lr_dm, X_train, y_train, cv=20)\n",
    "lr_scores.mean()"
   ]
  },
  {
   "cell_type": "code",
   "execution_count": 716,
   "metadata": {},
   "outputs": [
    {
     "data": {
      "text/plain": [
       "(array([0.87518245, 0.90847383, 0.89322758, 0.84675122, 0.87373995]),\n",
       " 0.8794750065997814)"
      ]
     },
     "execution_count": 716,
     "metadata": {},
     "output_type": "execute_result"
    }
   ],
   "source": [
    "lasso_scores = cross_val_score(lasso_dm, X_train, y_train)\n",
    "lasso_scores, lasso_scores.mean()"
   ]
  },
  {
   "cell_type": "code",
   "execution_count": 717,
   "metadata": {},
   "outputs": [
    {
     "data": {
      "text/plain": [
       "0.869438962528735"
      ]
     },
     "execution_count": 717,
     "metadata": {},
     "output_type": "execute_result"
    }
   ],
   "source": [
    "ridge_scores = cross_val_score(ridge_dm, X_train, y_train)\n",
    "ridge_scores.mean()"
   ]
  },
  {
   "cell_type": "code",
   "execution_count": 718,
   "metadata": {},
   "outputs": [
    {
     "data": {
      "text/plain": [
       "0.8794750065997814"
      ]
     },
     "execution_count": 718,
     "metadata": {},
     "output_type": "execute_result"
    }
   ],
   "source": [
    "enet_scores = cross_val_score(enet_dm, X_train, y_train)\n",
    "enet_scores.mean()"
   ]
  },
  {
   "cell_type": "code",
   "execution_count": 719,
   "metadata": {},
   "outputs": [
    {
     "data": {
      "text/plain": [
       "True"
      ]
     },
     "execution_count": 719,
     "metadata": {},
     "output_type": "execute_result"
    }
   ],
   "source": [
    "enet_scores.mean() >= lasso_scores.mean() >  ridge_scores.mean() > lr_scores.mean()"
   ]
  },
  {
   "cell_type": "markdown",
   "metadata": {},
   "source": [
    "I chose Enet as it was performing the best. However in the last run it shifted. Overall it is the better choice because it should default to be at least as good as either L1 or L2 as it applies a ratio "
   ]
  },
  {
   "cell_type": "code",
   "execution_count": 720,
   "metadata": {},
   "outputs": [],
   "source": [
    "# fit on all training data and then predict the test data\n",
    "enet_dm.fit(X_train, y_train)\n",
    "yhat = enet_dm.predict(X_test)"
   ]
  },
  {
   "cell_type": "code",
   "execution_count": 721,
   "metadata": {},
   "outputs": [
    {
     "data": {
      "text/plain": [
       "Text(0.5, 0, 'Predictions')"
      ]
     },
     "execution_count": 721,
     "metadata": {},
     "output_type": "execute_result"
    },
    {
     "data": {
      "image/png": "[encoded data removed]",
      "text/plain": [
       "<Figure size 720x720 with 1 Axes>"
      ]
     },
     "metadata": {
      "needs_background": "light"
     },
     "output_type": "display_data"
    }
   ],
   "source": [
    "# Plot to show the correlation between prediction and value.\n",
    "f, ax = plt.subplots(figsize=(10,10))\n",
    "sns.scatterplot(y_test, yhat);\n",
    "ax.plot(y_test.min(), y_test.max(),\n",
    "        y_test, y_test, color='r');\n",
    "plt.title(\"Relationship between predictions and actual prices\") \n",
    "plt.ylabel(\"saleprice\")\n",
    "plt.xlabel(\"Predictions\") "
   ]
  },
  {
   "cell_type": "markdown",
   "metadata": {},
   "source": [
    "#### Observations\n",
    "\n",
    "There is a good correlation between the predictions. My predictions tend to under evaluate the more expensive houses."
   ]
  },
  {
   "cell_type": "code",
   "execution_count": 722,
   "metadata": {},
   "outputs": [
    {
     "data": {
      "text/plain": [
       "23220.379969461264"
      ]
     },
     "execution_count": 722,
     "metadata": {},
     "output_type": "execute_result"
    }
   ],
   "source": [
    "# RMSE Score\n",
    "\n",
    "np.sqrt(mean_squared_error(y_test, yhat))"
   ]
  },
  {
   "cell_type": "code",
   "execution_count": 723,
   "metadata": {},
   "outputs": [
    {
     "data": {
      "text/plain": [
       "0.9102360068087514"
      ]
     },
     "execution_count": 723,
     "metadata": {},
     "output_type": "execute_result"
    }
   ],
   "source": [
    "enet_dm.score(X_test, y_test)"
   ]
  },
  {
   "cell_type": "code",
   "execution_count": 724,
   "metadata": {},
   "outputs": [],
   "source": [
    "residuals = y_test - yhat"
   ]
  },
  {
   "cell_type": "code",
   "execution_count": 725,
   "metadata": {},
   "outputs": [
    {
     "data": {
      "text/plain": [
       "Text(0.5, 0, 'Predictions')"
      ]
     },
     "execution_count": 725,
     "metadata": {},
     "output_type": "execute_result"
    },
    {
     "data": {
      "image/png": "[encoded data removed]",
      "text/plain": [
       "<Figure size 720x720 with 1 Axes>"
      ]
     },
     "metadata": {
      "needs_background": "light"
     },
     "output_type": "display_data"
    }
   ],
   "source": [
    "#plt.scatter(yhat, residuals);\n",
    "\n",
    "f, ax = plt.subplots(figsize=(10,10))\n",
    "sns.scatterplot(yhat, residuals);\n",
    "ax.axhline(0, ls='--', color='r')\n",
    "plt.title(\"Relationship between residuals and actual prices\") \n",
    "plt.ylabel(\"Residuals\")\n",
    "plt.xlabel(\"Predictions\")"
   ]
  },
  {
   "cell_type": "markdown",
   "metadata": {},
   "source": [
    "The graph above shows the majority of points are spread evenly above and below zero. This shows that there is not too much affect at either smaller or larger ranges."
   ]
  },
  {
   "cell_type": "code",
   "execution_count": 726,
   "metadata": {},
   "outputs": [],
   "source": [
    "### Get the coefficients\n",
    "\n",
    "feature_df = pd.DataFrame(enet_dm.coef_, index=train_features)\n",
    "feature_df.rename(columns={0:'coef'}, inplace=True)\n",
    "feature_df.reset_index(inplace=True)\n",
    "feature_df.sort_values('coef',ascending=False, inplace=True)\n",
    "feature_df.rename(columns={'index':'feature'}, inplace=True)"
   ]
  },
  {
   "cell_type": "code",
   "execution_count": null,
   "metadata": {},
   "outputs": [],
   "source": []
  },
  {
   "cell_type": "markdown",
   "metadata": {},
   "source": [
    "# Model Iterations and improvements"
   ]
  },
  {
   "cell_type": "markdown",
   "metadata": {},
   "source": [
    "The model has improved throught he stages:\n",
    "\n",
    "\n",
    "+ Baseline: RMSE 79239.3\n",
    "\n",
    "\n",
    "+ First run: Lasso: RMSE 31146.9\n",
    "\n",
    "\n",
    "+ Final: RMSE 23220.4"
   ]
  },
  {
   "cell_type": "markdown",
   "metadata": {},
   "source": [
    "My plan was to iterate through models and see improvements and these scores show it has been successful"
   ]
  },
  {
   "cell_type": "code",
   "execution_count": null,
   "metadata": {},
   "outputs": [],
   "source": []
  },
  {
   "cell_type": "markdown",
   "metadata": {},
   "source": [
    "# Model-Interpretation"
   ]
  },
  {
   "cell_type": "markdown",
   "metadata": {},
   "source": [
    "### Investigate coefficients and visualise results"
   ]
  },
  {
   "cell_type": "code",
   "execution_count": 727,
   "metadata": {},
   "outputs": [],
   "source": [
    "# create a dataframe with top 10 features and bottom 10 features\n",
    "feature_df_key = pd.concat([feature_df.head(10),feature_df.tail(10)], ignore_index=True)\n",
    "\n",
    "feature_col_names = feature_df_key['feature']\n"
   ]
  },
  {
   "cell_type": "code",
   "execution_count": 760,
   "metadata": {},
   "outputs": [],
   "source": [
    "feature_col_names_dict = {\n",
    "        'gr_liv_area':'Above Ground Living Area',\n",
    "        'overall_qual':'Overall Quality',\n",
    "        'nbd__NridgHt':'Northridge Heights',\n",
    "        'lot_area':'Land Area',\n",
    "        'kitchen_qual':'Kitchen Quality',\n",
    "        'nbd__StoneBr':'Stone Brook',\n",
    "        'exter_qual':'External Quality',\n",
    "        'nbd__NoRidge':'Northridge',\n",
    "        'bd_ty_1Fam':'Single-family Detached',\n",
    "        'bsmt_exposure':'Basement Exposure',\n",
    "        'ext1_Wd Sdng':'Primarily Wood Siding',\n",
    "        'ext2_Stucco':'Secondary Stucco',\n",
    "        'ht_OthW':'Not gas powered heating',\n",
    "        'ext1_Stucco':'Primarily External Stucco',\n",
    "        'nbd__Edwards':'Edwards',\n",
    "        'ms_sub_120':'Planned Unit Development',\n",
    "        'pool_qc':'Pool Quality',\n",
    "        'lot_frontage':'Amount of street attached to property',\n",
    "        'lts_IR3':'Irregular Lot Shape',\n",
    "        'misc_val':'Miscellaneous Feature Value',\n",
    "        'hs_sty_1Story':'One story house',\n",
    "        'bsmtfin_sf_1':'Type 1 Basement: quality sqft',\n",
    "        'ms_sub_150':'1-1/2 Story Planned Unit Development',\n",
    "        'hs_sty_2Story':'Two story house',\n",
    "        'ms_sub_160':'2-Story Planned Unit Development',\n",
    "        'bedroom_abvgr':'Bedrooms above ground level',\n",
    "        'fd_CBlock':'Cinder Block Foundation'\n",
    "}"
   ]
  },
  {
   "cell_type": "code",
   "execution_count": 761,
   "metadata": {},
   "outputs": [],
   "source": [
    "feature_df_key.replace({\"feature\": feature_col_names_dict},inplace=True) "
   ]
  },
  {
   "cell_type": "code",
   "execution_count": 762,
   "metadata": {},
   "outputs": [
    {
     "data": {
      "image/png": "[encoded data removed]",
      "text/plain": [
       "<Figure size 720x720 with 1 Axes>"
      ]
     },
     "metadata": {
      "needs_background": "light"
     },
     "output_type": "display_data"
    }
   ],
   "source": [
    "# Plot the graph to show top and bottom features.\n",
    "\n",
    "f, ax = plt.subplots(figsize=(10,10))\n",
    "sns.barplot(feature_df_key['coef'],feature_df_key['feature']);\n",
    "plt.title(\"Top 10 positive and negative features impacting prices\") \n",
    "plt.ylabel(\"Features\")\n",
    "plt.xlabel(\"Coefficients\") ;"
   ]
  },
  {
   "cell_type": "markdown",
   "metadata": {},
   "source": [
    "This graph shows that these are the key factors to increasing price:\n",
    "\n",
    "+ ground living area\n",
    "+ overall quality\n",
    "+ lot area kitchen quality \n",
    "+ living in Northridgholt \n",
    "\n",
    "Conversely it shows that these are the key factors that inversely affect the price:\n",
    "\n",
    "+ Planned units have a penalty\n",
    "+ Irregular plots are discounted\n",
    "+ Amount of street attached to property comes with a penalty\n"
   ]
  },
  {
   "cell_type": "markdown",
   "metadata": {},
   "source": [
    "### Neighborhood analysis\n",
    "\n",
    "Investigate the neighborhoods to see where they rank"
   ]
  },
  {
   "cell_type": "code",
   "execution_count": 731,
   "metadata": {},
   "outputs": [],
   "source": [
    "# Create Neighborhoods dictionary to enable clearer plots\n",
    "neighborhood_dict = {'nbd__Blmngtn':'Bloomington Heights',\n",
    "                    'nbd__Blueste':'Bluestem',\n",
    "                    'nbd__BrDale':'Briardale',\n",
    "                    'nbd__BrkSide':'Brookside',\n",
    "                    'nbd__ClearCr':'Clear Creek',\n",
    "                    'nbd__CollgCr':'College Creek',\n",
    "                    'nbd__Crawfor':'Crawford',\n",
    "                    'nbd__Edwards':'Edwards',\n",
    "                    'nbd__Gilbert':'Gilbert',\n",
    "                    'nbd__IDOTRR':'Iowa DOT and Rail Road',\n",
    "                    'nbd__MeadowV':'Meadow Village',\n",
    "                    'nbd__Mitchel':'Mitchell',\n",
    "                    'nbd__Names':'North Ames',\n",
    "                    'nbd__NoRidge':'Northridge',\n",
    "                    'nbd__NPkVill':'Northpark Villa',\n",
    "                    'nbd__NridgHt':'Northridge Heights',\n",
    "                    'nbd__NWAmes':'Northwest Ames',\n",
    "                    'nbd__OldTown':'Old Town',\n",
    "                    'nbd__SWISU':'South & West of Iowa State University',\n",
    "                    'nbd__Sawyer':'Sawyer',\n",
    "                    'nbd__SawyerW':'Sawyer West',\n",
    "                    'nbd__Somerst':'Somerset',\n",
    "                    'nbd__StoneBr':'Stone Brook',\n",
    "                    'nbd__Timber':'Timberland'}"
   ]
  },
  {
   "cell_type": "code",
   "execution_count": null,
   "metadata": {},
   "outputs": [],
   "source": []
  },
  {
   "cell_type": "code",
   "execution_count": 732,
   "metadata": {},
   "outputs": [],
   "source": [
    "nbd_cols = [k for k,v in neighborhood_dict.items()]"
   ]
  },
  {
   "cell_type": "code",
   "execution_count": 733,
   "metadata": {},
   "outputs": [],
   "source": [
    "# update neighbourhood columns\n",
    "nbhd_analysis_df = feature_nbhd_df[feature_nbhd_df['feature'].isin(nbd_cols)]\n",
    "nbhd_analysis_df = nbhd_analysis_df.replace({\"feature\": neighborhood_dict}) "
   ]
  },
  {
   "cell_type": "code",
   "execution_count": 734,
   "metadata": {},
   "outputs": [],
   "source": [
    "filtered_nbhd_feats = nbhd_analysis_df.loc[nbhd_analysis_df['coef']!=0,['feature','coef']]"
   ]
  },
  {
   "cell_type": "code",
   "execution_count": 735,
   "metadata": {
    "scrolled": false
   },
   "outputs": [
    {
     "data": {
      "image/png": "[encoded data removed]",
      "text/plain": [
       "<Figure size 720x720 with 1 Axes>"
      ]
     },
     "metadata": {
      "needs_background": "light"
     },
     "output_type": "display_data"
    }
   ],
   "source": [
    "# Create a graph for the Neighborhoods\n",
    "f, ax = plt.subplots(figsize=(10,10))\n",
    "sns.barplot(filtered_nbhd_feats['coef'],filtered_nbhd_feats['feature']);\n",
    "plt.title(\"Neighborhood appeal\") \n",
    "plt.ylabel(\"Neighborhoods\")\n",
    "plt.xlabel(\"Importance in the model\") ;"
   ]
  },
  {
   "cell_type": "markdown",
   "metadata": {},
   "source": [
    "Look at average sales price price per neighborhood for context"
   ]
  },
  {
   "cell_type": "code",
   "execution_count": 795,
   "metadata": {},
   "outputs": [],
   "source": [
    "original_data = pd.read_csv('./datasets/inputs/train.csv')"
   ]
  },
  {
   "cell_type": "code",
   "execution_count": 799,
   "metadata": {},
   "outputs": [],
   "source": [
    "# Create Neighborhoods dictionary to enable clearer plots\n",
    "neighborhood_dict = {'Blmngtn':'Bloomington Heights',\n",
    "                    'Blueste':'Bluestem',\n",
    "                    'BrDale':'Briardale',\n",
    "                    'BrkSide':'Brookside',\n",
    "                    'ClearCr':'Clear Creek',\n",
    "                    'CollgCr':'College Creek',\n",
    "                    'Crawfor':'Crawford',\n",
    "                    'Edwards':'Edwards',\n",
    "                    'Gilbert':'Gilbert',\n",
    "                    'IDOTRR':'Iowa DOT and Rail Road',\n",
    "                    'MeadowV':'Meadow Village',\n",
    "                    'Mitchel':'Mitchell',\n",
    "                    'Names':'North Ames',\n",
    "                    'NoRidge':'Northridge',\n",
    "                    'NPkVill':'Northpark Villa',\n",
    "                    'NridgHt':'Northridge Heights',\n",
    "                    'NWAmes':'Northwest Ames',\n",
    "                    'OldTown':'Old Town',\n",
    "                    'SWISU':'South & West of Iowa State University',\n",
    "                    'Sawyer':'Sawyer',\n",
    "                    'SawyerW':'Sawyer West',\n",
    "                    'Somerst':'Somerset',\n",
    "                    'StoneBr':'Stone Brook',\n",
    "                    'Timber':'Timberland'}\n",
    "\n",
    "nbhd_df = pd.DataFrame()\n",
    "\n",
    "means = original_data.groupby('Neighborhood')['SalePrice'].mean()\n",
    "\n",
    "nbhd_df = pd.DataFrame()\n",
    "nbhd_df['av_price'] = means\n",
    "\n",
    "nbhd_df.reset_index(level='Neighborhood', inplace=True)\n",
    "nbhd_df.replace({\"Neighborhood\": neighborhood_dict}, inplace=True) \n",
    "nbhd_df = nbhd_df.sort_values(by='av_price', ascending=False)"
   ]
  },
  {
   "cell_type": "code",
   "execution_count": 800,
   "metadata": {},
   "outputs": [
    {
     "data": {
      "image/png": "[encoded data removed]",
      "text/plain": [
       "<Figure size 720x720 with 1 Axes>"
      ]
     },
     "metadata": {
      "needs_background": "light"
     },
     "output_type": "display_data"
    }
   ],
   "source": [
    "f, ax = plt.subplots(figsize=(10,10))\n",
    "sns.barplot(y=nbhd_df['Neighborhood'], x=nbhd_df['av_price']);\n",
    "plt.title(\"Neighborhood appeal\") \n",
    "plt.ylabel(\"Neighborhoods\");\n",
    "\n"
   ]
  },
  {
   "cell_type": "markdown",
   "metadata": {},
   "source": [
    "### Investigate best month to sell and best month to buy"
   ]
  },
  {
   "cell_type": "code",
   "execution_count": 763,
   "metadata": {},
   "outputs": [
    {
     "data": {
      "text/plain": [
       "mo_sold\n",
       "1     195126.303797\n",
       "2     177626.519231\n",
       "3     174625.779762\n",
       "4     163901.269231\n",
       "5     180332.369650\n",
       "6     182662.798295\n",
       "7     188571.514851\n",
       "8     186927.359281\n",
       "9     188990.761468\n",
       "10    179334.471545\n",
       "11    184377.495146\n",
       "12    182459.615385\n",
       "Name: saleprice, dtype: float64"
      ]
     },
     "execution_count": 763,
     "metadata": {},
     "output_type": "execute_result"
    }
   ],
   "source": [
    "month_sales = ames_train.groupby(by='mo_sold')['saleprice'].mean()\n",
    "month_sales"
   ]
  },
  {
   "cell_type": "code",
   "execution_count": 764,
   "metadata": {},
   "outputs": [
    {
     "data": {
      "text/plain": [
       "mo_sold\n",
       "1      79\n",
       "2     104\n",
       "3     168\n",
       "4     208\n",
       "5     257\n",
       "6     352\n",
       "7     303\n",
       "8     167\n",
       "9     109\n",
       "10    123\n",
       "11    103\n",
       "12     78\n",
       "Name: saleprice, dtype: int64"
      ]
     },
     "execution_count": 764,
     "metadata": {},
     "output_type": "execute_result"
    }
   ],
   "source": [
    "month_volumes = ames_train.groupby(by='mo_sold')['saleprice'].size()\n",
    "month_volumes"
   ]
  },
  {
   "cell_type": "code",
   "execution_count": 765,
   "metadata": {},
   "outputs": [
    {
     "data": {
      "text/html": [
       "<div>\n",
       "<style scoped>\n",
       "    .dataframe tbody tr th:only-of-type {\n",
       "        vertical-align: middle;\n",
       "    }\n",
       "\n",
       "    .dataframe tbody tr th {\n",
       "        vertical-align: top;\n",
       "    }\n",
       "\n",
       "    .dataframe thead th {\n",
       "        text-align: right;\n",
       "    }\n",
       "</style>\n",
       "<table border=\"1\" class=\"dataframe\">\n",
       "  <thead>\n",
       "    <tr style=\"text-align: right;\">\n",
       "      <th></th>\n",
       "      <th>month</th>\n",
       "      <th>av_price</th>\n",
       "      <th>sales</th>\n",
       "    </tr>\n",
       "  </thead>\n",
       "  <tbody>\n",
       "    <tr>\n",
       "      <th>0</th>\n",
       "      <td>Jan</td>\n",
       "      <td>195.126304</td>\n",
       "      <td>79</td>\n",
       "    </tr>\n",
       "    <tr>\n",
       "      <th>1</th>\n",
       "      <td>Feb</td>\n",
       "      <td>177.626519</td>\n",
       "      <td>104</td>\n",
       "    </tr>\n",
       "    <tr>\n",
       "      <th>2</th>\n",
       "      <td>Mar</td>\n",
       "      <td>174.625780</td>\n",
       "      <td>168</td>\n",
       "    </tr>\n",
       "    <tr>\n",
       "      <th>3</th>\n",
       "      <td>Apr</td>\n",
       "      <td>163.901269</td>\n",
       "      <td>208</td>\n",
       "    </tr>\n",
       "    <tr>\n",
       "      <th>4</th>\n",
       "      <td>May</td>\n",
       "      <td>180.332370</td>\n",
       "      <td>257</td>\n",
       "    </tr>\n",
       "    <tr>\n",
       "      <th>5</th>\n",
       "      <td>Jun</td>\n",
       "      <td>182.662798</td>\n",
       "      <td>352</td>\n",
       "    </tr>\n",
       "    <tr>\n",
       "      <th>6</th>\n",
       "      <td>Jul</td>\n",
       "      <td>188.571515</td>\n",
       "      <td>303</td>\n",
       "    </tr>\n",
       "    <tr>\n",
       "      <th>7</th>\n",
       "      <td>Aug</td>\n",
       "      <td>186.927359</td>\n",
       "      <td>167</td>\n",
       "    </tr>\n",
       "    <tr>\n",
       "      <th>8</th>\n",
       "      <td>Sep</td>\n",
       "      <td>188.990761</td>\n",
       "      <td>109</td>\n",
       "    </tr>\n",
       "    <tr>\n",
       "      <th>9</th>\n",
       "      <td>Oct</td>\n",
       "      <td>179.334472</td>\n",
       "      <td>123</td>\n",
       "    </tr>\n",
       "    <tr>\n",
       "      <th>10</th>\n",
       "      <td>Nov</td>\n",
       "      <td>184.377495</td>\n",
       "      <td>103</td>\n",
       "    </tr>\n",
       "    <tr>\n",
       "      <th>11</th>\n",
       "      <td>Dec</td>\n",
       "      <td>182.459615</td>\n",
       "      <td>78</td>\n",
       "    </tr>\n",
       "  </tbody>\n",
       "</table>\n",
       "</div>"
      ],
      "text/plain": [
       "   month    av_price  sales\n",
       "0    Jan  195.126304     79\n",
       "1    Feb  177.626519    104\n",
       "2    Mar  174.625780    168\n",
       "3    Apr  163.901269    208\n",
       "4    May  180.332370    257\n",
       "5    Jun  182.662798    352\n",
       "6    Jul  188.571515    303\n",
       "7    Aug  186.927359    167\n",
       "8    Sep  188.990761    109\n",
       "9    Oct  179.334472    123\n",
       "10   Nov  184.377495    103\n",
       "11   Dec  182.459615     78"
      ]
     },
     "execution_count": 765,
     "metadata": {},
     "output_type": "execute_result"
    }
   ],
   "source": [
    "month_data = pd.DataFrame()\n",
    "month_data['month'] = ['Jan','Feb','Mar','Apr','May','Jun','Jul','Aug','Sep','Oct','Nov','Dec']\n",
    "month_data['av_price'] = list(month_sales/1000)\n",
    "month_data['sales'] = list(month_volumes)\n",
    "\n",
    "month_data"
   ]
  },
  {
   "cell_type": "code",
   "execution_count": 742,
   "metadata": {},
   "outputs": [
    {
     "data": {
      "image/png": "[encoded data removed]",
      "text/plain": [
       "<Figure size 720x720 with 1 Axes>"
      ]
     },
     "metadata": {
      "needs_background": "light"
     },
     "output_type": "display_data"
    }
   ],
   "source": [
    "# plot number of Sales and av price per month\n",
    "f, ax = plt.subplots(figsize=(10,10))\n",
    "sns.barplot(month_data['month'],month_data['sales'])\n",
    "sns.lineplot(data=month_data[\"av_price\"], color=\"coral\", label=\"Av Sale price $000\")\n",
    "plt.xlabel('Month')\n",
    "plt.ylabel('Number of sales')\n",
    "plt.title('When is the most active in Ames');\n"
   ]
  },
  {
   "cell_type": "markdown",
   "metadata": {},
   "source": [
    "### External features\n",
    "\n",
    "Least and most popular"
   ]
  },
  {
   "cell_type": "code",
   "execution_count": 766,
   "metadata": {},
   "outputs": [],
   "source": [
    "# Description: Exterior covering on house\n",
    "# Exterior dictionary\n",
    "\n",
    "exterior_dict = {\n",
    "    'ext1_AsbShng':'Asbestos Shingles',\n",
    "    'ext1_AsphShn':'Asphalt Shingles',\n",
    "    'ext1_BrkComm':'Brick Common',\n",
    "    'ext1_BrkFace':'Brick Face',\n",
    "    'ext1_CBlock':'Cinder Block',\n",
    "    'ext1_CemntBd':'Cement Board',\n",
    "    'ext1_HdBoard':'Hard Board',\n",
    "    'ext1_ImStucc':'Imitation Stucco',\n",
    "    'ext1_MetalSd':'Metal Siding',\n",
    "    'ext1_Other':'Other',\n",
    "    'ext1_Plywood':'Plywood',\n",
    "    'ext1_PreCast':'PreCast',\n",
    "    'ext1_Stone':'Stone',\n",
    "    'ext1_Stucco':'Stucco',\n",
    "    'ext1_VinylSd':'Vinyl Siding',\n",
    "    'ext1_Wd Sdng':'Wood Siding'\n",
    "}"
   ]
  },
  {
   "cell_type": "code",
   "execution_count": 767,
   "metadata": {},
   "outputs": [],
   "source": [
    "ext1_cols = [k for k,v in exterior_dict.items()]"
   ]
  },
  {
   "cell_type": "code",
   "execution_count": 768,
   "metadata": {},
   "outputs": [],
   "source": [
    "# update neighbourhood columns\n",
    "ext1_analysis_df = feature_df[feature_df['feature'].isin(ext1_cols)]\n",
    "ext1_analysis_df = ext1_analysis_df.replace({\"feature\": exterior_dict}) "
   ]
  },
  {
   "cell_type": "code",
   "execution_count": 769,
   "metadata": {},
   "outputs": [],
   "source": [
    "filtered_ext_feats = ext1_analysis_df.loc[ext1_analysis_df['coef']!=0,['feature','coef']]"
   ]
  },
  {
   "cell_type": "code",
   "execution_count": null,
   "metadata": {},
   "outputs": [],
   "source": []
  },
  {
   "cell_type": "code",
   "execution_count": 770,
   "metadata": {},
   "outputs": [
    {
     "data": {
      "image/png": "[encoded data removed]",
      "text/plain": [
       "<Figure size 720x720 with 1 Axes>"
      ]
     },
     "metadata": {
      "needs_background": "light"
     },
     "output_type": "display_data"
    }
   ],
   "source": [
    "# Create a graph for the external features\n",
    "f, ax = plt.subplots(figsize=(10,10))\n",
    "sns.barplot(filtered_ext_feats['coef'],filtered_ext_feats['feature']);\n",
    "plt.title(\"Desirable and undesirable external features\") \n",
    "plt.ylabel(\"Features\")\n",
    "plt.xlabel(\"How much it impacts sale price\") ;"
   ]
  },
  {
   "cell_type": "code",
   "execution_count": 771,
   "metadata": {},
   "outputs": [
    {
     "data": {
      "text/html": [
       "<div>\n",
       "<style scoped>\n",
       "    .dataframe tbody tr th:only-of-type {\n",
       "        vertical-align: middle;\n",
       "    }\n",
       "\n",
       "    .dataframe tbody tr th {\n",
       "        vertical-align: top;\n",
       "    }\n",
       "\n",
       "    .dataframe thead th {\n",
       "        text-align: right;\n",
       "    }\n",
       "</style>\n",
       "<table border=\"1\" class=\"dataframe\">\n",
       "  <thead>\n",
       "    <tr style=\"text-align: right;\">\n",
       "      <th></th>\n",
       "      <th>feature</th>\n",
       "      <th>coef</th>\n",
       "    </tr>\n",
       "  </thead>\n",
       "  <tbody>\n",
       "    <tr>\n",
       "      <th>35</th>\n",
       "      <td>garage_area</td>\n",
       "      <td>4657.212452</td>\n",
       "    </tr>\n",
       "    <tr>\n",
       "      <th>33</th>\n",
       "      <td>garage_yr_blt</td>\n",
       "      <td>-0.000000</td>\n",
       "    </tr>\n",
       "    <tr>\n",
       "      <th>36</th>\n",
       "      <td>garage_qual</td>\n",
       "      <td>-0.000000</td>\n",
       "    </tr>\n",
       "    <tr>\n",
       "      <th>37</th>\n",
       "      <td>garage_cond</td>\n",
       "      <td>-0.000000</td>\n",
       "    </tr>\n",
       "    <tr>\n",
       "      <th>34</th>\n",
       "      <td>garage_finish</td>\n",
       "      <td>-29.799016</td>\n",
       "    </tr>\n",
       "  </tbody>\n",
       "</table>\n",
       "</div>"
      ],
      "text/plain": [
       "          feature         coef\n",
       "35    garage_area  4657.212452\n",
       "33  garage_yr_blt    -0.000000\n",
       "36    garage_qual    -0.000000\n",
       "37    garage_cond    -0.000000\n",
       "34  garage_finish   -29.799016"
      ]
     },
     "execution_count": 771,
     "metadata": {},
     "output_type": "execute_result"
    }
   ],
   "source": [
    "garage_type_df = feature_df.loc[feature_df['feature'].str.contains('^gar'),['feature','coef']]\n",
    "garage_type_df"
   ]
  },
  {
   "cell_type": "code",
   "execution_count": 772,
   "metadata": {},
   "outputs": [
    {
     "data": {
      "text/html": [
       "<div>\n",
       "<style scoped>\n",
       "    .dataframe tbody tr th:only-of-type {\n",
       "        vertical-align: middle;\n",
       "    }\n",
       "\n",
       "    .dataframe tbody tr th {\n",
       "        vertical-align: top;\n",
       "    }\n",
       "\n",
       "    .dataframe thead th {\n",
       "        text-align: right;\n",
       "    }\n",
       "</style>\n",
       "<table border=\"1\" class=\"dataframe\">\n",
       "  <thead>\n",
       "    <tr style=\"text-align: right;\">\n",
       "      <th></th>\n",
       "      <th>feature</th>\n",
       "      <th>coef</th>\n",
       "    </tr>\n",
       "  </thead>\n",
       "  <tbody>\n",
       "    <tr>\n",
       "      <th>14</th>\n",
       "      <td>bsmtfin_sf_1</td>\n",
       "      <td>5751.533269</td>\n",
       "    </tr>\n",
       "    <tr>\n",
       "      <th>12</th>\n",
       "      <td>bsmt_exposure</td>\n",
       "      <td>5264.165170</td>\n",
       "    </tr>\n",
       "    <tr>\n",
       "      <th>10</th>\n",
       "      <td>bsmt_qual</td>\n",
       "      <td>3563.162085</td>\n",
       "    </tr>\n",
       "    <tr>\n",
       "      <th>22</th>\n",
       "      <td>bsmt_full_bath</td>\n",
       "      <td>2414.672403</td>\n",
       "    </tr>\n",
       "    <tr>\n",
       "      <th>13</th>\n",
       "      <td>bsmtfin_type_1</td>\n",
       "      <td>1247.929064</td>\n",
       "    </tr>\n",
       "    <tr>\n",
       "      <th>16</th>\n",
       "      <td>bsmtfin_sf_2</td>\n",
       "      <td>808.065076</td>\n",
       "    </tr>\n",
       "    <tr>\n",
       "      <th>17</th>\n",
       "      <td>bsmt_unf_sf</td>\n",
       "      <td>-0.000000</td>\n",
       "    </tr>\n",
       "    <tr>\n",
       "      <th>23</th>\n",
       "      <td>bsmt_half_bath</td>\n",
       "      <td>-0.000000</td>\n",
       "    </tr>\n",
       "    <tr>\n",
       "      <th>15</th>\n",
       "      <td>bsmtfin_type_2</td>\n",
       "      <td>0.000000</td>\n",
       "    </tr>\n",
       "    <tr>\n",
       "      <th>11</th>\n",
       "      <td>bsmt_cond</td>\n",
       "      <td>-404.007511</td>\n",
       "    </tr>\n",
       "  </tbody>\n",
       "</table>\n",
       "</div>"
      ],
      "text/plain": [
       "           feature         coef\n",
       "14    bsmtfin_sf_1  5751.533269\n",
       "12   bsmt_exposure  5264.165170\n",
       "10       bsmt_qual  3563.162085\n",
       "22  bsmt_full_bath  2414.672403\n",
       "13  bsmtfin_type_1  1247.929064\n",
       "16    bsmtfin_sf_2   808.065076\n",
       "17     bsmt_unf_sf    -0.000000\n",
       "23  bsmt_half_bath    -0.000000\n",
       "15  bsmtfin_type_2     0.000000\n",
       "11       bsmt_cond  -404.007511"
      ]
     },
     "execution_count": 772,
     "metadata": {},
     "output_type": "execute_result"
    }
   ],
   "source": [
    "basement_df = feature_df.loc[feature_df['feature'].str.contains('^bsmt'),['feature','coef']]\n",
    "basement_df"
   ]
  },
  {
   "cell_type": "code",
   "execution_count": 773,
   "metadata": {},
   "outputs": [],
   "source": [
    "# Description: Basement factors\n",
    "# Basement dictionary\n",
    "\n",
    "basement_dict = {\n",
    "    'bsmt_exposure':'Basment walkout or garden level walls',\n",
    "    'bsmtfin_sf_1':'Type 1 Basement: quality sqft',\n",
    "    'bsmt_qual':'Height of the basement',\n",
    "    'bsmt_full_bath':'Basement full bathrooms',\n",
    "    'bsmtfin_type_1':'Quality of basement finished area',\n",
    "    'bsmtfin_sf_2':'Type 2 Basement: quality sqft',\n",
    "    'bsmt_half_bath':'Basement half bathrooms',\n",
    "    'bsmtfin_type_2':'Quality of basement finished area',\n",
    "    'bsmt_unf_sf':'Unfinished sqft',\n",
    "    'bsmt_cond':'General condition of the basement'\n",
    "}"
   ]
  },
  {
   "cell_type": "code",
   "execution_count": 775,
   "metadata": {},
   "outputs": [
    {
     "data": {
      "image/png": "[encoded data removed]",
      "text/plain": [
       "<Figure size 720x720 with 1 Axes>"
      ]
     },
     "metadata": {
      "needs_background": "light"
     },
     "output_type": "display_data"
    }
   ],
   "source": [
    "basement_cols = [k for k,v in basement_dict.items()]\n",
    "\n",
    "# update neighbourhood columns\n",
    "basement_analysis_df = feature_nbhd_df[feature_nbhd_df['feature'].isin(basement_cols)]\n",
    "basement_analysis_df = basement_analysis_df.replace({\"feature\": basement_dict}) \n",
    "\n",
    "filtered_basement_feats = basement_analysis_df.loc[basement_analysis_df['coef']!=0,['feature','coef']]\n",
    "\n",
    "# Create a graph for the Neighborhoods\n",
    "f, ax = plt.subplots(figsize=(10,10))\n",
    "sns.barplot(filtered_basement_feats['coef'],filtered_basement_feats['feature']);\n",
    "plt.title(\"Key Basement Features\") \n",
    "plt.ylabel(\"Basement Features\")\n",
    "plt.xlabel(\"Importance in the model\") ;"
   ]
  },
  {
   "cell_type": "code",
   "execution_count": null,
   "metadata": {},
   "outputs": [],
   "source": []
  },
  {
   "cell_type": "code",
   "execution_count": null,
   "metadata": {},
   "outputs": [],
   "source": [
    "# Create Neighborhoods dictionary to enable clearer plots\n",
    "neighborhood_dict = {'Blmngtn':'Bloomington Heights',\n",
    "                    'Blueste':'Bluestem',\n",
    "                    'BrDale':'Briardale',\n",
    "                    'BrkSide':'Brookside',\n",
    "                    'ClearCr':'Clear Creek',\n",
    "                    'CollgCr':'College Creek',\n",
    "                    'Crawfor':'Crawford',\n",
    "                    'Edwards':'Edwards',\n",
    "                    'Gilbert':'Gilbert',\n",
    "                    'IDOTRR':'Iowa DOT and Rail Road',\n",
    "                    'MeadowV':'Meadow Village',\n",
    "                    'Mitchel':'Mitchell',\n",
    "                    'Names':'North Ames',\n",
    "                    'NoRidge':'Northridge',\n",
    "                    'NPkVill':'Northpark Villa',\n",
    "                    'NridgHt':'Northridge Heights',\n",
    "                    'NWAmes':'Northwest Ames',\n",
    "                    'OldTown':'Old Town',\n",
    "                    'SWISU':'South & West of Iowa State University',\n",
    "                    'Sawyer':'Sawyer',\n",
    "                    'SawyerW':'Sawyer West',\n",
    "                    'Somerst':'Somerset',\n",
    "                    'StoneBr':'Stone Brook',\n",
    "                    'Timber':'Timberland'}"
   ]
  },
  {
   "cell_type": "markdown",
   "metadata": {},
   "source": [
    "---"
   ]
  },
  {
   "cell_type": "markdown",
   "metadata": {},
   "source": [
    "## Test Kaggle"
   ]
  },
  {
   "cell_type": "code",
   "execution_count": 348,
   "metadata": {},
   "outputs": [],
   "source": [
    "test_features = [col for col in ames_test._get_numeric_data().columns if col != 'saleprice' \n",
    "                                                                              and col != 'id' \n",
    "                                                                              and col != 'pid'\n",
    "                                                                              and col != 'sale_type'\n",
    "                                                                              and col != 'roof_matl'\n",
    "                                                                              and col != 'roof_style'\n",
    "                                                                              and col != 'paved_drive'\n",
    "                                                                              and col != 'misc_features'\n",
    "                                                                              and col != 'garage_cars']\n",
    "\n",
    "X = ames_test[test_features]"
   ]
  },
  {
   "cell_type": "code",
   "execution_count": 349,
   "metadata": {},
   "outputs": [],
   "source": [
    "# Scale the data\n",
    "ss = StandardScaler()\n",
    "ss.fit(X)\n",
    "X = ss.transform(X)"
   ]
  },
  {
   "cell_type": "code",
   "execution_count": 350,
   "metadata": {},
   "outputs": [],
   "source": [
    "yhat = enet_dm.predict(X)"
   ]
  },
  {
   "cell_type": "code",
   "execution_count": 351,
   "metadata": {},
   "outputs": [],
   "source": [
    "predictions = pd.DataFrame(columns=['Id','SalePrice'])"
   ]
  },
  {
   "cell_type": "code",
   "execution_count": 352,
   "metadata": {},
   "outputs": [],
   "source": [
    "predictions['Id'] = ames_test['id']"
   ]
  },
  {
   "cell_type": "code",
   "execution_count": 353,
   "metadata": {},
   "outputs": [],
   "source": [
    "predictions['SalePrice'] = yhat"
   ]
  },
  {
   "cell_type": "code",
   "execution_count": 354,
   "metadata": {},
   "outputs": [],
   "source": [
    "#predictions.to_csv('./datasets/outputs/predictions2.csv', index=False)"
   ]
  },
  {
   "cell_type": "markdown",
   "metadata": {},
   "source": [
    "---"
   ]
  },
  {
   "cell_type": "markdown",
   "metadata": {},
   "source": [
    "## Kaggle Submisison"
   ]
  },
  {
   "cell_type": "markdown",
   "metadata": {},
   "source": [
    "![Kaggle Submission and Score](images/kaggle_score.png \"Kaggle Submission\")"
   ]
  }
 ],
 "metadata": {
  "kernelspec": {
   "display_name": "Python 3",
   "language": "python",
   "name": "python3"
  },
  "language_info": {
   "codemirror_mode": {
    "name": "ipython",
    "version": 3
   },
   "file_extension": ".py",
   "mimetype": "text/x-python",
   "name": "python",
   "nbconvert_exporter": "python",
   "pygments_lexer": "ipython3",
   "version": "3.7.6"
  }
 },
 "nbformat": 4,
 "nbformat_minor": 4
}
