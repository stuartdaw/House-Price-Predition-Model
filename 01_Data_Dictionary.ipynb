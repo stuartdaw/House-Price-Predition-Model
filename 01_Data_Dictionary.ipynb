{
 "cells": [
  {
   "cell_type": "markdown",
   "metadata": {},
   "source": [
    "# Data dictionary quick reference"
   ]
  },
  {
   "cell_type": "code",
   "execution_count": 248,
   "metadata": {},
   "outputs": [],
   "source": [
    "import ipywidgets as widgets\n",
    "import pandas as pd"
   ]
  },
  {
   "cell_type": "markdown",
   "metadata": {},
   "source": [
    "[Source: Data Dictionary Text](https://www.kaggle.com/c/dsi-us-6-project-2-regression-challenge/data)"
   ]
  },
  {
   "cell_type": "code",
   "execution_count": 331,
   "metadata": {},
   "outputs": [],
   "source": [
    "# read data dictionary into a dictionary\n",
    "data_dic = {}\n",
    "get_values = []\n",
    "key = ''\n",
    "with open(\"./datasets/inputs/Data_dic.txt\") as dict_file:\n",
    "    for line in dict_file:\n",
    "        get_values = line.strip().rstrip('\\n').split(':')\n",
    "        if ':' in line:\n",
    "            key = get_values[0].replace(\" \",\"_\").lower()\n",
    "            data_dic[key] = [get_values[1].strip()]\n",
    "        else:\n",
    "            data_dic[key].extend(get_values)\n",
    "\n",
    "# save so I can use in other notebooks\n",
    "f = open(\"./datasets/outputs/data_dic_reuse.txt\",\"w\")\n",
    "f.write(str(data_dic))\n",
    "f.close()            "
   ]
  },
  {
   "cell_type": "code",
   "execution_count": 251,
   "metadata": {},
   "outputs": [
    {
     "data": {
      "application/vnd.jupyter.widget-view+json": {
       "model_id": "b130e9ba7c844ac1a588ea818d939d15",
       "version_major": 2,
       "version_minor": 0
      },
      "text/plain": [
       "Dropdown(options=('mssubclass', 'mszoning', 'lotfrontage', 'lotarea', 'street', 'alley', 'lotshape', 'landcont…"
      ]
     },
     "metadata": {},
     "output_type": "display_data"
    }
   ],
   "source": [
    "## Select Column You want to explore\n",
    "\n",
    "dropdown = widgets.Dropdown(options=list(data_dic.keys()))\n",
    "display(dropdown)"
   ]
  },
  {
   "cell_type": "code",
   "execution_count": 626,
   "metadata": {},
   "outputs": [
    {
     "name": "stdout",
     "output_type": "stream",
     "text": [
      "Description:\n",
      "\tAbove grade (ground) living area square feet\n",
      "Categories:\n"
     ]
    }
   ],
   "source": [
    "## View Column Attributes - run cell to return selected value above\n",
    "\n",
    "print(f\"Description:\\n\\t{data_dic[dropdown.value][0]}\")\n",
    "print(\"Categories:\")\n",
    "for x in range(1,len(data_dic[dropdown.value][1:])):\n",
    "    print(f\"\\t{data_dic[dropdown.value][x]}\")"
   ]
  },
  {
   "cell_type": "markdown",
   "metadata": {},
   "source": [
    "---"
   ]
  },
  {
   "cell_type": "markdown",
   "metadata": {},
   "source": [
    "# Create Data dictionary"
   ]
  },
  {
   "cell_type": "markdown",
   "metadata": {},
   "source": [
    "---"
   ]
  },
  {
   "cell_type": "code",
   "execution_count": 493,
   "metadata": {},
   "outputs": [],
   "source": [
    "ames_train = pd.read_csv('./datasets/inputs/train.csv')"
   ]
  },
  {
   "cell_type": "code",
   "execution_count": 494,
   "metadata": {},
   "outputs": [],
   "source": [
    "# get column names\n",
    "cols = list(ames_train.columns)\n",
    "# replace the spaces and make lower case\n",
    "new_cols = [x.replace(\" \",\"_\").lower() for x in cols]"
   ]
  },
  {
   "cell_type": "code",
   "execution_count": 495,
   "metadata": {},
   "outputs": [],
   "source": [
    "#create dictionary\n",
    "new_cols_dic = dict(zip(cols, new_cols))\n",
    "\n",
    "# rename columns\n",
    "ames_train.rename(columns=new_cols_dic, inplace=True)"
   ]
  },
  {
   "cell_type": "code",
   "execution_count": 498,
   "metadata": {},
   "outputs": [],
   "source": [
    "data_type_list = list(ames_train.iloc[:,0:82].dtypes)\n",
    "data_type_list;"
   ]
  },
  {
   "cell_type": "code",
   "execution_count": 499,
   "metadata": {},
   "outputs": [],
   "source": [
    "# create dataframe for dictionary for reference\n",
    "\n",
    "dt_df = pd.DataFrame(zip(ames_train, data_type_list))\n",
    "dt_df.rename(columns={0:'feature'}, inplace=True)\n",
    "dt_df.rename(columns={1:'data_type'}, inplace=True)"
   ]
  },
  {
   "cell_type": "code",
   "execution_count": 501,
   "metadata": {},
   "outputs": [],
   "source": [
    "# get column datatypes\n",
    "dt_df['clean_dt'] = dt_df['data_type'].apply(lambda x: str(x))\n",
    "    \n",
    "dt_df['clean_dt'] = dt_df['data_type'].apply(lambda x: \"int\" if str(x) == \"int64\" else \"float\" \n",
    "                                                if str(x) == \"float64\" else \"string\")"
   ]
  },
  {
   "cell_type": "code",
   "execution_count": 502,
   "metadata": {},
   "outputs": [
    {
     "data": {
      "text/html": [
       "<div>\n",
       "<style scoped>\n",
       "    .dataframe tbody tr th:only-of-type {\n",
       "        vertical-align: middle;\n",
       "    }\n",
       "\n",
       "    .dataframe tbody tr th {\n",
       "        vertical-align: top;\n",
       "    }\n",
       "\n",
       "    .dataframe thead th {\n",
       "        text-align: right;\n",
       "    }\n",
       "</style>\n",
       "<table border=\"1\" class=\"dataframe\">\n",
       "  <thead>\n",
       "    <tr style=\"text-align: right;\">\n",
       "      <th></th>\n",
       "      <th>feature</th>\n",
       "      <th>data_type</th>\n",
       "      <th>clean_dt</th>\n",
       "    </tr>\n",
       "  </thead>\n",
       "  <tbody>\n",
       "    <tr>\n",
       "      <th>0</th>\n",
       "      <td>id</td>\n",
       "      <td>int64</td>\n",
       "      <td>int</td>\n",
       "    </tr>\n",
       "    <tr>\n",
       "      <th>1</th>\n",
       "      <td>pid</td>\n",
       "      <td>int64</td>\n",
       "      <td>int</td>\n",
       "    </tr>\n",
       "    <tr>\n",
       "      <th>2</th>\n",
       "      <td>ms_subclass</td>\n",
       "      <td>int64</td>\n",
       "      <td>int</td>\n",
       "    </tr>\n",
       "    <tr>\n",
       "      <th>3</th>\n",
       "      <td>ms_zoning</td>\n",
       "      <td>object</td>\n",
       "      <td>string</td>\n",
       "    </tr>\n",
       "    <tr>\n",
       "      <th>4</th>\n",
       "      <td>lot_frontage</td>\n",
       "      <td>float64</td>\n",
       "      <td>float</td>\n",
       "    </tr>\n",
       "  </tbody>\n",
       "</table>\n",
       "</div>"
      ],
      "text/plain": [
       "        feature data_type clean_dt\n",
       "0            id     int64      int\n",
       "1           pid     int64      int\n",
       "2   ms_subclass     int64      int\n",
       "3     ms_zoning    object   string\n",
       "4  lot_frontage   float64    float"
      ]
     },
     "execution_count": 502,
     "metadata": {},
     "output_type": "execute_result"
    }
   ],
   "source": [
    "dt_df.head()"
   ]
  },
  {
   "cell_type": "code",
   "execution_count": 503,
   "metadata": {},
   "outputs": [],
   "source": [
    "# remove old data type values\n",
    "dt_df.drop('data_type', axis=1, inplace=True)"
   ]
  },
  {
   "cell_type": "code",
   "execution_count": 504,
   "metadata": {},
   "outputs": [],
   "source": [
    "# create a column with data source entry\n",
    "dt_df['dataset'] = 'train'"
   ]
  },
  {
   "cell_type": "code",
   "execution_count": 506,
   "metadata": {},
   "outputs": [
    {
     "data": {
      "text/html": [
       "<div>\n",
       "<style scoped>\n",
       "    .dataframe tbody tr th:only-of-type {\n",
       "        vertical-align: middle;\n",
       "    }\n",
       "\n",
       "    .dataframe tbody tr th {\n",
       "        vertical-align: top;\n",
       "    }\n",
       "\n",
       "    .dataframe thead th {\n",
       "        text-align: right;\n",
       "    }\n",
       "</style>\n",
       "<table border=\"1\" class=\"dataframe\">\n",
       "  <thead>\n",
       "    <tr style=\"text-align: right;\">\n",
       "      <th></th>\n",
       "      <th>feature</th>\n",
       "      <th>clean_dt</th>\n",
       "      <th>dataset</th>\n",
       "    </tr>\n",
       "  </thead>\n",
       "  <tbody>\n",
       "    <tr>\n",
       "      <th>61</th>\n",
       "      <td>garage_finish</td>\n",
       "      <td>string</td>\n",
       "      <td>train</td>\n",
       "    </tr>\n",
       "    <tr>\n",
       "      <th>62</th>\n",
       "      <td>garage_cars</td>\n",
       "      <td>float</td>\n",
       "      <td>train</td>\n",
       "    </tr>\n",
       "    <tr>\n",
       "      <th>63</th>\n",
       "      <td>garage_area</td>\n",
       "      <td>float</td>\n",
       "      <td>train</td>\n",
       "    </tr>\n",
       "    <tr>\n",
       "      <th>64</th>\n",
       "      <td>garage_qual</td>\n",
       "      <td>string</td>\n",
       "      <td>train</td>\n",
       "    </tr>\n",
       "    <tr>\n",
       "      <th>65</th>\n",
       "      <td>garage_cond</td>\n",
       "      <td>string</td>\n",
       "      <td>train</td>\n",
       "    </tr>\n",
       "    <tr>\n",
       "      <th>66</th>\n",
       "      <td>paved_drive</td>\n",
       "      <td>string</td>\n",
       "      <td>train</td>\n",
       "    </tr>\n",
       "    <tr>\n",
       "      <th>67</th>\n",
       "      <td>wood_deck_sf</td>\n",
       "      <td>int</td>\n",
       "      <td>train</td>\n",
       "    </tr>\n",
       "    <tr>\n",
       "      <th>68</th>\n",
       "      <td>open_porch_sf</td>\n",
       "      <td>int</td>\n",
       "      <td>train</td>\n",
       "    </tr>\n",
       "    <tr>\n",
       "      <th>69</th>\n",
       "      <td>enclosed_porch</td>\n",
       "      <td>int</td>\n",
       "      <td>train</td>\n",
       "    </tr>\n",
       "    <tr>\n",
       "      <th>70</th>\n",
       "      <td>3ssn_porch</td>\n",
       "      <td>int</td>\n",
       "      <td>train</td>\n",
       "    </tr>\n",
       "    <tr>\n",
       "      <th>71</th>\n",
       "      <td>screen_porch</td>\n",
       "      <td>int</td>\n",
       "      <td>train</td>\n",
       "    </tr>\n",
       "    <tr>\n",
       "      <th>72</th>\n",
       "      <td>pool_area</td>\n",
       "      <td>int</td>\n",
       "      <td>train</td>\n",
       "    </tr>\n",
       "    <tr>\n",
       "      <th>73</th>\n",
       "      <td>pool_qc</td>\n",
       "      <td>string</td>\n",
       "      <td>train</td>\n",
       "    </tr>\n",
       "    <tr>\n",
       "      <th>74</th>\n",
       "      <td>fence</td>\n",
       "      <td>string</td>\n",
       "      <td>train</td>\n",
       "    </tr>\n",
       "    <tr>\n",
       "      <th>75</th>\n",
       "      <td>misc_feature</td>\n",
       "      <td>string</td>\n",
       "      <td>train</td>\n",
       "    </tr>\n",
       "    <tr>\n",
       "      <th>76</th>\n",
       "      <td>misc_val</td>\n",
       "      <td>int</td>\n",
       "      <td>train</td>\n",
       "    </tr>\n",
       "    <tr>\n",
       "      <th>77</th>\n",
       "      <td>mo_sold</td>\n",
       "      <td>int</td>\n",
       "      <td>train</td>\n",
       "    </tr>\n",
       "    <tr>\n",
       "      <th>78</th>\n",
       "      <td>yr_sold</td>\n",
       "      <td>int</td>\n",
       "      <td>train</td>\n",
       "    </tr>\n",
       "    <tr>\n",
       "      <th>79</th>\n",
       "      <td>sale_type</td>\n",
       "      <td>string</td>\n",
       "      <td>train</td>\n",
       "    </tr>\n",
       "    <tr>\n",
       "      <th>80</th>\n",
       "      <td>saleprice</td>\n",
       "      <td>int</td>\n",
       "      <td>train</td>\n",
       "    </tr>\n",
       "  </tbody>\n",
       "</table>\n",
       "</div>"
      ],
      "text/plain": [
       "           feature clean_dt dataset\n",
       "61   garage_finish   string   train\n",
       "62     garage_cars    float   train\n",
       "63     garage_area    float   train\n",
       "64     garage_qual   string   train\n",
       "65     garage_cond   string   train\n",
       "66     paved_drive   string   train\n",
       "67    wood_deck_sf      int   train\n",
       "68   open_porch_sf      int   train\n",
       "69  enclosed_porch      int   train\n",
       "70      3ssn_porch      int   train\n",
       "71    screen_porch      int   train\n",
       "72       pool_area      int   train\n",
       "73         pool_qc   string   train\n",
       "74           fence   string   train\n",
       "75    misc_feature   string   train\n",
       "76        misc_val      int   train\n",
       "77         mo_sold      int   train\n",
       "78         yr_sold      int   train\n",
       "79       sale_type   string   train\n",
       "80       saleprice      int   train"
      ]
     },
     "execution_count": 506,
     "metadata": {},
     "output_type": "execute_result"
    }
   ],
   "source": [
    "# rename column appropriately\n",
    "dt_df.rename(columns={'index':'feature'});\n",
    "dt_df.tail(20)"
   ]
  },
  {
   "cell_type": "markdown",
   "metadata": {},
   "source": [
    "---"
   ]
  },
  {
   "cell_type": "markdown",
   "metadata": {},
   "source": [
    "## Create data dictionary for Read.me\n"
   ]
  },
  {
   "cell_type": "code",
   "execution_count": 507,
   "metadata": {},
   "outputs": [],
   "source": [
    "# Get features list\n",
    "comp_data_set = list(ames_train.columns)"
   ]
  },
  {
   "cell_type": "code",
   "execution_count": 508,
   "metadata": {},
   "outputs": [],
   "source": [
    "# Get descriptions\n",
    "desc_list = []\n",
    "for k,v in data_dic.items():\n",
    "    desc_list.append(v[0])"
   ]
  },
  {
   "cell_type": "code",
   "execution_count": 509,
   "metadata": {},
   "outputs": [],
   "source": [
    "# Add description for missing rows\n",
    "desc_list.append('Price property was sold for')\n",
    "desc_list.insert(0, \"Row number\")\n",
    "desc_list.insert(0, \"Property number\")"
   ]
  },
  {
   "cell_type": "code",
   "execution_count": 512,
   "metadata": {},
   "outputs": [
    {
     "data": {
      "text/html": [
       "<div>\n",
       "<style scoped>\n",
       "    .dataframe tbody tr th:only-of-type {\n",
       "        vertical-align: middle;\n",
       "    }\n",
       "\n",
       "    .dataframe tbody tr th {\n",
       "        vertical-align: top;\n",
       "    }\n",
       "\n",
       "    .dataframe thead th {\n",
       "        text-align: right;\n",
       "    }\n",
       "</style>\n",
       "<table border=\"1\" class=\"dataframe\">\n",
       "  <thead>\n",
       "    <tr style=\"text-align: right;\">\n",
       "      <th></th>\n",
       "      <th>feature</th>\n",
       "      <th>clean_dt</th>\n",
       "      <th>dataset</th>\n",
       "      <th>description</th>\n",
       "    </tr>\n",
       "  </thead>\n",
       "  <tbody>\n",
       "    <tr>\n",
       "      <th>0</th>\n",
       "      <td>id</td>\n",
       "      <td>int</td>\n",
       "      <td>train</td>\n",
       "      <td>Property number</td>\n",
       "    </tr>\n",
       "    <tr>\n",
       "      <th>1</th>\n",
       "      <td>pid</td>\n",
       "      <td>int</td>\n",
       "      <td>train</td>\n",
       "      <td>Row number</td>\n",
       "    </tr>\n",
       "    <tr>\n",
       "      <th>2</th>\n",
       "      <td>ms_subclass</td>\n",
       "      <td>int</td>\n",
       "      <td>train</td>\n",
       "      <td>The building class</td>\n",
       "    </tr>\n",
       "    <tr>\n",
       "      <th>3</th>\n",
       "      <td>ms_zoning</td>\n",
       "      <td>string</td>\n",
       "      <td>train</td>\n",
       "      <td>Identifies the general zoning classification o...</td>\n",
       "    </tr>\n",
       "    <tr>\n",
       "      <th>4</th>\n",
       "      <td>lot_frontage</td>\n",
       "      <td>float</td>\n",
       "      <td>train</td>\n",
       "      <td>Linear feet of street connected to property</td>\n",
       "    </tr>\n",
       "    <tr>\n",
       "      <th>...</th>\n",
       "      <td>...</td>\n",
       "      <td>...</td>\n",
       "      <td>...</td>\n",
       "      <td>...</td>\n",
       "    </tr>\n",
       "    <tr>\n",
       "      <th>76</th>\n",
       "      <td>misc_val</td>\n",
       "      <td>int</td>\n",
       "      <td>train</td>\n",
       "      <td>$Value of miscellaneous feature</td>\n",
       "    </tr>\n",
       "    <tr>\n",
       "      <th>77</th>\n",
       "      <td>mo_sold</td>\n",
       "      <td>int</td>\n",
       "      <td>train</td>\n",
       "      <td>Month Sold</td>\n",
       "    </tr>\n",
       "    <tr>\n",
       "      <th>78</th>\n",
       "      <td>yr_sold</td>\n",
       "      <td>int</td>\n",
       "      <td>train</td>\n",
       "      <td>Year Sold</td>\n",
       "    </tr>\n",
       "    <tr>\n",
       "      <th>79</th>\n",
       "      <td>sale_type</td>\n",
       "      <td>string</td>\n",
       "      <td>train</td>\n",
       "      <td>Type of sale</td>\n",
       "    </tr>\n",
       "    <tr>\n",
       "      <th>80</th>\n",
       "      <td>saleprice</td>\n",
       "      <td>int</td>\n",
       "      <td>train</td>\n",
       "      <td>Price property was sold for</td>\n",
       "    </tr>\n",
       "  </tbody>\n",
       "</table>\n",
       "<p>81 rows × 4 columns</p>\n",
       "</div>"
      ],
      "text/plain": [
       "         feature clean_dt dataset  \\\n",
       "0             id      int   train   \n",
       "1            pid      int   train   \n",
       "2    ms_subclass      int   train   \n",
       "3      ms_zoning   string   train   \n",
       "4   lot_frontage    float   train   \n",
       "..           ...      ...     ...   \n",
       "76      misc_val      int   train   \n",
       "77       mo_sold      int   train   \n",
       "78       yr_sold      int   train   \n",
       "79     sale_type   string   train   \n",
       "80     saleprice      int   train   \n",
       "\n",
       "                                          description  \n",
       "0                                     Property number  \n",
       "1                                          Row number  \n",
       "2                                  The building class  \n",
       "3   Identifies the general zoning classification o...  \n",
       "4         Linear feet of street connected to property  \n",
       "..                                                ...  \n",
       "76                    $Value of miscellaneous feature  \n",
       "77                                         Month Sold  \n",
       "78                                          Year Sold  \n",
       "79                                       Type of sale  \n",
       "80                        Price property was sold for  \n",
       "\n",
       "[81 rows x 4 columns]"
      ]
     },
     "execution_count": 512,
     "metadata": {},
     "output_type": "execute_result"
    }
   ],
   "source": [
    "# create a column with data source entry\n",
    "dt_df['description'] = desc_list\n",
    "dt_df"
   ]
  },
  {
   "cell_type": "code",
   "execution_count": 513,
   "metadata": {},
   "outputs": [],
   "source": [
    "dt_df.to_csv('./datasets/outputs/data_dictionary_df.csv')"
   ]
  },
  {
   "cell_type": "code",
   "execution_count": 515,
   "metadata": {
    "scrolled": false
   },
   "outputs": [
    {
     "name": "stdout",
     "output_type": "stream",
     "text": [
      "|Feature|Type|Dataset|Description|\n",
      "|---|---|---|---|\n",
      "| id | int | train | Property number |\n",
      "| pid | int | train | Row number |\n",
      "| ms_subclass | int | train | The building class |\n",
      "| ms_zoning | string | train | Identifies the general zoning classification of the sale. |\n",
      "| lot_frontage | float | train | Linear feet of street connected to property |\n",
      "| lot_area | int | train | Lot size in square feet |\n",
      "| street | string | train | Type of road access to property |\n",
      "| alley | string | train | Type of alley access to property |\n",
      "| lot_shape | string | train | General shape of property |\n",
      "| land_contour | string | train | Flatness of the property |\n",
      "| utilities | string | train | Type of utilities available |\n",
      "| lot_config | string | train | Lot configuration |\n",
      "| land_slope | string | train | Slope of property |\n",
      "| neighborhood | string | train | Physical locations within Ames city limits |\n",
      "| condition_1 | string | train | Proximity to main road or railroad |\n",
      "| condition_2 | string | train | Proximity to main road or railroad (if a second is present) |\n",
      "| bldg_type | string | train | Type of dwelling |\n",
      "| house_style | string | train | Style of dwelling |\n",
      "| overall_qual | int | train | Overall material and finish quality |\n",
      "| overall_cond | int | train | Overall condition rating |\n",
      "| year_built | int | train | Original construction date |\n",
      "| year_remod/add | int | train | Remodel date (same as construction date if no remodeling or additions) |\n",
      "| roof_style | string | train | Type of roof |\n",
      "| roof_matl | string | train | Roof material |\n",
      "| exterior_1st | string | train | Exterior covering on house |\n",
      "| exterior_2nd | string | train | Exterior covering on house (if more than one material) |\n",
      "| mas_vnr_type | string | train | Masonry veneer type |\n",
      "| mas_vnr_area | float | train | Masonry veneer area in square feet |\n",
      "| exter_qual | string | train | Exterior material quality |\n",
      "| exter_cond | string | train | Present condition of the material on the exterior |\n",
      "| foundation | string | train | Type of foundation |\n",
      "| bsmt_qual | string | train | Height of the basement |\n",
      "| bsmt_cond | string | train | General condition of the basement |\n",
      "| bsmt_exposure | string | train | Walkout or garden level basement walls |\n",
      "| bsmtfin_type_1 | string | train | Quality of basement finished area |\n",
      "| bsmtfin_sf_1 | float | train | Type 1 finished square feet |\n",
      "| bsmtfin_type_2 | string | train | Quality of second finished area (if present) |\n",
      "| bsmtfin_sf_2 | float | train | Type 2 finished square feet |\n",
      "| bsmt_unf_sf | float | train | Unfinished square feet of basement area |\n",
      "| total_bsmt_sf | float | train | Total square feet of basement area |\n",
      "| heating | string | train | Type of heating |\n",
      "| heating_qc | string | train | Heating quality and condition |\n",
      "| central_air | string | train | Central air conditioning |\n",
      "| electrical | string | train | Electrical system |\n",
      "| 1st_flr_sf | int | train | First Floor square feet |\n",
      "| 2nd_flr_sf | int | train | Second floor square feet |\n",
      "| low_qual_fin_sf | int | train | Low quality finished square feet (all floors) |\n",
      "| gr_liv_area | int | train | Above grade (ground) living area square feet |\n",
      "| bsmt_full_bath | float | train | Basement full bathrooms |\n",
      "| bsmt_half_bath | float | train | Basement half bathrooms |\n",
      "| full_bath | int | train | Full bathrooms above grade |\n",
      "| half_bath | int | train | Half baths above grade |\n",
      "| bedroom_abvgr | int | train | Number of bedrooms above basement level |\n",
      "| kitchen_abvgr | int | train | Number of kitchens |\n",
      "| kitchen_qual | string | train | Kitchen quality |\n",
      "| totrms_abvgrd | int | train | Total rooms above grade (does not include bathrooms) |\n",
      "| functional | string | train | Home functionality rating |\n",
      "| fireplaces | int | train | Number of fireplaces |\n",
      "| fireplace_qu | string | train | Fireplace quality |\n",
      "| garage_type | string | train | Garage location |\n",
      "| garage_yr_blt | float | train | Year garage was built |\n",
      "| garage_finish | string | train | Interior finish of the garage |\n",
      "| garage_cars | float | train | Size of garage in car capacity |\n",
      "| garage_area | float | train | Size of garage in square feet |\n",
      "| garage_qual | string | train | Garage quality |\n",
      "| garage_cond | string | train | Garage condition |\n",
      "| paved_drive | string | train | Paved driveway |\n",
      "| wood_deck_sf | int | train | Wood deck area in square feet |\n",
      "| open_porch_sf | int | train | Open porch area in square feet |\n",
      "| enclosed_porch | int | train | Enclosed porch area in square feet |\n",
      "| 3ssn_porch | int | train | Three season porch area in square feet |\n",
      "| screen_porch | int | train | Screen porch area in square feet |\n",
      "| pool_area | int | train | Pool area in square feet |\n",
      "| pool_qc | string | train | Pool quality |\n",
      "| fence | string | train | Fence quality |\n",
      "| misc_feature | string | train | Miscellaneous feature not covered in other categories |\n",
      "| misc_val | int | train | $Value of miscellaneous feature |\n",
      "| mo_sold | int | train | Month Sold |\n",
      "| yr_sold | int | train | Year Sold |\n",
      "| sale_type | string | train | Type of sale |\n",
      "| saleprice | int | train | Price property was sold for |\n",
      "\n"
     ]
    }
   ],
   "source": [
    "dic_str = '|Feature|Type|Dataset|Description|\\n|---|---|---|---|\\n'\n",
    "dt_dict = dt_df.to_dict('index')\n",
    "for key, inner_dic in dt_dict.items():\n",
    "    for k,v in inner_dic.items():\n",
    "        dic_str += '| ' + str(inner_dic[k]) + \" \"\n",
    "    dic_str += '|\\n' \n",
    "\n",
    "# print and copy into read.me file\n",
    "print(dic_str)"
   ]
  },
  {
   "cell_type": "code",
   "execution_count": null,
   "metadata": {},
   "outputs": [],
   "source": []
  },
  {
   "cell_type": "code",
   "execution_count": null,
   "metadata": {},
   "outputs": [],
   "source": []
  }
 ],
 "metadata": {
  "kernelspec": {
   "display_name": "Python 3",
   "language": "python",
   "name": "python3"
  },
  "language_info": {
   "codemirror_mode": {
    "name": "ipython",
    "version": 3
   },
   "file_extension": ".py",
   "mimetype": "text/x-python",
   "name": "python",
   "nbconvert_exporter": "python",
   "pygments_lexer": "ipython3",
   "version": "3.7.6"
  }
 },
 "nbformat": 4,
 "nbformat_minor": 4
}
