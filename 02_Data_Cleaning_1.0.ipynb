{
 "cells": [
  {
   "cell_type": "markdown",
   "metadata": {},
   "source": [
    "# Problem Statement\n",
    "\n",
    "1. IDEAL\n",
    "\n",
    "The ideal scenario is that the regression model I produce will be able to accurately predict the house price of previously unseen houses with only their features provided. This could be used for investors, estate agents and house sellers to allow for better decision making. It will also allow these stakeholders to make understand what drives prices. Different things will be able to be inferred. It could range from advice on home improvements to potential investment opportunities.\n",
    "\n",
    "\n",
    "2. REALITY\n",
    "\n",
    "I have the Ames housing data which has to be cleaned, organised and improved to enable me to tune my model. The data in its current state will not provide a very useful model. \n",
    "\n",
    "\n",
    "3. CONSEQUENCES\n",
    "\n",
    "Without cleaning the data and tuning the model the users wont be able to predict the house prices very accurately. This means that my stakeholders wont be able to have the information they require to make good decisions.\n",
    "\n",
    "\n",
    "4. PROPOSAL\n",
    "\n",
    "My proposal is to start by cleaning the data and discover features that have a good correlation to the sales price. I will start by creating a baseline then start modelling with features and see if the baseline can be improved. As I refine and create features these iterations will continuosly improve the model. Success will be an accurate model and wone I can deduce key features and infer some valuable insights for my stakeholders. I will use Linear regression with ridge, lasso and elasticnet regularisation.\n",
    "\n",
    "\n",
    "N.b. Kaggle Submission and Score will also be a measure of accuracy of the model and project requirement\n"
   ]
  },
  {
   "cell_type": "markdown",
   "metadata": {},
   "source": [
    "# Executive Summary\n",
    "\n",
    "There are some key features in predicting house prices that can give buyers and sellers some important strategies for getting the best house price.\n",
    "\n",
    "It is hard to know what is important in deciding how much a property is worth and how much investment should be made to increase its current value. If you dont know what these drivers are then expensive mistakes could be made or bargains could be missed.\n",
    "\n",
    "I have developed a model to predict house prices in the Ames area. It can predict the price given the houses attributes. It has also been used to infer some key features which are important. These include living area, overall quality and key locations. Basements are also important in Ames. However the shape of the property and other external features can affect the price in a negative way.\n",
    "\n",
    "The model was tested on Kaggle and had an RMSE Score of 35,730. Read more to gain further insights into the Ames housing market.\n",
    "\n"
   ]
  },
  {
   "cell_type": "markdown",
   "metadata": {},
   "source": [
    "### Contents:\n",
    "- [Data Import](#Data-Import)\n",
    "- [Clean Train Data](#Clean-Train-Data)\n",
    "- [Clean Test Data](#Clean-Test-Data)\n"
   ]
  },
  {
   "cell_type": "markdown",
   "metadata": {},
   "source": [
    "# Data Import"
   ]
  },
  {
   "cell_type": "code",
   "execution_count": 3149,
   "metadata": {},
   "outputs": [],
   "source": [
    "# load libraries\n",
    "import numpy as np\n",
    "import pandas as pd\n",
    "import seaborn as sns\n",
    "import matplotlib.pyplot as plt\n",
    "import ipywidgets as widgets\n",
    "from sklearn.linear_model import LinearRegression, LassoCV, RidgeCV, ElasticNet, ElasticNetCV\n",
    "from sklearn import metrics\n",
    "from sklearn.model_selection import train_test_split, cross_val_score, KFold\n",
    "from sklearn.preprocessing import StandardScaler\n",
    "from ast import literal_eval\n",
    "\n",
    "%matplotlib inline"
   ]
  },
  {
   "cell_type": "code",
   "execution_count": 3150,
   "metadata": {},
   "outputs": [],
   "source": [
    "# get train and test data sets\n",
    "ames_train = pd.read_csv('./datasets/inputs/train.csv')\n",
    "ames_test = pd.read_csv('./datasets/inputs/test.csv')"
   ]
  },
  {
   "cell_type": "code",
   "execution_count": 3151,
   "metadata": {},
   "outputs": [],
   "source": [
    "# Get data dictionary info to help with exploration\n",
    "data_dict = pd.read_csv('./datasets/outputs/data_dictionary_df.csv')"
   ]
  },
  {
   "cell_type": "code",
   "execution_count": 3152,
   "metadata": {},
   "outputs": [],
   "source": [
    "# get saved dictionary to enable quick lookups of column information\n",
    "file = open(\"./datasets/outputs/data_dic_reuse.txt\", \"r\")\n",
    "contents = file.read()\n",
    "data_dictionary = literal_eval(contents)\n",
    "file.close()"
   ]
  },
  {
   "cell_type": "markdown",
   "metadata": {},
   "source": [
    "#### Inspect"
   ]
  },
  {
   "cell_type": "code",
   "execution_count": 3153,
   "metadata": {},
   "outputs": [
    {
     "data": {
      "text/plain": [
       "(2051, 81)"
      ]
     },
     "execution_count": 3153,
     "metadata": {},
     "output_type": "execute_result"
    }
   ],
   "source": [
    "ames_train.shape"
   ]
  },
  {
   "cell_type": "code",
   "execution_count": 3154,
   "metadata": {},
   "outputs": [
    {
     "data": {
      "text/plain": [
       "(879, 80)"
      ]
     },
     "execution_count": 3154,
     "metadata": {},
     "output_type": "execute_result"
    }
   ],
   "source": [
    "ames_test.shape"
   ]
  },
  {
   "cell_type": "markdown",
   "metadata": {},
   "source": [
    "#### Rename Columns"
   ]
  },
  {
   "cell_type": "code",
   "execution_count": 3155,
   "metadata": {},
   "outputs": [],
   "source": [
    "## Train Data\n",
    "# get column names\n",
    "cols = list(ames_train.columns)\n",
    "\n",
    "# replace the spaces and make lower case\n",
    "new_cols = [x.replace(\" \",\"_\").lower() for x in cols]\n",
    "\n",
    "#create dictionary\n",
    "new_cols_dic = dict(zip(cols, new_cols))\n",
    "\n",
    "# rename columns\n",
    "ames_train.rename(columns=new_cols_dic, inplace=True);"
   ]
  },
  {
   "cell_type": "code",
   "execution_count": 3156,
   "metadata": {},
   "outputs": [],
   "source": [
    "## Test Data\n",
    "# get column names\n",
    "cols = list(ames_test.columns)\n",
    "\n",
    "# replace the spaces and make lower case\n",
    "new_cols = [x.replace(\" \",\"_\").lower() for x in cols]\n",
    "\n",
    "#create dictionary\n",
    "new_cols_dic = dict(zip(cols, new_cols))\n",
    "\n",
    "# rename columns\n",
    "ames_test.rename(columns=new_cols_dic, inplace=True);"
   ]
  },
  {
   "cell_type": "code",
   "execution_count": 3157,
   "metadata": {},
   "outputs": [],
   "source": [
    "# Get the data dictionary dataframe ready for merging\n",
    "data_dict.drop('Unnamed: 0', axis=1, inplace=True)\n",
    "data_dict.rename(columns={\"index\":\"feature\",\"clean_dt\":\"dt\"}, inplace=True);"
   ]
  },
  {
   "cell_type": "markdown",
   "metadata": {},
   "source": [
    "# Clean Train Data"
   ]
  },
  {
   "cell_type": "code",
   "execution_count": 3158,
   "metadata": {},
   "outputs": [],
   "source": [
    "### Check for nulls"
   ]
  },
  {
   "cell_type": "code",
   "execution_count": 3159,
   "metadata": {},
   "outputs": [
    {
     "data": {
      "text/html": [
       "<div>\n",
       "<style scoped>\n",
       "    .dataframe tbody tr th:only-of-type {\n",
       "        vertical-align: middle;\n",
       "    }\n",
       "\n",
       "    .dataframe tbody tr th {\n",
       "        vertical-align: top;\n",
       "    }\n",
       "\n",
       "    .dataframe thead th {\n",
       "        text-align: right;\n",
       "    }\n",
       "</style>\n",
       "<table border=\"1\" class=\"dataframe\">\n",
       "  <thead>\n",
       "    <tr style=\"text-align: right;\">\n",
       "      <th></th>\n",
       "      <th>feature</th>\n",
       "      <th>null_count</th>\n",
       "      <th>dt</th>\n",
       "      <th>description</th>\n",
       "    </tr>\n",
       "  </thead>\n",
       "  <tbody>\n",
       "    <tr>\n",
       "      <th>4</th>\n",
       "      <td>lot_frontage</td>\n",
       "      <td>330</td>\n",
       "      <td>float</td>\n",
       "      <td>Linear feet of street connected to property</td>\n",
       "    </tr>\n",
       "    <tr>\n",
       "      <th>7</th>\n",
       "      <td>alley</td>\n",
       "      <td>1911</td>\n",
       "      <td>string</td>\n",
       "      <td>Type of alley access to property</td>\n",
       "    </tr>\n",
       "    <tr>\n",
       "      <th>26</th>\n",
       "      <td>mas_vnr_type</td>\n",
       "      <td>22</td>\n",
       "      <td>string</td>\n",
       "      <td>Masonry veneer type</td>\n",
       "    </tr>\n",
       "    <tr>\n",
       "      <th>27</th>\n",
       "      <td>mas_vnr_area</td>\n",
       "      <td>22</td>\n",
       "      <td>float</td>\n",
       "      <td>Masonry veneer area in square feet</td>\n",
       "    </tr>\n",
       "    <tr>\n",
       "      <th>31</th>\n",
       "      <td>bsmt_qual</td>\n",
       "      <td>55</td>\n",
       "      <td>string</td>\n",
       "      <td>Height of the basement</td>\n",
       "    </tr>\n",
       "    <tr>\n",
       "      <th>32</th>\n",
       "      <td>bsmt_cond</td>\n",
       "      <td>55</td>\n",
       "      <td>string</td>\n",
       "      <td>General condition of the basement</td>\n",
       "    </tr>\n",
       "    <tr>\n",
       "      <th>33</th>\n",
       "      <td>bsmt_exposure</td>\n",
       "      <td>58</td>\n",
       "      <td>string</td>\n",
       "      <td>Walkout or garden level basement walls</td>\n",
       "    </tr>\n",
       "    <tr>\n",
       "      <th>34</th>\n",
       "      <td>bsmtfin_type_1</td>\n",
       "      <td>55</td>\n",
       "      <td>string</td>\n",
       "      <td>Quality of basement finished area</td>\n",
       "    </tr>\n",
       "    <tr>\n",
       "      <th>35</th>\n",
       "      <td>bsmtfin_sf_1</td>\n",
       "      <td>1</td>\n",
       "      <td>float</td>\n",
       "      <td>Type 1 finished square feet</td>\n",
       "    </tr>\n",
       "    <tr>\n",
       "      <th>36</th>\n",
       "      <td>bsmtfin_type_2</td>\n",
       "      <td>56</td>\n",
       "      <td>string</td>\n",
       "      <td>Quality of second finished area (if present)</td>\n",
       "    </tr>\n",
       "    <tr>\n",
       "      <th>37</th>\n",
       "      <td>bsmtfin_sf_2</td>\n",
       "      <td>1</td>\n",
       "      <td>float</td>\n",
       "      <td>Type 2 finished square feet</td>\n",
       "    </tr>\n",
       "    <tr>\n",
       "      <th>38</th>\n",
       "      <td>bsmt_unf_sf</td>\n",
       "      <td>1</td>\n",
       "      <td>float</td>\n",
       "      <td>Unfinished square feet of basement area</td>\n",
       "    </tr>\n",
       "    <tr>\n",
       "      <th>39</th>\n",
       "      <td>total_bsmt_sf</td>\n",
       "      <td>1</td>\n",
       "      <td>float</td>\n",
       "      <td>Total square feet of basement area</td>\n",
       "    </tr>\n",
       "    <tr>\n",
       "      <th>48</th>\n",
       "      <td>bsmt_full_bath</td>\n",
       "      <td>2</td>\n",
       "      <td>float</td>\n",
       "      <td>Basement full bathrooms</td>\n",
       "    </tr>\n",
       "    <tr>\n",
       "      <th>49</th>\n",
       "      <td>bsmt_half_bath</td>\n",
       "      <td>2</td>\n",
       "      <td>float</td>\n",
       "      <td>Basement half bathrooms</td>\n",
       "    </tr>\n",
       "    <tr>\n",
       "      <th>58</th>\n",
       "      <td>fireplace_qu</td>\n",
       "      <td>1000</td>\n",
       "      <td>string</td>\n",
       "      <td>Fireplace quality</td>\n",
       "    </tr>\n",
       "    <tr>\n",
       "      <th>59</th>\n",
       "      <td>garage_type</td>\n",
       "      <td>113</td>\n",
       "      <td>string</td>\n",
       "      <td>Garage location</td>\n",
       "    </tr>\n",
       "    <tr>\n",
       "      <th>60</th>\n",
       "      <td>garage_yr_blt</td>\n",
       "      <td>114</td>\n",
       "      <td>float</td>\n",
       "      <td>Year garage was built</td>\n",
       "    </tr>\n",
       "    <tr>\n",
       "      <th>61</th>\n",
       "      <td>garage_finish</td>\n",
       "      <td>114</td>\n",
       "      <td>string</td>\n",
       "      <td>Interior finish of the garage</td>\n",
       "    </tr>\n",
       "    <tr>\n",
       "      <th>62</th>\n",
       "      <td>garage_cars</td>\n",
       "      <td>1</td>\n",
       "      <td>float</td>\n",
       "      <td>Size of garage in car capacity</td>\n",
       "    </tr>\n",
       "    <tr>\n",
       "      <th>63</th>\n",
       "      <td>garage_area</td>\n",
       "      <td>1</td>\n",
       "      <td>float</td>\n",
       "      <td>Size of garage in square feet</td>\n",
       "    </tr>\n",
       "    <tr>\n",
       "      <th>64</th>\n",
       "      <td>garage_qual</td>\n",
       "      <td>114</td>\n",
       "      <td>string</td>\n",
       "      <td>Garage quality</td>\n",
       "    </tr>\n",
       "    <tr>\n",
       "      <th>65</th>\n",
       "      <td>garage_cond</td>\n",
       "      <td>114</td>\n",
       "      <td>string</td>\n",
       "      <td>Garage condition</td>\n",
       "    </tr>\n",
       "    <tr>\n",
       "      <th>73</th>\n",
       "      <td>pool_qc</td>\n",
       "      <td>2042</td>\n",
       "      <td>string</td>\n",
       "      <td>Pool quality</td>\n",
       "    </tr>\n",
       "    <tr>\n",
       "      <th>74</th>\n",
       "      <td>fence</td>\n",
       "      <td>1651</td>\n",
       "      <td>string</td>\n",
       "      <td>Fence quality</td>\n",
       "    </tr>\n",
       "    <tr>\n",
       "      <th>75</th>\n",
       "      <td>misc_feature</td>\n",
       "      <td>1986</td>\n",
       "      <td>string</td>\n",
       "      <td>Miscellaneous feature not covered in other cat...</td>\n",
       "    </tr>\n",
       "  </tbody>\n",
       "</table>\n",
       "</div>"
      ],
      "text/plain": [
       "           feature  null_count      dt  \\\n",
       "4     lot_frontage         330   float   \n",
       "7            alley        1911  string   \n",
       "26    mas_vnr_type          22  string   \n",
       "27    mas_vnr_area          22   float   \n",
       "31       bsmt_qual          55  string   \n",
       "32       bsmt_cond          55  string   \n",
       "33   bsmt_exposure          58  string   \n",
       "34  bsmtfin_type_1          55  string   \n",
       "35    bsmtfin_sf_1           1   float   \n",
       "36  bsmtfin_type_2          56  string   \n",
       "37    bsmtfin_sf_2           1   float   \n",
       "38     bsmt_unf_sf           1   float   \n",
       "39   total_bsmt_sf           1   float   \n",
       "48  bsmt_full_bath           2   float   \n",
       "49  bsmt_half_bath           2   float   \n",
       "58    fireplace_qu        1000  string   \n",
       "59     garage_type         113  string   \n",
       "60   garage_yr_blt         114   float   \n",
       "61   garage_finish         114  string   \n",
       "62     garage_cars           1   float   \n",
       "63     garage_area           1   float   \n",
       "64     garage_qual         114  string   \n",
       "65     garage_cond         114  string   \n",
       "73         pool_qc        2042  string   \n",
       "74           fence        1651  string   \n",
       "75    misc_feature        1986  string   \n",
       "\n",
       "                                          description  \n",
       "4         Linear feet of street connected to property  \n",
       "7                    Type of alley access to property  \n",
       "26                                Masonry veneer type  \n",
       "27                 Masonry veneer area in square feet  \n",
       "31                             Height of the basement  \n",
       "32                  General condition of the basement  \n",
       "33             Walkout or garden level basement walls  \n",
       "34                  Quality of basement finished area  \n",
       "35                        Type 1 finished square feet  \n",
       "36       Quality of second finished area (if present)  \n",
       "37                        Type 2 finished square feet  \n",
       "38            Unfinished square feet of basement area  \n",
       "39                 Total square feet of basement area  \n",
       "48                            Basement full bathrooms  \n",
       "49                            Basement half bathrooms  \n",
       "58                                  Fireplace quality  \n",
       "59                                    Garage location  \n",
       "60                              Year garage was built  \n",
       "61                      Interior finish of the garage  \n",
       "62                     Size of garage in car capacity  \n",
       "63                      Size of garage in square feet  \n",
       "64                                     Garage quality  \n",
       "65                                   Garage condition  \n",
       "73                                       Pool quality  \n",
       "74                                      Fence quality  \n",
       "75  Miscellaneous feature not covered in other cat...  "
      ]
     },
     "execution_count": 3159,
     "metadata": {},
     "output_type": "execute_result"
    }
   ],
   "source": [
    "# Create a dataframe for null values\n",
    "check_nulls = pd.DataFrame(ames_train.isnull().sum()).copy()\n",
    "check_nulls.rename(columns={0:\"null_count\"}, inplace=True)\n",
    "\n",
    "# reset index\n",
    "check_nulls.reset_index(inplace=True)\n",
    "check_nulls.rename(columns={'index':\"feature\"}, inplace=True)\n",
    "\n",
    "# Add descriptions so I can make sense of the Features and datatypes\n",
    "check_nulls = pd.merge(check_nulls,data_dict[['feature','dt','description']],on='feature', how='left')\n",
    "\n",
    "# Show only Features with misisng data\n",
    "cols_to_investigate = check_nulls[check_nulls['null_count'] != 0]\n",
    "cols_to_investigate"
   ]
  },
  {
   "cell_type": "code",
   "execution_count": 3160,
   "metadata": {},
   "outputs": [],
   "source": [
    "# create markdown table to write comments on\n",
    "table_str = '|Feature|Count|Type|Description|Categories|Impact|Observation|\\n|---|---|---|---|---|---|---|\\n'\n",
    "table = cols_to_investigate.to_dict('index')\n",
    "for key, inner_dic in table.items():\n",
    "    for k,v in inner_dic.items():\n",
    "        table_str += '| ' + str(inner_dic[k]) + \" \"\n",
    "    table_str += '| | | |\\n' \n",
    "\n",
    "# print and create md table\n",
    "#print(table_str)"
   ]
  },
  {
   "cell_type": "markdown",
   "metadata": {},
   "source": [
    "---"
   ]
  },
  {
   "cell_type": "markdown",
   "metadata": {},
   "source": [
    "## Observations regarding the Null columns\n",
    "\n",
    "Number of total rows: 2051\n",
    "\n",
    "|Feature|Count|Type|Description|Impact|Categories|Observation|\n",
    "|---|---|---|---|---|---|---|\n",
    "| lot_frontage | 330 | int | Linear feet of street connected to property |16%| |How many feet of road are connected to a property. Could be considered good or bad. Quite important to deal with as 16% impact|\n",
    "| alley | 1911 | int | Type of alley access to property |93%|Pave, Grvl | Quite a lot of propertyies probably dont have alley access|\n",
    "| mas_vnr_type | 22 | str | Masonry veneer type |1% |BrkFace, None, Stone, BrkCmn| Might no be applicable to flats that have no external facing walls|\n",
    "| mas_vnr_area | 22 | int | Masonry veneer area in square feet |1%| |Might not be applicable to flats that have no external facing walls|\n",
    "| bsmt_qual | 55 | str | Height of the basement |3%|TA, Gd, Fa, Ex, Po|Missing could indicate that the property doesnt have a basement|\n",
    "| bsmt_cond | 55 | str | General condition of the basement |3%|TA, Gd, Fa, Po, Ex|Missing could indicate that the property doesnt have a basement|\n",
    "| bsmt_exposure | 58 | str | Walkout or garden level basement walls |3%|No, Gd, Av, Mn|Missing could indicate that the property doesnt have a basement|\n",
    "| bsmtfin_type_1 | 55 | str | Quality of basement finished area |3%|GLQ, Unf, ALQ, Rec, BLQ, LwQ  |Could indicate absence of basement. Could impact the price because high quality means that it increases useful sqft of the property which could be valuable.|\n",
    "| bsmtfin_sf_1 | 1 | int | Type 1 finished square feet |0%||Sq ft of 1st basement. Missing could indicate that the property doesnt have a basement|\n",
    "| bsmtfin_type_2 | 56 | str | Quality of second finished area (if present) |3%|Unf, Rec, BLQ, GLQ, LwQ, ALQ |Could indicate absence of basement. Could impact the price because high quality means that it increases useful sqft of the property which could be valuable.|\n",
    "| bsmtfin_sf_2 | 1 | int | Type 2 finished square feet |0% |  |Sq ft of 2nd basement. Missing could indicate that the property doesnt have a basement|\n",
    "| bsmt_unf_sf | 1 | int | Unfinished square feet of basement area |0%||sqft of unfinished basement. Could be off plan or underconstruction houses. Low impact.|\n",
    "| total_bsmt_sf | 1 | int | Total square feet of basement area |0%| |Total sq ft of basement. Missing could indicate that the property doesnt have a basement|\n",
    "| bsmt_full_bath | 2 | int | Basement full bathrooms |0%|0,1,2,3 |number of full basement bathrooms. Not a high impact but would expect houses with 0 to have 0 not NaN|\n",
    "| bsmt_half_bath | 2 | int | Basement half bathrooms |0%|0,1,2 |number of haf basement bathrooms. Not a high impact but would expect houses with 0 to have 0 not NaN|\n",
    "| fireplace_qu | 1000 | str | Fireplace quality |49%|TA, Gd, Po, Ex, Fa|Houses without fireplaces would likely to have this column blank. Need to check but making it categorical and then NaNs to zero could help|\n",
    "| garage_type | 113 | str | Garage location |6%|Attchd, Detchd, BuiltIn, Basment, 2Types, CarPort|Houses without garages would likely to have this column blank. Need to check but making it categorical and then NaNs to zero could help|\n",
    "| garage_yr_blt | 114 | int | Year garage was built |6%||Houses without garages would likely to have this column blank. However year would be hard to estimate.|\n",
    "| garage_finish | 114 | str | Interior finish of the garage |6%|RFn, Unf, Fin|Houses without garages would likely to have this column blank. Need to check but making it categorical and then NaNs to zero could help|\n",
    "| garage_cars | 1 | int | Size of garage in car capacity |0%| |Houses without garages would likely to have this column blank. Need to check but making it categorical and then NaNs to zero could help ||\n",
    "| garage_area | 1 | int | Size of garage in square feet |0%| |Houses without garages would likely to have this column blank. Need to check but making it categorical and then NaNs to zero could help ||\n",
    "| garage_qual | 114 | str | Garage quality |6%|TA, Fa, Gd, Ex, Po|Houses without garages would likely to have this column blank. Need to check but making it categorical and then NaNs to zero could help|\n",
    "| garage_cond | 114 | str | Garage condition |6%|TA, Fa, Po, Gd, Ex| Houses without garages would likely to have this column blank. Need to check but making it categorical and then NaNs to zero could help. |\n",
    "| pool_qc | 2042 | str | Pool quality |99.9% |Fa, Gd, Ex, TA|Only a few houses have this data and this would because only few have a pools. Therfore this could indicate value and could have a big impact. Therefore I will change this column to dummy data. The NaN will become '0' |\n",
    "| fence | 1651 | str | Fence quality |80%|MnPrv, GdPrv, GdWo, MnWw|Good Privacy, Minimum Privacy, Good Wood, Minimum Wood/Wire are the categories which could indicate a certain quality of house. I will turn this into duumy data with NaN becoming 0  |\n",
    "| misc_feature | 1986 | str | Miscellaneous feature not covered in other categories |97%|Shed, TenC, Gar2, Othr, Elev|Contains options such as tennis court, elevator, 2nd garage, shed. This could indicate high value items which could have a big impact. Therefore I will change this column to dummy data. The NaN will become '0' |\n"
   ]
  },
  {
   "cell_type": "code",
   "execution_count": 3161,
   "metadata": {},
   "outputs": [
    {
     "data": {
      "application/vnd.jupyter.widget-view+json": {
       "model_id": "9701fe275688430ab1f0e9c93dbab7b2",
       "version_major": 2,
       "version_minor": 0
      },
      "text/plain": [
       "Dropdown(options=('mssubclass', 'mszoning', 'lotfrontage', 'lotarea', 'street', 'alley', 'lotshape', 'landcont…"
      ]
     },
     "metadata": {},
     "output_type": "display_data"
    }
   ],
   "source": [
    "## Select Column You want to explore\n",
    "dropdown = widgets.Dropdown(options=list(data_dictionary.keys()))\n",
    "display(dropdown)"
   ]
  },
  {
   "cell_type": "code",
   "execution_count": 3162,
   "metadata": {},
   "outputs": [
    {
     "name": "stdout",
     "output_type": "stream",
     "text": [
      "Description:\n",
      "\tThe building class\n",
      "Categories:\n",
      "\t20 1-STORY 1946 & NEWER ALL STYLES\n",
      "\t30 1-STORY 1945 & OLDER\n",
      "\t40 1-STORY W/FINISHED ATTIC ALL AGES\n",
      "\t45 1-1/2 STORY - UNFINISHED ALL AGES\n",
      "\t50 1-1/2 STORY FINISHED ALL AGES\n",
      "\t60 2-STORY 1946 & NEWER\n",
      "\t70 2-STORY 1945 & OLDER\n",
      "\t75 2-1/2 STORY ALL AGES\n",
      "\t80 SPLIT OR MULTI-LEVEL\n",
      "\t85 SPLIT FOYER\n",
      "\t90 DUPLEX - ALL STYLES AND AGES\n",
      "\t120 1-STORY PUD (Planned Unit Development) - 1946 & NEWER\n",
      "\t150 1-1/2 STORY PUD - ALL AGES\n",
      "\t160 2-STORY PUD - 1946 & NEWER\n",
      "\t180 PUD - MULTILEVEL - INCL SPLIT LEV/FOYER\n"
     ]
    }
   ],
   "source": [
    "## View Column Attributes - run cell to return selected value above\n",
    "\n",
    "print(f\"Description:\\n\\t{data_dictionary[dropdown.value][0]}\")\n",
    "print(\"Categories:\")\n",
    "for x in range(1,len(data_dictionary[dropdown.value][1:])):\n",
    "    print(f\"\\t{data_dictionary[dropdown.value][x]}\")"
   ]
  },
  {
   "cell_type": "markdown",
   "metadata": {},
   "source": [
    "# Plan of cleaning"
   ]
  },
  {
   "cell_type": "markdown",
   "metadata": {},
   "source": [
    "#### These features have a high missing % and may not appear important but I will change to None in case the absence is important or the presence \n",
    "+ Pool quality ~99.9%\n",
    "+ Fence quality 80%\n",
    "+ Fireplace Quality 49%\n",
    "\n",
    "#### I will group garage and basement attributes together for research. See if missing attributes means these features are missing from the property\n",
    "+ Garage\n",
    "    + garage_type\n",
    "    + garage_yr_blt\n",
    "    + garage_finish\n",
    "    + garage_cars\n",
    "    + garage_area\n",
    "    + garage_qual\n",
    "    + garage_cond\n",
    "    \n",
    "    \n",
    "+ Basement\n",
    "    + bsmt_qual\n",
    "    + bsmt_cond\n",
    "    + bsmt_exposure\n",
    "    + bsmtfin_type_1\n",
    "    + bsmtfin_sf_1\n",
    "    + bsmtfin_type_2\n",
    "    + bsmtfin_sf_2\n",
    "    + bsmt_unf_sf\n",
    "    + total_bsmt_sf\n",
    "    + bsmt_full_bath\n",
    "    + bsmt_half_bath\n",
    "    \n",
    "#### I will investigate and clean the categories with a high level of NaN and potentially high impact on house price:\n",
    "+ misc_feature 97%\n",
    "+ alley 93%\n",
    "+ lot_frontage 16%\n",
    "\n",
    "#### Then will investigate and clean the categories with a low level of NaN and potentially lower impact on house price:\n",
    "+ mas_vnr_type 1%\n",
    "+ mas_vnr_area 1%\n",
    "\n",
    "#### Repeat for Test Data"
   ]
  },
  {
   "cell_type": "markdown",
   "metadata": {},
   "source": [
    "---"
   ]
  },
  {
   "cell_type": "markdown",
   "metadata": {},
   "source": [
    "### Pool Quality"
   ]
  },
  {
   "cell_type": "code",
   "execution_count": 3163,
   "metadata": {},
   "outputs": [
    {
     "data": {
      "text/plain": [
       "2042"
      ]
     },
     "execution_count": 3163,
     "metadata": {},
     "output_type": "execute_result"
    }
   ],
   "source": [
    "ames_train['pool_qc'].isnull().sum()"
   ]
  },
  {
   "cell_type": "code",
   "execution_count": 3164,
   "metadata": {},
   "outputs": [
    {
     "data": {
      "text/plain": [
       "Gd    4\n",
       "TA    2\n",
       "Fa    2\n",
       "Ex    1\n",
       "Name: pool_qc, dtype: int64"
      ]
     },
     "execution_count": 3164,
     "metadata": {},
     "output_type": "execute_result"
    }
   ],
   "source": [
    "ames_train['pool_qc'].value_counts()"
   ]
  },
  {
   "cell_type": "code",
   "execution_count": 3165,
   "metadata": {},
   "outputs": [],
   "source": [
    "# update to 'None' to allow one hot encoding\n",
    "ames_train.loc[ames_train['pool_qc'].isnull(),'pool_qc']  = 'None'"
   ]
  },
  {
   "cell_type": "code",
   "execution_count": 3166,
   "metadata": {},
   "outputs": [
    {
     "data": {
      "text/plain": [
       "None    2042\n",
       "Gd         4\n",
       "TA         2\n",
       "Fa         2\n",
       "Ex         1\n",
       "Name: pool_qc, dtype: int64"
      ]
     },
     "execution_count": 3166,
     "metadata": {},
     "output_type": "execute_result"
    }
   ],
   "source": [
    "# check changes worked\n",
    "ames_train['pool_qc'].value_counts()"
   ]
  },
  {
   "cell_type": "markdown",
   "metadata": {},
   "source": [
    "---"
   ]
  },
  {
   "cell_type": "markdown",
   "metadata": {},
   "source": [
    "### Fence quality"
   ]
  },
  {
   "cell_type": "code",
   "execution_count": 3167,
   "metadata": {},
   "outputs": [
    {
     "data": {
      "text/plain": [
       "MnPrv    227\n",
       "GdPrv     83\n",
       "GdWo      80\n",
       "MnWw      10\n",
       "Name: fence, dtype: int64"
      ]
     },
     "execution_count": 3167,
     "metadata": {},
     "output_type": "execute_result"
    }
   ],
   "source": [
    "ames_train['fence'].value_counts()"
   ]
  },
  {
   "cell_type": "code",
   "execution_count": 3168,
   "metadata": {},
   "outputs": [],
   "source": [
    "# update to 'None' to allow one hot encoding\n",
    "ames_train.loc[ames_train['fence'].isnull(),'fence']  = 'None'"
   ]
  },
  {
   "cell_type": "code",
   "execution_count": 3169,
   "metadata": {},
   "outputs": [
    {
     "data": {
      "text/plain": [
       "None     1651\n",
       "MnPrv     227\n",
       "GdPrv      83\n",
       "GdWo       80\n",
       "MnWw       10\n",
       "Name: fence, dtype: int64"
      ]
     },
     "execution_count": 3169,
     "metadata": {},
     "output_type": "execute_result"
    }
   ],
   "source": [
    "# check changes worked\n",
    "ames_train['fence'].value_counts()"
   ]
  },
  {
   "cell_type": "markdown",
   "metadata": {},
   "source": [
    "---"
   ]
  },
  {
   "cell_type": "markdown",
   "metadata": {},
   "source": [
    "### Fireplace quality"
   ]
  },
  {
   "cell_type": "code",
   "execution_count": 3170,
   "metadata": {},
   "outputs": [
    {
     "data": {
      "text/plain": [
       "Gd    523\n",
       "TA    407\n",
       "Fa     59\n",
       "Ex     31\n",
       "Po     31\n",
       "Name: fireplace_qu, dtype: int64"
      ]
     },
     "execution_count": 3170,
     "metadata": {},
     "output_type": "execute_result"
    }
   ],
   "source": [
    "ames_train['fireplace_qu'].value_counts()"
   ]
  },
  {
   "cell_type": "code",
   "execution_count": 3171,
   "metadata": {},
   "outputs": [],
   "source": [
    "# update to 'None' to allow one hot encoding\n",
    "ames_train.loc[ames_train['fireplace_qu'].isnull(),'fireplace_qu']  = 'None'"
   ]
  },
  {
   "cell_type": "code",
   "execution_count": 3172,
   "metadata": {
    "scrolled": true
   },
   "outputs": [
    {
     "data": {
      "text/plain": [
       "None    1000\n",
       "Gd       523\n",
       "TA       407\n",
       "Fa        59\n",
       "Ex        31\n",
       "Po        31\n",
       "Name: fireplace_qu, dtype: int64"
      ]
     },
     "execution_count": 3172,
     "metadata": {},
     "output_type": "execute_result"
    }
   ],
   "source": [
    "# check changes worked\n",
    "ames_train['fireplace_qu'].value_counts()"
   ]
  },
  {
   "cell_type": "markdown",
   "metadata": {},
   "source": [
    "### Garage"
   ]
  },
  {
   "cell_type": "code",
   "execution_count": 3173,
   "metadata": {},
   "outputs": [],
   "source": [
    "garage_feats = ['garage_type','garage_yr_blt','garage_finish','garage_cars','garage_area','garage_qual','garage_cond']"
   ]
  },
  {
   "cell_type": "code",
   "execution_count": 3174,
   "metadata": {},
   "outputs": [
    {
     "data": {
      "text/html": [
       "<div>\n",
       "<style scoped>\n",
       "    .dataframe tbody tr th:only-of-type {\n",
       "        vertical-align: middle;\n",
       "    }\n",
       "\n",
       "    .dataframe tbody tr th {\n",
       "        vertical-align: top;\n",
       "    }\n",
       "\n",
       "    .dataframe thead th {\n",
       "        text-align: right;\n",
       "    }\n",
       "</style>\n",
       "<table border=\"1\" class=\"dataframe\">\n",
       "  <thead>\n",
       "    <tr style=\"text-align: right;\">\n",
       "      <th></th>\n",
       "      <th>garage_yr_blt</th>\n",
       "      <th>garage_cars</th>\n",
       "      <th>garage_area</th>\n",
       "    </tr>\n",
       "  </thead>\n",
       "  <tbody>\n",
       "    <tr>\n",
       "      <th>count</th>\n",
       "      <td>1937.000000</td>\n",
       "      <td>2050.000000</td>\n",
       "      <td>2050.000000</td>\n",
       "    </tr>\n",
       "    <tr>\n",
       "      <th>mean</th>\n",
       "      <td>1978.707796</td>\n",
       "      <td>1.776585</td>\n",
       "      <td>473.671707</td>\n",
       "    </tr>\n",
       "    <tr>\n",
       "      <th>std</th>\n",
       "      <td>25.441094</td>\n",
       "      <td>0.764537</td>\n",
       "      <td>215.934561</td>\n",
       "    </tr>\n",
       "    <tr>\n",
       "      <th>min</th>\n",
       "      <td>1895.000000</td>\n",
       "      <td>0.000000</td>\n",
       "      <td>0.000000</td>\n",
       "    </tr>\n",
       "    <tr>\n",
       "      <th>25%</th>\n",
       "      <td>1961.000000</td>\n",
       "      <td>1.000000</td>\n",
       "      <td>319.000000</td>\n",
       "    </tr>\n",
       "    <tr>\n",
       "      <th>50%</th>\n",
       "      <td>1980.000000</td>\n",
       "      <td>2.000000</td>\n",
       "      <td>480.000000</td>\n",
       "    </tr>\n",
       "    <tr>\n",
       "      <th>75%</th>\n",
       "      <td>2002.000000</td>\n",
       "      <td>2.000000</td>\n",
       "      <td>576.000000</td>\n",
       "    </tr>\n",
       "    <tr>\n",
       "      <th>max</th>\n",
       "      <td>2207.000000</td>\n",
       "      <td>5.000000</td>\n",
       "      <td>1418.000000</td>\n",
       "    </tr>\n",
       "  </tbody>\n",
       "</table>\n",
       "</div>"
      ],
      "text/plain": [
       "       garage_yr_blt  garage_cars  garage_area\n",
       "count    1937.000000  2050.000000  2050.000000\n",
       "mean     1978.707796     1.776585   473.671707\n",
       "std        25.441094     0.764537   215.934561\n",
       "min      1895.000000     0.000000     0.000000\n",
       "25%      1961.000000     1.000000   319.000000\n",
       "50%      1980.000000     2.000000   480.000000\n",
       "75%      2002.000000     2.000000   576.000000\n",
       "max      2207.000000     5.000000  1418.000000"
      ]
     },
     "execution_count": 3174,
     "metadata": {},
     "output_type": "execute_result"
    }
   ],
   "source": [
    "# check the garage data\n",
    "ames_train[garage_feats].describe()"
   ]
  },
  {
   "cell_type": "markdown",
   "metadata": {},
   "source": [
    "#### Observations\n",
    "+ 2207 looks like a mistake for max year built"
   ]
  },
  {
   "cell_type": "code",
   "execution_count": 3175,
   "metadata": {},
   "outputs": [
    {
     "data": {
      "text/html": [
       "<div>\n",
       "<style scoped>\n",
       "    .dataframe tbody tr th:only-of-type {\n",
       "        vertical-align: middle;\n",
       "    }\n",
       "\n",
       "    .dataframe tbody tr th {\n",
       "        vertical-align: top;\n",
       "    }\n",
       "\n",
       "    .dataframe thead th {\n",
       "        text-align: right;\n",
       "    }\n",
       "</style>\n",
       "<table border=\"1\" class=\"dataframe\">\n",
       "  <thead>\n",
       "    <tr style=\"text-align: right;\">\n",
       "      <th></th>\n",
       "      <th>id</th>\n",
       "      <th>year_built</th>\n",
       "      <th>garage_yr_blt</th>\n",
       "    </tr>\n",
       "  </thead>\n",
       "  <tbody>\n",
       "    <tr>\n",
       "      <th>1699</th>\n",
       "      <td>2261</td>\n",
       "      <td>2006</td>\n",
       "      <td>2207.0</td>\n",
       "    </tr>\n",
       "    <tr>\n",
       "      <th>1241</th>\n",
       "      <td>317</td>\n",
       "      <td>2009</td>\n",
       "      <td>2010.0</td>\n",
       "    </tr>\n",
       "    <tr>\n",
       "      <th>144</th>\n",
       "      <td>105</td>\n",
       "      <td>2010</td>\n",
       "      <td>2010.0</td>\n",
       "    </tr>\n",
       "    <tr>\n",
       "      <th>1700</th>\n",
       "      <td>423</td>\n",
       "      <td>2008</td>\n",
       "      <td>2009.0</td>\n",
       "    </tr>\n",
       "    <tr>\n",
       "      <th>1732</th>\n",
       "      <td>428</td>\n",
       "      <td>2009</td>\n",
       "      <td>2009.0</td>\n",
       "    </tr>\n",
       "  </tbody>\n",
       "</table>\n",
       "</div>"
      ],
      "text/plain": [
       "        id  year_built  garage_yr_blt\n",
       "1699  2261        2006         2207.0\n",
       "1241   317        2009         2010.0\n",
       "144    105        2010         2010.0\n",
       "1700   423        2008         2009.0\n",
       "1732   428        2009         2009.0"
      ]
     },
     "execution_count": 3175,
     "metadata": {},
     "output_type": "execute_result"
    }
   ],
   "source": [
    "ames_train[['id','year_built','garage_yr_blt']].sort_values(by='garage_yr_blt', ascending=False).head()"
   ]
  },
  {
   "cell_type": "code",
   "execution_count": 3176,
   "metadata": {},
   "outputs": [
    {
     "data": {
      "text/html": [
       "<div>\n",
       "<style scoped>\n",
       "    .dataframe tbody tr th:only-of-type {\n",
       "        vertical-align: middle;\n",
       "    }\n",
       "\n",
       "    .dataframe tbody tr th {\n",
       "        vertical-align: top;\n",
       "    }\n",
       "\n",
       "    .dataframe thead th {\n",
       "        text-align: right;\n",
       "    }\n",
       "</style>\n",
       "<table border=\"1\" class=\"dataframe\">\n",
       "  <thead>\n",
       "    <tr style=\"text-align: right;\">\n",
       "      <th></th>\n",
       "      <th>garage_type</th>\n",
       "      <th>garage_yr_blt</th>\n",
       "      <th>garage_finish</th>\n",
       "      <th>garage_cars</th>\n",
       "      <th>garage_area</th>\n",
       "      <th>garage_qual</th>\n",
       "      <th>garage_cond</th>\n",
       "    </tr>\n",
       "  </thead>\n",
       "  <tbody>\n",
       "    <tr>\n",
       "      <th>1699</th>\n",
       "      <td>Attchd</td>\n",
       "      <td>2207.0</td>\n",
       "      <td>RFn</td>\n",
       "      <td>2.0</td>\n",
       "      <td>502.0</td>\n",
       "      <td>TA</td>\n",
       "      <td>TA</td>\n",
       "    </tr>\n",
       "  </tbody>\n",
       "</table>\n",
       "</div>"
      ],
      "text/plain": [
       "     garage_type  garage_yr_blt garage_finish  garage_cars  garage_area  \\\n",
       "1699      Attchd         2207.0           RFn          2.0        502.0   \n",
       "\n",
       "     garage_qual garage_cond  \n",
       "1699          TA          TA  "
      ]
     },
     "execution_count": 3176,
     "metadata": {},
     "output_type": "execute_result"
    }
   ],
   "source": [
    "# check what year the house was built\n",
    "ames_train[garage_feats][ames_train['id'] == 2261]"
   ]
  },
  {
   "cell_type": "code",
   "execution_count": 3177,
   "metadata": {},
   "outputs": [],
   "source": [
    "# change the string data types to 'none'\n",
    "ames_train.loc[(ames_train['garage_type'].isnull()) & (ames_train['garage_yr_blt'].isnull()) \n",
    "                        & (ames_train['garage_finish'].isnull()) & (ames_train['garage_qual'].isnull())\n",
    "                        & (ames_train['garage_cond'].isnull()) & (ames_train['garage_cars']==0) \n",
    "                        & (ames_train['garage_area']==0),\n",
    "               ['garage_type','garage_finish','garage_qual','garage_cond']] = 'none'\n"
   ]
  },
  {
   "cell_type": "markdown",
   "metadata": {},
   "source": [
    "#### I will deduce that the most likely year is 2007. It wouldnt be earlier than this and is certainly more accurate than 2207"
   ]
  },
  {
   "cell_type": "code",
   "execution_count": 3178,
   "metadata": {},
   "outputs": [
    {
     "data": {
      "text/html": [
       "<div>\n",
       "<style scoped>\n",
       "    .dataframe tbody tr th:only-of-type {\n",
       "        vertical-align: middle;\n",
       "    }\n",
       "\n",
       "    .dataframe tbody tr th {\n",
       "        vertical-align: top;\n",
       "    }\n",
       "\n",
       "    .dataframe thead th {\n",
       "        text-align: right;\n",
       "    }\n",
       "</style>\n",
       "<table border=\"1\" class=\"dataframe\">\n",
       "  <thead>\n",
       "    <tr style=\"text-align: right;\">\n",
       "      <th></th>\n",
       "      <th>garage_type</th>\n",
       "      <th>garage_yr_blt</th>\n",
       "      <th>garage_finish</th>\n",
       "      <th>garage_cars</th>\n",
       "      <th>garage_area</th>\n",
       "      <th>garage_qual</th>\n",
       "      <th>garage_cond</th>\n",
       "    </tr>\n",
       "  </thead>\n",
       "  <tbody>\n",
       "    <tr>\n",
       "      <th>1699</th>\n",
       "      <td>Attchd</td>\n",
       "      <td>2007.0</td>\n",
       "      <td>RFn</td>\n",
       "      <td>2.0</td>\n",
       "      <td>502.0</td>\n",
       "      <td>TA</td>\n",
       "      <td>TA</td>\n",
       "    </tr>\n",
       "  </tbody>\n",
       "</table>\n",
       "</div>"
      ],
      "text/plain": [
       "     garage_type  garage_yr_blt garage_finish  garage_cars  garage_area  \\\n",
       "1699      Attchd         2007.0           RFn          2.0        502.0   \n",
       "\n",
       "     garage_qual garage_cond  \n",
       "1699          TA          TA  "
      ]
     },
     "execution_count": 3178,
     "metadata": {},
     "output_type": "execute_result"
    }
   ],
   "source": [
    "# Change and then check\n",
    "ames_train.loc[1699,'garage_yr_blt'] = 2007\n",
    "\n",
    "# check what year the house was built\n",
    "ames_train[garage_feats][ames_train['id'] == 2261]"
   ]
  },
  {
   "cell_type": "markdown",
   "metadata": {},
   "source": [
    "---"
   ]
  },
  {
   "cell_type": "code",
   "execution_count": 3179,
   "metadata": {},
   "outputs": [
    {
     "data": {
      "text/html": [
       "<div>\n",
       "<style scoped>\n",
       "    .dataframe tbody tr th:only-of-type {\n",
       "        vertical-align: middle;\n",
       "    }\n",
       "\n",
       "    .dataframe tbody tr th {\n",
       "        vertical-align: top;\n",
       "    }\n",
       "\n",
       "    .dataframe thead th {\n",
       "        text-align: right;\n",
       "    }\n",
       "</style>\n",
       "<table border=\"1\" class=\"dataframe\">\n",
       "  <thead>\n",
       "    <tr style=\"text-align: right;\">\n",
       "      <th></th>\n",
       "      <th>garage_yr_blt</th>\n",
       "      <th>garage_cars</th>\n",
       "      <th>garage_area</th>\n",
       "    </tr>\n",
       "  </thead>\n",
       "  <tbody>\n",
       "    <tr>\n",
       "      <th>count</th>\n",
       "      <td>1937.000000</td>\n",
       "      <td>2050.000000</td>\n",
       "      <td>2050.000000</td>\n",
       "    </tr>\n",
       "    <tr>\n",
       "      <th>mean</th>\n",
       "      <td>1978.604543</td>\n",
       "      <td>1.776585</td>\n",
       "      <td>473.671707</td>\n",
       "    </tr>\n",
       "    <tr>\n",
       "      <th>std</th>\n",
       "      <td>24.914493</td>\n",
       "      <td>0.764537</td>\n",
       "      <td>215.934561</td>\n",
       "    </tr>\n",
       "    <tr>\n",
       "      <th>min</th>\n",
       "      <td>1895.000000</td>\n",
       "      <td>0.000000</td>\n",
       "      <td>0.000000</td>\n",
       "    </tr>\n",
       "    <tr>\n",
       "      <th>25%</th>\n",
       "      <td>1961.000000</td>\n",
       "      <td>1.000000</td>\n",
       "      <td>319.000000</td>\n",
       "    </tr>\n",
       "    <tr>\n",
       "      <th>50%</th>\n",
       "      <td>1980.000000</td>\n",
       "      <td>2.000000</td>\n",
       "      <td>480.000000</td>\n",
       "    </tr>\n",
       "    <tr>\n",
       "      <th>75%</th>\n",
       "      <td>2002.000000</td>\n",
       "      <td>2.000000</td>\n",
       "      <td>576.000000</td>\n",
       "    </tr>\n",
       "    <tr>\n",
       "      <th>max</th>\n",
       "      <td>2010.000000</td>\n",
       "      <td>5.000000</td>\n",
       "      <td>1418.000000</td>\n",
       "    </tr>\n",
       "  </tbody>\n",
       "</table>\n",
       "</div>"
      ],
      "text/plain": [
       "       garage_yr_blt  garage_cars  garage_area\n",
       "count    1937.000000  2050.000000  2050.000000\n",
       "mean     1978.604543     1.776585   473.671707\n",
       "std        24.914493     0.764537   215.934561\n",
       "min      1895.000000     0.000000     0.000000\n",
       "25%      1961.000000     1.000000   319.000000\n",
       "50%      1980.000000     2.000000   480.000000\n",
       "75%      2002.000000     2.000000   576.000000\n",
       "max      2010.000000     5.000000  1418.000000"
      ]
     },
     "execution_count": 3179,
     "metadata": {},
     "output_type": "execute_result"
    }
   ],
   "source": [
    "# check the garage data\n",
    "ames_train[garage_feats].describe()"
   ]
  },
  {
   "cell_type": "markdown",
   "metadata": {},
   "source": [
    "#### Change null strings and NaN's\n",
    "+ change strings \n",
    "to 'none' so it can be categorised\n",
    "+ change int/float NaN's to 0 so it can be categorised - but check for any contradictory data."
   ]
  },
  {
   "cell_type": "code",
   "execution_count": 3180,
   "metadata": {},
   "outputs": [],
   "source": [
    "# change the int values data types to 0.0\n",
    "ames_train.loc[(ames_train['garage_type']=='none') & (ames_train['garage_yr_blt'].isnull()) \n",
    "                        & (ames_train['garage_finish']=='none') & (ames_train['garage_qual']=='none')\n",
    "                        & (ames_train['garage_cond']=='none') & (ames_train['garage_cars']==0) \n",
    "                        & (ames_train['garage_area']==0),\n",
    "               ['garage_area','garage_cars','garage_yr_blt']] = 0.0"
   ]
  },
  {
   "cell_type": "code",
   "execution_count": 3181,
   "metadata": {},
   "outputs": [
    {
     "data": {
      "text/html": [
       "<div>\n",
       "<style scoped>\n",
       "    .dataframe tbody tr th:only-of-type {\n",
       "        vertical-align: middle;\n",
       "    }\n",
       "\n",
       "    .dataframe tbody tr th {\n",
       "        vertical-align: top;\n",
       "    }\n",
       "\n",
       "    .dataframe thead th {\n",
       "        text-align: right;\n",
       "    }\n",
       "</style>\n",
       "<table border=\"1\" class=\"dataframe\">\n",
       "  <thead>\n",
       "    <tr style=\"text-align: right;\">\n",
       "      <th></th>\n",
       "      <th>garage_type</th>\n",
       "      <th>garage_yr_blt</th>\n",
       "      <th>garage_finish</th>\n",
       "      <th>garage_cars</th>\n",
       "      <th>garage_area</th>\n",
       "      <th>garage_qual</th>\n",
       "      <th>garage_cond</th>\n",
       "    </tr>\n",
       "  </thead>\n",
       "  <tbody>\n",
       "  </tbody>\n",
       "</table>\n",
       "</div>"
      ],
      "text/plain": [
       "Empty DataFrame\n",
       "Columns: [garage_type, garage_yr_blt, garage_finish, garage_cars, garage_area, garage_qual, garage_cond]\n",
       "Index: []"
      ]
     },
     "execution_count": 3181,
     "metadata": {},
     "output_type": "execute_result"
    }
   ],
   "source": [
    "# check it worked\n",
    "ames_train.loc[(ames_train['garage_type'].isnull()) & (ames_train['garage_yr_blt'].isnull()) \n",
    "                        & (ames_train['garage_finish'].isnull()) & (ames_train['garage_qual'].isnull())\n",
    "                        & (ames_train['garage_cond'].isnull()) & (ames_train['garage_cars']==0) \n",
    "                        & (ames_train['garage_area']==0),\n",
    "               garage_feats]"
   ]
  },
  {
   "cell_type": "code",
   "execution_count": 3182,
   "metadata": {},
   "outputs": [
    {
     "data": {
      "text/plain": [
       "garage_type      0\n",
       "garage_yr_blt    1\n",
       "garage_finish    1\n",
       "garage_cars      1\n",
       "garage_area      1\n",
       "garage_qual      1\n",
       "garage_cond      1\n",
       "dtype: int64"
      ]
     },
     "execution_count": 3182,
     "metadata": {},
     "output_type": "execute_result"
    }
   ],
   "source": [
    "# check nulls\n",
    "ames_train[garage_feats].isnull().sum()"
   ]
  },
  {
   "cell_type": "code",
   "execution_count": 3183,
   "metadata": {},
   "outputs": [
    {
     "data": {
      "text/html": [
       "<div>\n",
       "<style scoped>\n",
       "    .dataframe tbody tr th:only-of-type {\n",
       "        vertical-align: middle;\n",
       "    }\n",
       "\n",
       "    .dataframe tbody tr th {\n",
       "        vertical-align: top;\n",
       "    }\n",
       "\n",
       "    .dataframe thead th {\n",
       "        text-align: right;\n",
       "    }\n",
       "</style>\n",
       "<table border=\"1\" class=\"dataframe\">\n",
       "  <thead>\n",
       "    <tr style=\"text-align: right;\">\n",
       "      <th></th>\n",
       "      <th>garage_type</th>\n",
       "      <th>garage_yr_blt</th>\n",
       "      <th>garage_finish</th>\n",
       "      <th>garage_cars</th>\n",
       "      <th>garage_area</th>\n",
       "      <th>garage_qual</th>\n",
       "      <th>garage_cond</th>\n",
       "    </tr>\n",
       "  </thead>\n",
       "  <tbody>\n",
       "    <tr>\n",
       "      <th>1712</th>\n",
       "      <td>Detchd</td>\n",
       "      <td>NaN</td>\n",
       "      <td>NaN</td>\n",
       "      <td>NaN</td>\n",
       "      <td>NaN</td>\n",
       "      <td>NaN</td>\n",
       "      <td>NaN</td>\n",
       "    </tr>\n",
       "  </tbody>\n",
       "</table>\n",
       "</div>"
      ],
      "text/plain": [
       "     garage_type  garage_yr_blt garage_finish  garage_cars  garage_area  \\\n",
       "1712      Detchd            NaN           NaN          NaN          NaN   \n",
       "\n",
       "     garage_qual garage_cond  \n",
       "1712         NaN         NaN  "
      ]
     },
     "execution_count": 3183,
     "metadata": {},
     "output_type": "execute_result"
    }
   ],
   "source": [
    "# Isolate remaining cells\n",
    "ames_train[garage_feats][(ames_train['garage_type'].isnull()) | (ames_train['garage_yr_blt'].isnull()) \n",
    "                        | (ames_train['garage_finish'].isnull()) | (ames_train['garage_qual'].isnull())\n",
    "                        | (ames_train['garage_cars'].isnull()) |(ames_train['garage_area'].isnull())]"
   ]
  },
  {
   "cell_type": "markdown",
   "metadata": {},
   "source": [
    "#### I dont know if there is a garage. The type says detached. So I will assume there is and change the NaN appropriately therefore no information will be lost."
   ]
  },
  {
   "cell_type": "code",
   "execution_count": 3184,
   "metadata": {},
   "outputs": [],
   "source": [
    "#Change text Values\n",
    "ames_train.loc[ames_train['id'] == 2237,['garage_type','garage_finish','garage_qual','garage_cond']] = 'None'\n",
    "\n",
    "#Change text Values\n",
    "ames_train.loc[ames_train['id'] == 2237,['garage_area','garage_cars','garage_yr_blt']] = 0.0"
   ]
  },
  {
   "cell_type": "code",
   "execution_count": 3185,
   "metadata": {},
   "outputs": [],
   "source": [
    "# list(ames_train['garage_type'].unique())\n",
    "# ames_train[garage_feats].groupby(['garage_type']).count()"
   ]
  },
  {
   "cell_type": "code",
   "execution_count": 3186,
   "metadata": {},
   "outputs": [
    {
     "data": {
      "text/plain": [
       "garage_type      0\n",
       "garage_yr_blt    0\n",
       "garage_finish    0\n",
       "garage_cars      0\n",
       "garage_area      0\n",
       "garage_qual      0\n",
       "garage_cond      0\n",
       "dtype: int64"
      ]
     },
     "execution_count": 3186,
     "metadata": {},
     "output_type": "execute_result"
    }
   ],
   "source": [
    "# check nulls\n",
    "ames_train[garage_feats].isnull().sum()"
   ]
  },
  {
   "cell_type": "markdown",
   "metadata": {},
   "source": [
    "---"
   ]
  },
  {
   "cell_type": "markdown",
   "metadata": {},
   "source": [
    "### Check Basement data"
   ]
  },
  {
   "cell_type": "code",
   "execution_count": 3187,
   "metadata": {},
   "outputs": [],
   "source": [
    "# Add basement features to a list\n",
    "bsmt_feats = ['bsmt_qual','bsmt_cond','bsmt_exposure','bsmtfin_type_1','bsmtfin_sf_1','bsmtfin_type_2','bsmtfin_sf_2',\n",
    "              'bsmt_unf_sf','total_bsmt_sf','bsmt_full_bath','bsmt_half_bath']"
   ]
  },
  {
   "cell_type": "code",
   "execution_count": 3188,
   "metadata": {},
   "outputs": [
    {
     "data": {
      "text/plain": [
       "bsmt_qual         55\n",
       "bsmt_cond         55\n",
       "bsmt_exposure     58\n",
       "bsmtfin_type_1    55\n",
       "bsmtfin_sf_1       1\n",
       "bsmtfin_type_2    56\n",
       "bsmtfin_sf_2       1\n",
       "bsmt_unf_sf        1\n",
       "total_bsmt_sf      1\n",
       "bsmt_full_bath     2\n",
       "bsmt_half_bath     2\n",
       "dtype: int64"
      ]
     },
     "execution_count": 3188,
     "metadata": {},
     "output_type": "execute_result"
    }
   ],
   "source": [
    "# check nulls\n",
    "ames_train[bsmt_feats].isnull().sum()"
   ]
  },
  {
   "cell_type": "code",
   "execution_count": 3189,
   "metadata": {},
   "outputs": [
    {
     "data": {
      "text/plain": [
       "bsmt_qual          object\n",
       "bsmt_cond          object\n",
       "bsmt_exposure      object\n",
       "bsmtfin_type_1     object\n",
       "bsmtfin_sf_1      float64\n",
       "bsmtfin_type_2     object\n",
       "bsmtfin_sf_2      float64\n",
       "bsmt_unf_sf       float64\n",
       "total_bsmt_sf     float64\n",
       "bsmt_full_bath    float64\n",
       "bsmt_half_bath    float64\n",
       "dtype: object"
      ]
     },
     "execution_count": 3189,
     "metadata": {},
     "output_type": "execute_result"
    }
   ],
   "source": [
    "# check data types\n",
    "ames_train[bsmt_feats].dtypes"
   ]
  },
  {
   "cell_type": "code",
   "execution_count": 3190,
   "metadata": {},
   "outputs": [],
   "source": [
    "# isolate nulls and change nulls to either 'None' for text columns or '0.0' for the floats\n",
    "ames_train.loc[(ames_train['bsmt_qual'].isnull()) & (ames_train['bsmt_cond'].isnull()) \n",
    "                        & (ames_train['bsmt_exposure'].isnull()) & (ames_train['bsmtfin_type_1'].isnull())\n",
    "                        & (ames_train['bsmtfin_type_2'].isnull()),\n",
    "               ['bsmt_qual','bsmt_cond','bsmt_exposure','bsmtfin_type_1','bsmtfin_type_2']] = 'None'\n",
    "\n",
    "ames_train.loc[(ames_train['bsmt_qual']=='None') & (ames_train['bsmt_cond']=='None') \n",
    "                        & (ames_train['bsmt_exposure']=='None') & (ames_train['bsmtfin_type_1']=='None')\n",
    "                        & (ames_train['bsmtfin_type_2']=='None'),\n",
    "               ['bsmtfin_sf_1','bsmtfin_sf_2','bsmt_unf_sf','total_bsmt_sf','bsmt_full_bath','bsmt_half_bath']] = 0.0\n"
   ]
  },
  {
   "cell_type": "code",
   "execution_count": 3191,
   "metadata": {},
   "outputs": [
    {
     "data": {
      "text/plain": [
       "bsmt_qual         0\n",
       "bsmt_cond         0\n",
       "bsmt_exposure     3\n",
       "bsmtfin_type_1    0\n",
       "bsmtfin_sf_1      0\n",
       "bsmtfin_type_2    1\n",
       "bsmtfin_sf_2      0\n",
       "bsmt_unf_sf       0\n",
       "total_bsmt_sf     0\n",
       "bsmt_full_bath    0\n",
       "bsmt_half_bath    0\n",
       "dtype: int64"
      ]
     },
     "execution_count": 3191,
     "metadata": {},
     "output_type": "execute_result"
    }
   ],
   "source": [
    "# check changes\n",
    "ames_train[bsmt_feats].isnull().sum()"
   ]
  },
  {
   "cell_type": "code",
   "execution_count": 3192,
   "metadata": {},
   "outputs": [
    {
     "data": {
      "text/html": [
       "<div>\n",
       "<style scoped>\n",
       "    .dataframe tbody tr th:only-of-type {\n",
       "        vertical-align: middle;\n",
       "    }\n",
       "\n",
       "    .dataframe tbody tr th {\n",
       "        vertical-align: top;\n",
       "    }\n",
       "\n",
       "    .dataframe thead th {\n",
       "        text-align: right;\n",
       "    }\n",
       "</style>\n",
       "<table border=\"1\" class=\"dataframe\">\n",
       "  <thead>\n",
       "    <tr style=\"text-align: right;\">\n",
       "      <th></th>\n",
       "      <th>bsmt_qual</th>\n",
       "      <th>bsmt_cond</th>\n",
       "      <th>bsmt_exposure</th>\n",
       "      <th>bsmtfin_type_1</th>\n",
       "      <th>bsmtfin_sf_1</th>\n",
       "      <th>bsmtfin_type_2</th>\n",
       "      <th>bsmtfin_sf_2</th>\n",
       "      <th>bsmt_unf_sf</th>\n",
       "      <th>total_bsmt_sf</th>\n",
       "      <th>bsmt_full_bath</th>\n",
       "      <th>bsmt_half_bath</th>\n",
       "    </tr>\n",
       "  </thead>\n",
       "  <tbody>\n",
       "    <tr>\n",
       "      <th>1147</th>\n",
       "      <td>Gd</td>\n",
       "      <td>TA</td>\n",
       "      <td>No</td>\n",
       "      <td>GLQ</td>\n",
       "      <td>1124.0</td>\n",
       "      <td>NaN</td>\n",
       "      <td>479.0</td>\n",
       "      <td>1603.0</td>\n",
       "      <td>3206.0</td>\n",
       "      <td>1.0</td>\n",
       "      <td>0.0</td>\n",
       "    </tr>\n",
       "    <tr>\n",
       "      <th>1456</th>\n",
       "      <td>Gd</td>\n",
       "      <td>TA</td>\n",
       "      <td>NaN</td>\n",
       "      <td>Unf</td>\n",
       "      <td>0.0</td>\n",
       "      <td>Unf</td>\n",
       "      <td>0.0</td>\n",
       "      <td>725.0</td>\n",
       "      <td>725.0</td>\n",
       "      <td>0.0</td>\n",
       "      <td>0.0</td>\n",
       "    </tr>\n",
       "    <tr>\n",
       "      <th>1547</th>\n",
       "      <td>Gd</td>\n",
       "      <td>TA</td>\n",
       "      <td>NaN</td>\n",
       "      <td>Unf</td>\n",
       "      <td>0.0</td>\n",
       "      <td>Unf</td>\n",
       "      <td>0.0</td>\n",
       "      <td>1595.0</td>\n",
       "      <td>1595.0</td>\n",
       "      <td>0.0</td>\n",
       "      <td>0.0</td>\n",
       "    </tr>\n",
       "    <tr>\n",
       "      <th>1997</th>\n",
       "      <td>Gd</td>\n",
       "      <td>TA</td>\n",
       "      <td>NaN</td>\n",
       "      <td>Unf</td>\n",
       "      <td>0.0</td>\n",
       "      <td>Unf</td>\n",
       "      <td>0.0</td>\n",
       "      <td>936.0</td>\n",
       "      <td>936.0</td>\n",
       "      <td>0.0</td>\n",
       "      <td>0.0</td>\n",
       "    </tr>\n",
       "  </tbody>\n",
       "</table>\n",
       "</div>"
      ],
      "text/plain": [
       "     bsmt_qual bsmt_cond bsmt_exposure bsmtfin_type_1  bsmtfin_sf_1  \\\n",
       "1147        Gd        TA            No            GLQ        1124.0   \n",
       "1456        Gd        TA           NaN            Unf           0.0   \n",
       "1547        Gd        TA           NaN            Unf           0.0   \n",
       "1997        Gd        TA           NaN            Unf           0.0   \n",
       "\n",
       "     bsmtfin_type_2  bsmtfin_sf_2  bsmt_unf_sf  total_bsmt_sf  bsmt_full_bath  \\\n",
       "1147            NaN         479.0       1603.0         3206.0             1.0   \n",
       "1456            Unf           0.0        725.0          725.0             0.0   \n",
       "1547            Unf           0.0       1595.0         1595.0             0.0   \n",
       "1997            Unf           0.0        936.0          936.0             0.0   \n",
       "\n",
       "      bsmt_half_bath  \n",
       "1147             0.0  \n",
       "1456             0.0  \n",
       "1547             0.0  \n",
       "1997             0.0  "
      ]
     },
     "execution_count": 3192,
     "metadata": {},
     "output_type": "execute_result"
    }
   ],
   "source": [
    "# check the final values\n",
    "ames_train[bsmt_feats][(ames_train['bsmt_exposure'].isnull()) | (ames_train['bsmtfin_type_2'].isnull())]"
   ]
  },
  {
   "cell_type": "markdown",
   "metadata": {},
   "source": [
    "+ Row 1147 has a 2nd basement which is currently being built. It should therefore be good quality but its purpose it unknown. So I will add a category called Unknown. \n",
    "\n",
    "feature: bsmtfin_type_2\n",
    "+ Description:\n",
    "    + Quality of second finished area (if present)\n",
    "+ Categories:\n",
    "\t+ GLQ Good Living Quarters\n",
    "\t+ ALQ Average Living Quarters\n",
    "\t+ BLQ Below Average Living Quarters\n",
    "\t+ Rec Average Rec Room\n",
    "\t+ LwQ Low Quality\n",
    "\t+ Unf Unfinshed"
   ]
  },
  {
   "cell_type": "code",
   "execution_count": 3193,
   "metadata": {},
   "outputs": [
    {
     "data": {
      "text/plain": [
       "nan"
      ]
     },
     "execution_count": 3193,
     "metadata": {},
     "output_type": "execute_result"
    }
   ],
   "source": [
    "# isolate\n",
    "ames_train.loc[1147,'bsmtfin_type_2']"
   ]
  },
  {
   "cell_type": "code",
   "execution_count": 3194,
   "metadata": {},
   "outputs": [],
   "source": [
    "# change\n",
    "ames_train.loc[1147,'bsmtfin_type_2'] = 'None'"
   ]
  },
  {
   "cell_type": "code",
   "execution_count": 3195,
   "metadata": {},
   "outputs": [
    {
     "data": {
      "text/plain": [
       "'None'"
      ]
     },
     "execution_count": 3195,
     "metadata": {},
     "output_type": "execute_result"
    }
   ],
   "source": [
    "# check\n",
    "ames_train.loc[1147,'bsmtfin_type_2']"
   ]
  },
  {
   "cell_type": "markdown",
   "metadata": {},
   "source": [
    "+ Rows 1456, 1547, 1997 are not finished. I will use the median value of 'No'\n",
    "feature: bsmt_exposure\n",
    "\n",
    "+ Description:\n",
    "\t+ Walkout or garden level basement walls\n",
    "+ Categories:\n",
    "\t+ Gd Good Exposure\n",
    "\t+ Av Average Exposure (split levels or foyers typically score average or above)\n",
    "\t+ Mn Mimimum Exposure\n",
    "\t+ No No Exposure"
   ]
  },
  {
   "cell_type": "code",
   "execution_count": 3196,
   "metadata": {},
   "outputs": [
    {
     "data": {
      "text/plain": [
       "No      1339\n",
       "Av       288\n",
       "Gd       203\n",
       "Mn       163\n",
       "None      55\n",
       "Name: bsmt_exposure, dtype: int64"
      ]
     },
     "execution_count": 3196,
     "metadata": {},
     "output_type": "execute_result"
    }
   ],
   "source": [
    "ames_train['bsmt_exposure'].value_counts()"
   ]
  },
  {
   "cell_type": "code",
   "execution_count": 3197,
   "metadata": {},
   "outputs": [
    {
     "data": {
      "text/html": [
       "<div>\n",
       "<style scoped>\n",
       "    .dataframe tbody tr th:only-of-type {\n",
       "        vertical-align: middle;\n",
       "    }\n",
       "\n",
       "    .dataframe tbody tr th {\n",
       "        vertical-align: top;\n",
       "    }\n",
       "\n",
       "    .dataframe thead th {\n",
       "        text-align: right;\n",
       "    }\n",
       "</style>\n",
       "<table border=\"1\" class=\"dataframe\">\n",
       "  <thead>\n",
       "    <tr style=\"text-align: right;\">\n",
       "      <th></th>\n",
       "      <th>bsmt_qual</th>\n",
       "      <th>bsmt_cond</th>\n",
       "      <th>bsmt_exposure</th>\n",
       "      <th>bsmtfin_type_1</th>\n",
       "      <th>bsmtfin_sf_1</th>\n",
       "      <th>bsmtfin_type_2</th>\n",
       "      <th>bsmtfin_sf_2</th>\n",
       "      <th>bsmt_unf_sf</th>\n",
       "      <th>total_bsmt_sf</th>\n",
       "      <th>bsmt_full_bath</th>\n",
       "      <th>bsmt_half_bath</th>\n",
       "    </tr>\n",
       "  </thead>\n",
       "  <tbody>\n",
       "    <tr>\n",
       "      <th>1456</th>\n",
       "      <td>Gd</td>\n",
       "      <td>TA</td>\n",
       "      <td>NaN</td>\n",
       "      <td>Unf</td>\n",
       "      <td>0.0</td>\n",
       "      <td>Unf</td>\n",
       "      <td>0.0</td>\n",
       "      <td>725.0</td>\n",
       "      <td>725.0</td>\n",
       "      <td>0.0</td>\n",
       "      <td>0.0</td>\n",
       "    </tr>\n",
       "    <tr>\n",
       "      <th>1547</th>\n",
       "      <td>Gd</td>\n",
       "      <td>TA</td>\n",
       "      <td>NaN</td>\n",
       "      <td>Unf</td>\n",
       "      <td>0.0</td>\n",
       "      <td>Unf</td>\n",
       "      <td>0.0</td>\n",
       "      <td>1595.0</td>\n",
       "      <td>1595.0</td>\n",
       "      <td>0.0</td>\n",
       "      <td>0.0</td>\n",
       "    </tr>\n",
       "    <tr>\n",
       "      <th>1997</th>\n",
       "      <td>Gd</td>\n",
       "      <td>TA</td>\n",
       "      <td>NaN</td>\n",
       "      <td>Unf</td>\n",
       "      <td>0.0</td>\n",
       "      <td>Unf</td>\n",
       "      <td>0.0</td>\n",
       "      <td>936.0</td>\n",
       "      <td>936.0</td>\n",
       "      <td>0.0</td>\n",
       "      <td>0.0</td>\n",
       "    </tr>\n",
       "  </tbody>\n",
       "</table>\n",
       "</div>"
      ],
      "text/plain": [
       "     bsmt_qual bsmt_cond bsmt_exposure bsmtfin_type_1  bsmtfin_sf_1  \\\n",
       "1456        Gd        TA           NaN            Unf           0.0   \n",
       "1547        Gd        TA           NaN            Unf           0.0   \n",
       "1997        Gd        TA           NaN            Unf           0.0   \n",
       "\n",
       "     bsmtfin_type_2  bsmtfin_sf_2  bsmt_unf_sf  total_bsmt_sf  bsmt_full_bath  \\\n",
       "1456            Unf           0.0        725.0          725.0             0.0   \n",
       "1547            Unf           0.0       1595.0         1595.0             0.0   \n",
       "1997            Unf           0.0        936.0          936.0             0.0   \n",
       "\n",
       "      bsmt_half_bath  \n",
       "1456             0.0  \n",
       "1547             0.0  \n",
       "1997             0.0  "
      ]
     },
     "execution_count": 3197,
     "metadata": {},
     "output_type": "execute_result"
    }
   ],
   "source": [
    "ames_train[bsmt_feats][(ames_train['bsmt_exposure'].isnull()) | (ames_train['bsmtfin_type_2'].isnull())]"
   ]
  },
  {
   "cell_type": "code",
   "execution_count": 3198,
   "metadata": {},
   "outputs": [],
   "source": [
    "# Change values\n",
    "ames_train.loc[[1456],'bsmt_exposure'] = 'No'\n",
    "ames_train.loc[[1547],'bsmt_exposure'] = 'No'\n",
    "ames_train.loc[[1997],'bsmt_exposure'] = 'No'"
   ]
  },
  {
   "cell_type": "code",
   "execution_count": 3199,
   "metadata": {},
   "outputs": [
    {
     "data": {
      "text/plain": [
       "1456    No\n",
       "1547    No\n",
       "1997    No\n",
       "Name: bsmt_exposure, dtype: object"
      ]
     },
     "execution_count": 3199,
     "metadata": {},
     "output_type": "execute_result"
    }
   ],
   "source": [
    "# Check values have been updated\n",
    "ames_train.loc[[1456,1547,1997],'bsmt_exposure']"
   ]
  },
  {
   "cell_type": "code",
   "execution_count": 3200,
   "metadata": {},
   "outputs": [
    {
     "data": {
      "text/plain": [
       "bsmt_qual         0\n",
       "bsmt_cond         0\n",
       "bsmt_exposure     0\n",
       "bsmtfin_type_1    0\n",
       "bsmtfin_sf_1      0\n",
       "bsmtfin_type_2    0\n",
       "bsmtfin_sf_2      0\n",
       "bsmt_unf_sf       0\n",
       "total_bsmt_sf     0\n",
       "bsmt_full_bath    0\n",
       "bsmt_half_bath    0\n",
       "dtype: int64"
      ]
     },
     "execution_count": 3200,
     "metadata": {},
     "output_type": "execute_result"
    }
   ],
   "source": [
    "# Final check for Basement columns\n",
    "ames_train[bsmt_feats].isnull().sum()"
   ]
  },
  {
   "cell_type": "markdown",
   "metadata": {},
   "source": [
    "---"
   ]
  },
  {
   "cell_type": "markdown",
   "metadata": {},
   "source": [
    "### Investigate\n",
    "\n",
    "+ misc_feature 97%\n",
    "+ alley 93%\n",
    "+ lot_frontage 16%"
   ]
  },
  {
   "cell_type": "markdown",
   "metadata": {},
   "source": [
    "### misc_feature"
   ]
  },
  {
   "cell_type": "code",
   "execution_count": 3201,
   "metadata": {
    "scrolled": false
   },
   "outputs": [
    {
     "data": {
      "text/plain": [
       "1986"
      ]
     },
     "execution_count": 3201,
     "metadata": {},
     "output_type": "execute_result"
    }
   ],
   "source": [
    "ames_train['misc_feature'].isnull().sum()"
   ]
  },
  {
   "cell_type": "code",
   "execution_count": 3202,
   "metadata": {},
   "outputs": [
    {
     "data": {
      "text/plain": [
       "Shed    56\n",
       "Gar2     4\n",
       "Othr     3\n",
       "Elev     1\n",
       "TenC     1\n",
       "Name: misc_feature, dtype: int64"
      ]
     },
     "execution_count": 3202,
     "metadata": {},
     "output_type": "execute_result"
    }
   ],
   "source": [
    "ames_train['misc_feature'].value_counts()"
   ]
  },
  {
   "cell_type": "markdown",
   "metadata": {},
   "source": [
    "It looks like there are very few features but maybe having an elevator or tennis court might be a key influencer on price. So I will replace the NaN values with 'None'. Then after the visualisation stage I will create dummy columns."
   ]
  },
  {
   "cell_type": "code",
   "execution_count": 3203,
   "metadata": {},
   "outputs": [],
   "source": [
    "# Change NaN to 'None'\n",
    "ames_train.loc[ames_train['misc_feature'].isnull(),['misc_feature']] = 'None'"
   ]
  },
  {
   "cell_type": "code",
   "execution_count": 3204,
   "metadata": {
    "scrolled": true
   },
   "outputs": [
    {
     "data": {
      "text/plain": [
       "None    1986\n",
       "Shed      56\n",
       "Gar2       4\n",
       "Othr       3\n",
       "Elev       1\n",
       "TenC       1\n",
       "Name: misc_feature, dtype: int64"
      ]
     },
     "execution_count": 3204,
     "metadata": {},
     "output_type": "execute_result"
    }
   ],
   "source": [
    "# Check changes\n",
    "ames_train['misc_feature'].value_counts()"
   ]
  },
  {
   "cell_type": "markdown",
   "metadata": {},
   "source": [
    "---"
   ]
  },
  {
   "cell_type": "markdown",
   "metadata": {},
   "source": [
    "### Alley"
   ]
  },
  {
   "cell_type": "code",
   "execution_count": 3205,
   "metadata": {},
   "outputs": [
    {
     "data": {
      "text/plain": [
       "1911"
      ]
     },
     "execution_count": 3205,
     "metadata": {},
     "output_type": "execute_result"
    }
   ],
   "source": [
    "# check nulls\n",
    "ames_train['alley'].isnull().sum()"
   ]
  },
  {
   "cell_type": "code",
   "execution_count": 3206,
   "metadata": {},
   "outputs": [
    {
     "data": {
      "text/plain": [
       "Grvl    85\n",
       "Pave    55\n",
       "Name: alley, dtype: int64"
      ]
     },
     "execution_count": 3206,
     "metadata": {},
     "output_type": "execute_result"
    }
   ],
   "source": [
    "# check values\n",
    "ames_train['alley'].value_counts()"
   ]
  },
  {
   "cell_type": "markdown",
   "metadata": {},
   "source": [
    "Similar to 'misc_feature' there are very few features but maybe it is an influencer on price. So I will replace the NaN values with 'None'. Then after the visualisation stage I will create dummy columns."
   ]
  },
  {
   "cell_type": "code",
   "execution_count": 3207,
   "metadata": {},
   "outputs": [],
   "source": [
    "# Change NaN to 'None'\n",
    "ames_train.loc[ames_train['alley'].isnull(),['alley']] = 'None'"
   ]
  },
  {
   "cell_type": "code",
   "execution_count": 3208,
   "metadata": {},
   "outputs": [
    {
     "data": {
      "text/plain": [
       "None    1911\n",
       "Grvl      85\n",
       "Pave      55\n",
       "Name: alley, dtype: int64"
      ]
     },
     "execution_count": 3208,
     "metadata": {},
     "output_type": "execute_result"
    }
   ],
   "source": [
    "# Check changes\n",
    "ames_train['alley'].value_counts()"
   ]
  },
  {
   "cell_type": "markdown",
   "metadata": {},
   "source": [
    "---"
   ]
  },
  {
   "cell_type": "markdown",
   "metadata": {},
   "source": [
    "### lot_frontage"
   ]
  },
  {
   "cell_type": "markdown",
   "metadata": {},
   "source": [
    "Those 'lot_frontage' has a lot of NaN's. [Frontage](https://www.gimme-shelter.com/frontage-50043/) represents the 'Linear feet of street connected to property'. It has an important impact on price. I will therefore look at some other columns see if there is any useful insights and a way of predicting, otherwise I will take the average."
   ]
  },
  {
   "cell_type": "code",
   "execution_count": 3209,
   "metadata": {},
   "outputs": [
    {
     "data": {
      "text/plain": [
       "count    1721.000000\n",
       "mean       69.055200\n",
       "std        23.260653\n",
       "min        21.000000\n",
       "25%        58.000000\n",
       "50%        68.000000\n",
       "75%        80.000000\n",
       "max       313.000000\n",
       "Name: lot_frontage, dtype: float64"
      ]
     },
     "execution_count": 3209,
     "metadata": {},
     "output_type": "execute_result"
    }
   ],
   "source": [
    "# check out lot frontage\n",
    "ames_train['lot_frontage'].describe()"
   ]
  },
  {
   "cell_type": "code",
   "execution_count": 3210,
   "metadata": {},
   "outputs": [
    {
     "data": {
      "text/plain": [
       "330"
      ]
     },
     "execution_count": 3210,
     "metadata": {},
     "output_type": "execute_result"
    }
   ],
   "source": [
    "# count nulls \n",
    "ames_train['lot_frontage'].isnull().sum()"
   ]
  },
  {
   "cell_type": "code",
   "execution_count": 3211,
   "metadata": {},
   "outputs": [
    {
     "data": {
      "text/plain": [
       "Series([], Name: lot_frontage, dtype: float64)"
      ]
     },
     "execution_count": 3211,
     "metadata": {},
     "output_type": "execute_result"
    }
   ],
   "source": [
    "# update lot frontage\n",
    "ames_train['lot_frontage'][ames_train['lot_frontage'] == 0]"
   ]
  },
  {
   "cell_type": "code",
   "execution_count": 3212,
   "metadata": {},
   "outputs": [],
   "source": [
    "# check to see if the house type and frontage are correlated."
   ]
  },
  {
   "cell_type": "code",
   "execution_count": 3213,
   "metadata": {},
   "outputs": [],
   "source": [
    "frontage_feats = ['lot_frontage','lot_area','ms_subclass']"
   ]
  },
  {
   "cell_type": "code",
   "execution_count": 3214,
   "metadata": {},
   "outputs": [
    {
     "data": {
      "image/png": "[encoded data removed]",
      "text/plain": [
       "<Figure size 432x288 with 2 Axes>"
      ]
     },
     "metadata": {
      "needs_background": "light"
     },
     "output_type": "display_data"
    }
   ],
   "source": [
    "sns.heatmap(ames_train[frontage_feats].corr(), annot=True, cmap=\"coolwarm\");"
   ]
  },
  {
   "cell_type": "code",
   "execution_count": 3215,
   "metadata": {},
   "outputs": [
    {
     "data": {
      "image/png": "[encoded data removed]",
      "text/plain": [
       "<Figure size 540x540 with 12 Axes>"
      ]
     },
     "metadata": {
      "needs_background": "light"
     },
     "output_type": "display_data"
    }
   ],
   "source": [
    "sns.pairplot(ames_train[frontage_feats]);"
   ]
  },
  {
   "cell_type": "code",
   "execution_count": 3216,
   "metadata": {},
   "outputs": [
    {
     "data": {
      "image/png": "[encoded data removed]",
      "text/plain": [
       "<Figure size 432x288 with 1 Axes>"
      ]
     },
     "metadata": {
      "needs_background": "light"
     },
     "output_type": "display_data"
    }
   ],
   "source": [
    "sns.scatterplot(ames_train['lot_area'],ames_train['lot_frontage']);"
   ]
  },
  {
   "cell_type": "markdown",
   "metadata": {},
   "source": [
    "lot_frontage and lot_area are correlated. So I will use SLR to estimate the missing points for lot_frontage. However I will compare the baseline of just using the average and compare it againt using SLR. The train test data will be used to decide the accuracy."
   ]
  },
  {
   "cell_type": "code",
   "execution_count": 3217,
   "metadata": {},
   "outputs": [
    {
     "data": {
      "text/html": [
       "<div>\n",
       "<style scoped>\n",
       "    .dataframe tbody tr th:only-of-type {\n",
       "        vertical-align: middle;\n",
       "    }\n",
       "\n",
       "    .dataframe tbody tr th {\n",
       "        vertical-align: top;\n",
       "    }\n",
       "\n",
       "    .dataframe thead th {\n",
       "        text-align: right;\n",
       "    }\n",
       "</style>\n",
       "<table border=\"1\" class=\"dataframe\">\n",
       "  <thead>\n",
       "    <tr style=\"text-align: right;\">\n",
       "      <th></th>\n",
       "      <th>id</th>\n",
       "      <th>lot_frontage</th>\n",
       "      <th>lot_area</th>\n",
       "    </tr>\n",
       "  </thead>\n",
       "  <tbody>\n",
       "    <tr>\n",
       "      <th>1</th>\n",
       "      <td>544</td>\n",
       "      <td>43.0</td>\n",
       "      <td>11492</td>\n",
       "    </tr>\n",
       "    <tr>\n",
       "      <th>2</th>\n",
       "      <td>153</td>\n",
       "      <td>68.0</td>\n",
       "      <td>7922</td>\n",
       "    </tr>\n",
       "    <tr>\n",
       "      <th>3</th>\n",
       "      <td>318</td>\n",
       "      <td>73.0</td>\n",
       "      <td>9802</td>\n",
       "    </tr>\n",
       "    <tr>\n",
       "      <th>4</th>\n",
       "      <td>255</td>\n",
       "      <td>82.0</td>\n",
       "      <td>14235</td>\n",
       "    </tr>\n",
       "    <tr>\n",
       "      <th>5</th>\n",
       "      <td>138</td>\n",
       "      <td>137.0</td>\n",
       "      <td>16492</td>\n",
       "    </tr>\n",
       "    <tr>\n",
       "      <th>...</th>\n",
       "      <td>...</td>\n",
       "      <td>...</td>\n",
       "      <td>...</td>\n",
       "    </tr>\n",
       "    <tr>\n",
       "      <th>2045</th>\n",
       "      <td>1051</td>\n",
       "      <td>96.0</td>\n",
       "      <td>12444</td>\n",
       "    </tr>\n",
       "    <tr>\n",
       "      <th>2046</th>\n",
       "      <td>1587</td>\n",
       "      <td>79.0</td>\n",
       "      <td>11449</td>\n",
       "    </tr>\n",
       "    <tr>\n",
       "      <th>2048</th>\n",
       "      <td>916</td>\n",
       "      <td>57.0</td>\n",
       "      <td>7558</td>\n",
       "    </tr>\n",
       "    <tr>\n",
       "      <th>2049</th>\n",
       "      <td>639</td>\n",
       "      <td>80.0</td>\n",
       "      <td>10400</td>\n",
       "    </tr>\n",
       "    <tr>\n",
       "      <th>2050</th>\n",
       "      <td>10</td>\n",
       "      <td>60.0</td>\n",
       "      <td>7500</td>\n",
       "    </tr>\n",
       "  </tbody>\n",
       "</table>\n",
       "<p>1721 rows × 3 columns</p>\n",
       "</div>"
      ],
      "text/plain": [
       "        id  lot_frontage  lot_area\n",
       "1      544          43.0     11492\n",
       "2      153          68.0      7922\n",
       "3      318          73.0      9802\n",
       "4      255          82.0     14235\n",
       "5      138         137.0     16492\n",
       "...    ...           ...       ...\n",
       "2045  1051          96.0     12444\n",
       "2046  1587          79.0     11449\n",
       "2048   916          57.0      7558\n",
       "2049   639          80.0     10400\n",
       "2050    10          60.0      7500\n",
       "\n",
       "[1721 rows x 3 columns]"
      ]
     },
     "execution_count": 3217,
     "metadata": {},
     "output_type": "execute_result"
    }
   ],
   "source": [
    "ames_train_no_frontage_nans = ames_train[['id','lot_frontage', 'lot_area']][ames_train['lot_frontage'].isnull() == False]\n",
    "ames_train_no_frontage_nans"
   ]
  },
  {
   "cell_type": "markdown",
   "metadata": {},
   "source": [
    "### Calculate baseline"
   ]
  },
  {
   "cell_type": "code",
   "execution_count": 3218,
   "metadata": {},
   "outputs": [],
   "source": [
    "# Remove NaN from test data\n",
    "test_lot_frontage = ames_train[['id','lot_frontage', 'lot_area']][(ames_train['lot_frontage'].isnull() == False) & \n",
    "                                        (ames_train['lot_area'].isnull() == False)]"
   ]
  },
  {
   "cell_type": "code",
   "execution_count": 3219,
   "metadata": {},
   "outputs": [
    {
     "data": {
      "text/plain": [
       "pandas.core.frame.DataFrame"
      ]
     },
     "execution_count": 3219,
     "metadata": {},
     "output_type": "execute_result"
    }
   ],
   "source": [
    "X_area = test_lot_frontage[['lot_area']]\n",
    "y_frontage = test_lot_frontage['lot_frontage']"
   ]
  },
  {
   "cell_type": "code",
   "execution_count": 3221,
   "metadata": {},
   "outputs": [
    {
     "data": {
      "image/png": "[encoded data removed]",
      "text/plain": [
       "<Figure size 720x720 with 1 Axes>"
      ]
     },
     "metadata": {
      "needs_background": "light"
     },
     "output_type": "display_data"
    }
   ],
   "source": [
    "# plot the data for mean\n",
    "fig = plt.figure(figsize=(10,10))\n",
    "ax = plt.gca()\n",
    "\n",
    "# plot the data\n",
    "ax.scatter(X_area,y_frontage, c='k')\n",
    "ax.plot((X_area.min(), \n",
    "         X_area.max()),\n",
    "        (np.mean(y_frontage), \n",
    "         np.mean(y_frontage)), color='r');\n",
    "plt.ylabel('lot_frontage')\n",
    "plt.xlabel('lot_area')\n",
    "plt.title('Average baseline');"
   ]
  },
  {
   "cell_type": "code",
   "execution_count": 3222,
   "metadata": {},
   "outputs": [
    {
     "data": {
      "text/plain": [
       "69.05520046484602"
      ]
     },
     "execution_count": 3222,
     "metadata": {},
     "output_type": "execute_result"
    }
   ],
   "source": [
    "# average lot_frontage\n",
    "average_frontage = np.mean(y_frontage)\n",
    "average_frontage"
   ]
  },
  {
   "cell_type": "code",
   "execution_count": 3223,
   "metadata": {},
   "outputs": [
    {
     "data": {
      "text/plain": [
       "23.253894551836126"
      ]
     },
     "execution_count": 3223,
     "metadata": {},
     "output_type": "execute_result"
    }
   ],
   "source": [
    "# Calculate RMSE for baseline\n",
    "(np.mean(np.square(y_frontage-average_frontage))) ** 0.5"
   ]
  },
  {
   "cell_type": "code",
   "execution_count": 3224,
   "metadata": {},
   "outputs": [
    {
     "data": {
      "text/plain": [
       "(1721,)"
      ]
     },
     "execution_count": 3224,
     "metadata": {},
     "output_type": "execute_result"
    }
   ],
   "source": [
    "y_frontage.shape"
   ]
  },
  {
   "cell_type": "code",
   "execution_count": 3225,
   "metadata": {},
   "outputs": [
    {
     "data": {
      "text/plain": [
       "array([[43.],\n",
       "       [68.],\n",
       "       [73.],\n",
       "       ...,\n",
       "       [57.],\n",
       "       [80.],\n",
       "       [60.]])"
      ]
     },
     "execution_count": 3225,
     "metadata": {},
     "output_type": "execute_result"
    }
   ],
   "source": [
    "y_frontage.values.reshape(-1,1)"
   ]
  },
  {
   "cell_type": "code",
   "execution_count": 3226,
   "metadata": {},
   "outputs": [
    {
     "data": {
      "text/plain": [
       "pandas.core.series.Series"
      ]
     },
     "execution_count": 3226,
     "metadata": {},
     "output_type": "execute_result"
    }
   ],
   "source": [
    "# create a series to act as the average\n",
    "avg_frontage = [average_frontage]*1721"
   ]
  },
  {
   "cell_type": "code",
   "execution_count": 3227,
   "metadata": {},
   "outputs": [
    {
     "data": {
      "text/plain": [
       "23.253894551836126"
      ]
     },
     "execution_count": 3227,
     "metadata": {},
     "output_type": "execute_result"
    }
   ],
   "source": [
    "# get the RMSE score\n",
    "np.sqrt(metrics.mean_squared_error(y_frontage, avg_frontage))"
   ]
  },
  {
   "cell_type": "markdown",
   "metadata": {},
   "source": [
    "### Calculate SLR"
   ]
  },
  {
   "cell_type": "code",
   "execution_count": 3229,
   "metadata": {},
   "outputs": [],
   "source": [
    "# instantiate the model\n",
    "lr_lot_frontage = LinearRegression()"
   ]
  },
  {
   "cell_type": "code",
   "execution_count": 3230,
   "metadata": {},
   "outputs": [
    {
     "data": {
      "text/plain": [
       "LinearRegression(copy_X=True, fit_intercept=True, n_jobs=None, normalize=False)"
      ]
     },
     "execution_count": 3230,
     "metadata": {},
     "output_type": "execute_result"
    }
   ],
   "source": [
    "lr_lot_frontage.fit(X_area, y_frontage)\n",
    "lr_lot_frontage.coef_"
   ]
  },
  {
   "cell_type": "code",
   "execution_count": 3232,
   "metadata": {},
   "outputs": [],
   "source": [
    "# get predictions\n",
    "frontage_prediction = lr_lot_frontage.predict(X_area)"
   ]
  },
  {
   "cell_type": "code",
   "execution_count": 3233,
   "metadata": {},
   "outputs": [
    {
     "data": {
      "text/plain": [
       "19.041178372964517"
      ]
     },
     "execution_count": 3233,
     "metadata": {},
     "output_type": "execute_result"
    }
   ],
   "source": [
    "# get RMSE score\n",
    "np.sqrt(metrics.mean_squared_error(y_frontage, frontage_prediction))"
   ]
  },
  {
   "cell_type": "markdown",
   "metadata": {},
   "source": [
    "#### Decision\n",
    "I will use the SLR as it has a better score then using the averages"
   ]
  },
  {
   "cell_type": "code",
   "execution_count": 3234,
   "metadata": {},
   "outputs": [],
   "source": [
    "frontage_prediction = list(frontage_prediction)\n",
    "frontage_prediction;"
   ]
  },
  {
   "cell_type": "code",
   "execution_count": 3235,
   "metadata": {},
   "outputs": [
    {
     "data": {
      "image/png": "[encoded data removed]",
      "text/plain": [
       "<Figure size 720x720 with 1 Axes>"
      ]
     },
     "metadata": {
      "needs_background": "light"
     },
     "output_type": "display_data"
    }
   ],
   "source": [
    "# plot the data for SLR predictions\n",
    "fig = plt.figure(figsize=(10,10))\n",
    "ax = plt.gca()\n",
    "\n",
    "# plot the data\n",
    "ax.scatter(X_area, y_frontage, c='k')\n",
    "ax.plot(X_area, \n",
    "         frontage_prediction, color='r');\n",
    "plt.xlabel('lot_area')\n",
    "plt.ylabel('lot_frontage')\n",
    "plt.title('Best fit using SLR');"
   ]
  },
  {
   "cell_type": "code",
   "execution_count": 3236,
   "metadata": {},
   "outputs": [
    {
     "data": {
      "text/html": [
       "<div>\n",
       "<style scoped>\n",
       "    .dataframe tbody tr th:only-of-type {\n",
       "        vertical-align: middle;\n",
       "    }\n",
       "\n",
       "    .dataframe tbody tr th {\n",
       "        vertical-align: top;\n",
       "    }\n",
       "\n",
       "    .dataframe thead th {\n",
       "        text-align: right;\n",
       "    }\n",
       "</style>\n",
       "<table border=\"1\" class=\"dataframe\">\n",
       "  <thead>\n",
       "    <tr style=\"text-align: right;\">\n",
       "      <th></th>\n",
       "      <th>id</th>\n",
       "      <th>lot_frontage</th>\n",
       "      <th>lot_area</th>\n",
       "    </tr>\n",
       "  </thead>\n",
       "  <tbody>\n",
       "    <tr>\n",
       "      <th>0</th>\n",
       "      <td>109</td>\n",
       "      <td>NaN</td>\n",
       "      <td>13517</td>\n",
       "    </tr>\n",
       "    <tr>\n",
       "      <th>7</th>\n",
       "      <td>145</td>\n",
       "      <td>NaN</td>\n",
       "      <td>12160</td>\n",
       "    </tr>\n",
       "    <tr>\n",
       "      <th>8</th>\n",
       "      <td>1942</td>\n",
       "      <td>NaN</td>\n",
       "      <td>15783</td>\n",
       "    </tr>\n",
       "    <tr>\n",
       "      <th>23</th>\n",
       "      <td>12</td>\n",
       "      <td>NaN</td>\n",
       "      <td>7980</td>\n",
       "    </tr>\n",
       "    <tr>\n",
       "      <th>27</th>\n",
       "      <td>1534</td>\n",
       "      <td>NaN</td>\n",
       "      <td>11700</td>\n",
       "    </tr>\n",
       "  </tbody>\n",
       "</table>\n",
       "</div>"
      ],
      "text/plain": [
       "      id  lot_frontage  lot_area\n",
       "0    109           NaN     13517\n",
       "7    145           NaN     12160\n",
       "8   1942           NaN     15783\n",
       "23    12           NaN      7980\n",
       "27  1534           NaN     11700"
      ]
     },
     "execution_count": 3236,
     "metadata": {},
     "output_type": "execute_result"
    }
   ],
   "source": [
    "#### get predicted values for NaN's\n",
    "ames_train_frontage_nans = ames_train[['id','lot_frontage', 'lot_area']][ames_train['lot_frontage'].isnull() == True]\n",
    "ames_train_frontage_nans.head()"
   ]
  },
  {
   "cell_type": "code",
   "execution_count": 3237,
   "metadata": {},
   "outputs": [],
   "source": [
    "# get the predict values using the prediction model\n",
    "frontage_prediction_for_nans = lr_lot_frontage.predict(ames_train_frontage_nans['lot_area'].values.reshape(-1,1))"
   ]
  },
  {
   "cell_type": "code",
   "execution_count": 3238,
   "metadata": {},
   "outputs": [],
   "source": [
    "# add the predictions\n",
    "ames_train.loc[ames_train['lot_frontage'].isnull(),'lot_frontage'] = predict_frontage_frm_areas"
   ]
  },
  {
   "cell_type": "code",
   "execution_count": 3239,
   "metadata": {},
   "outputs": [
    {
     "data": {
      "text/plain": [
       "Series([], Name: lot_frontage, dtype: float64)"
      ]
     },
     "execution_count": 3239,
     "metadata": {},
     "output_type": "execute_result"
    }
   ],
   "source": [
    "# check the values have been updated\n",
    "ames_train['lot_frontage'][ames_train['lot_frontage'].isnull() == True]"
   ]
  },
  {
   "cell_type": "markdown",
   "metadata": {},
   "source": [
    "---"
   ]
  },
  {
   "cell_type": "markdown",
   "metadata": {},
   "source": [
    "### Now investigate \n",
    "+ mas_vnr_type 1%\n",
    "+ mas_vnr_area 1%"
   ]
  },
  {
   "cell_type": "code",
   "execution_count": 3240,
   "metadata": {},
   "outputs": [
    {
     "data": {
      "text/html": [
       "<div>\n",
       "<style scoped>\n",
       "    .dataframe tbody tr th:only-of-type {\n",
       "        vertical-align: middle;\n",
       "    }\n",
       "\n",
       "    .dataframe tbody tr th {\n",
       "        vertical-align: top;\n",
       "    }\n",
       "\n",
       "    .dataframe thead th {\n",
       "        text-align: right;\n",
       "    }\n",
       "</style>\n",
       "<table border=\"1\" class=\"dataframe\">\n",
       "  <thead>\n",
       "    <tr style=\"text-align: right;\">\n",
       "      <th></th>\n",
       "      <th>bldg_type</th>\n",
       "      <th>house_style</th>\n",
       "      <th>overall_qual</th>\n",
       "      <th>overall_cond</th>\n",
       "      <th>roof_style</th>\n",
       "      <th>roof_matl</th>\n",
       "      <th>exterior_1st</th>\n",
       "      <th>exterior_2nd</th>\n",
       "      <th>mas_vnr_type</th>\n",
       "      <th>mas_vnr_area</th>\n",
       "      <th>exter_qual</th>\n",
       "      <th>exter_cond</th>\n",
       "    </tr>\n",
       "  </thead>\n",
       "  <tbody>\n",
       "    <tr>\n",
       "      <th>0</th>\n",
       "      <td>1Fam</td>\n",
       "      <td>2Story</td>\n",
       "      <td>6</td>\n",
       "      <td>8</td>\n",
       "      <td>Gable</td>\n",
       "      <td>CompShg</td>\n",
       "      <td>HdBoard</td>\n",
       "      <td>Plywood</td>\n",
       "      <td>BrkFace</td>\n",
       "      <td>289.0</td>\n",
       "      <td>Gd</td>\n",
       "      <td>TA</td>\n",
       "    </tr>\n",
       "    <tr>\n",
       "      <th>1</th>\n",
       "      <td>1Fam</td>\n",
       "      <td>2Story</td>\n",
       "      <td>7</td>\n",
       "      <td>5</td>\n",
       "      <td>Gable</td>\n",
       "      <td>CompShg</td>\n",
       "      <td>VinylSd</td>\n",
       "      <td>VinylSd</td>\n",
       "      <td>BrkFace</td>\n",
       "      <td>132.0</td>\n",
       "      <td>Gd</td>\n",
       "      <td>TA</td>\n",
       "    </tr>\n",
       "    <tr>\n",
       "      <th>2</th>\n",
       "      <td>1Fam</td>\n",
       "      <td>1Story</td>\n",
       "      <td>5</td>\n",
       "      <td>7</td>\n",
       "      <td>Gable</td>\n",
       "      <td>CompShg</td>\n",
       "      <td>VinylSd</td>\n",
       "      <td>VinylSd</td>\n",
       "      <td>None</td>\n",
       "      <td>0.0</td>\n",
       "      <td>TA</td>\n",
       "      <td>Gd</td>\n",
       "    </tr>\n",
       "    <tr>\n",
       "      <th>3</th>\n",
       "      <td>1Fam</td>\n",
       "      <td>2Story</td>\n",
       "      <td>5</td>\n",
       "      <td>5</td>\n",
       "      <td>Gable</td>\n",
       "      <td>CompShg</td>\n",
       "      <td>VinylSd</td>\n",
       "      <td>VinylSd</td>\n",
       "      <td>None</td>\n",
       "      <td>0.0</td>\n",
       "      <td>TA</td>\n",
       "      <td>TA</td>\n",
       "    </tr>\n",
       "    <tr>\n",
       "      <th>4</th>\n",
       "      <td>1Fam</td>\n",
       "      <td>1.5Fin</td>\n",
       "      <td>6</td>\n",
       "      <td>8</td>\n",
       "      <td>Gable</td>\n",
       "      <td>CompShg</td>\n",
       "      <td>Wd Sdng</td>\n",
       "      <td>Plywood</td>\n",
       "      <td>None</td>\n",
       "      <td>0.0</td>\n",
       "      <td>TA</td>\n",
       "      <td>TA</td>\n",
       "    </tr>\n",
       "  </tbody>\n",
       "</table>\n",
       "</div>"
      ],
      "text/plain": [
       "  bldg_type house_style  overall_qual  overall_cond roof_style roof_matl  \\\n",
       "0      1Fam      2Story             6             8      Gable   CompShg   \n",
       "1      1Fam      2Story             7             5      Gable   CompShg   \n",
       "2      1Fam      1Story             5             7      Gable   CompShg   \n",
       "3      1Fam      2Story             5             5      Gable   CompShg   \n",
       "4      1Fam      1.5Fin             6             8      Gable   CompShg   \n",
       "\n",
       "  exterior_1st exterior_2nd mas_vnr_type  mas_vnr_area exter_qual exter_cond  \n",
       "0      HdBoard      Plywood      BrkFace         289.0         Gd         TA  \n",
       "1      VinylSd      VinylSd      BrkFace         132.0         Gd         TA  \n",
       "2      VinylSd      VinylSd         None           0.0         TA         Gd  \n",
       "3      VinylSd      VinylSd         None           0.0         TA         TA  \n",
       "4      Wd Sdng      Plywood         None           0.0         TA         TA  "
      ]
     },
     "execution_count": 3240,
     "metadata": {},
     "output_type": "execute_result"
    }
   ],
   "source": [
    "ames_train.loc[:,['bldg_type','house_style','overall_qual','overall_cond','roof_style','roof_matl','exterior_1st',\n",
    "                  'exterior_2nd','mas_vnr_type','mas_vnr_area','exter_qual','exter_cond']].head()"
   ]
  },
  {
   "cell_type": "code",
   "execution_count": 3241,
   "metadata": {},
   "outputs": [
    {
     "data": {
      "text/html": [
       "<div>\n",
       "<style scoped>\n",
       "    .dataframe tbody tr th:only-of-type {\n",
       "        vertical-align: middle;\n",
       "    }\n",
       "\n",
       "    .dataframe tbody tr th {\n",
       "        vertical-align: top;\n",
       "    }\n",
       "\n",
       "    .dataframe thead th {\n",
       "        text-align: right;\n",
       "    }\n",
       "</style>\n",
       "<table border=\"1\" class=\"dataframe\">\n",
       "  <thead>\n",
       "    <tr style=\"text-align: right;\">\n",
       "      <th></th>\n",
       "      <th>bldg_type</th>\n",
       "      <th>house_style</th>\n",
       "      <th>overall_qual</th>\n",
       "      <th>overall_cond</th>\n",
       "      <th>roof_style</th>\n",
       "      <th>roof_matl</th>\n",
       "      <th>exterior_1st</th>\n",
       "      <th>exterior_2nd</th>\n",
       "      <th>mas_vnr_type</th>\n",
       "      <th>mas_vnr_area</th>\n",
       "      <th>exter_qual</th>\n",
       "      <th>exter_cond</th>\n",
       "    </tr>\n",
       "  </thead>\n",
       "  <tbody>\n",
       "    <tr>\n",
       "      <th>2046</th>\n",
       "      <td>1Fam</td>\n",
       "      <td>1Story</td>\n",
       "      <td>8</td>\n",
       "      <td>5</td>\n",
       "      <td>Gable</td>\n",
       "      <td>CompShg</td>\n",
       "      <td>VinylSd</td>\n",
       "      <td>VinylSd</td>\n",
       "      <td>None</td>\n",
       "      <td>0.0</td>\n",
       "      <td>Gd</td>\n",
       "      <td>TA</td>\n",
       "    </tr>\n",
       "    <tr>\n",
       "      <th>2047</th>\n",
       "      <td>1Fam</td>\n",
       "      <td>1Story</td>\n",
       "      <td>4</td>\n",
       "      <td>5</td>\n",
       "      <td>Gable</td>\n",
       "      <td>CompShg</td>\n",
       "      <td>VinylSd</td>\n",
       "      <td>VinylSd</td>\n",
       "      <td>None</td>\n",
       "      <td>0.0</td>\n",
       "      <td>TA</td>\n",
       "      <td>TA</td>\n",
       "    </tr>\n",
       "    <tr>\n",
       "      <th>2048</th>\n",
       "      <td>1Fam</td>\n",
       "      <td>1.5Fin</td>\n",
       "      <td>6</td>\n",
       "      <td>6</td>\n",
       "      <td>Gable</td>\n",
       "      <td>CompShg</td>\n",
       "      <td>BrkFace</td>\n",
       "      <td>Stone</td>\n",
       "      <td>None</td>\n",
       "      <td>0.0</td>\n",
       "      <td>TA</td>\n",
       "      <td>TA</td>\n",
       "    </tr>\n",
       "    <tr>\n",
       "      <th>2049</th>\n",
       "      <td>1Fam</td>\n",
       "      <td>1Story</td>\n",
       "      <td>4</td>\n",
       "      <td>5</td>\n",
       "      <td>Gable</td>\n",
       "      <td>CompShg</td>\n",
       "      <td>Plywood</td>\n",
       "      <td>Plywood</td>\n",
       "      <td>None</td>\n",
       "      <td>0.0</td>\n",
       "      <td>TA</td>\n",
       "      <td>TA</td>\n",
       "    </tr>\n",
       "    <tr>\n",
       "      <th>2050</th>\n",
       "      <td>1Fam</td>\n",
       "      <td>2Story</td>\n",
       "      <td>7</td>\n",
       "      <td>5</td>\n",
       "      <td>Gable</td>\n",
       "      <td>CompShg</td>\n",
       "      <td>VinylSd</td>\n",
       "      <td>VinylSd</td>\n",
       "      <td>None</td>\n",
       "      <td>0.0</td>\n",
       "      <td>TA</td>\n",
       "      <td>TA</td>\n",
       "    </tr>\n",
       "  </tbody>\n",
       "</table>\n",
       "</div>"
      ],
      "text/plain": [
       "     bldg_type house_style  overall_qual  overall_cond roof_style roof_matl  \\\n",
       "2046      1Fam      1Story             8             5      Gable   CompShg   \n",
       "2047      1Fam      1Story             4             5      Gable   CompShg   \n",
       "2048      1Fam      1.5Fin             6             6      Gable   CompShg   \n",
       "2049      1Fam      1Story             4             5      Gable   CompShg   \n",
       "2050      1Fam      2Story             7             5      Gable   CompShg   \n",
       "\n",
       "     exterior_1st exterior_2nd mas_vnr_type  mas_vnr_area exter_qual  \\\n",
       "2046      VinylSd      VinylSd         None           0.0         Gd   \n",
       "2047      VinylSd      VinylSd         None           0.0         TA   \n",
       "2048      BrkFace        Stone         None           0.0         TA   \n",
       "2049      Plywood      Plywood         None           0.0         TA   \n",
       "2050      VinylSd      VinylSd         None           0.0         TA   \n",
       "\n",
       "     exter_cond  \n",
       "2046         TA  \n",
       "2047         TA  \n",
       "2048         TA  \n",
       "2049         TA  \n",
       "2050         TA  "
      ]
     },
     "execution_count": 3241,
     "metadata": {},
     "output_type": "execute_result"
    }
   ],
   "source": [
    "ames_train.loc[:,['bldg_type','house_style','overall_qual','overall_cond','roof_style','roof_matl','exterior_1st',\n",
    "                  'exterior_2nd','mas_vnr_type','mas_vnr_area','exter_qual','exter_cond']].tail()"
   ]
  },
  {
   "cell_type": "code",
   "execution_count": 3242,
   "metadata": {},
   "outputs": [
    {
     "data": {
      "text/html": [
       "<div>\n",
       "<style scoped>\n",
       "    .dataframe tbody tr th:only-of-type {\n",
       "        vertical-align: middle;\n",
       "    }\n",
       "\n",
       "    .dataframe tbody tr th {\n",
       "        vertical-align: top;\n",
       "    }\n",
       "\n",
       "    .dataframe thead th {\n",
       "        text-align: right;\n",
       "    }\n",
       "</style>\n",
       "<table border=\"1\" class=\"dataframe\">\n",
       "  <thead>\n",
       "    <tr style=\"text-align: right;\">\n",
       "      <th></th>\n",
       "      <th>bldg_type</th>\n",
       "      <th>house_style</th>\n",
       "      <th>overall_qual</th>\n",
       "      <th>overall_cond</th>\n",
       "      <th>roof_style</th>\n",
       "      <th>roof_matl</th>\n",
       "      <th>exterior_1st</th>\n",
       "      <th>exterior_2nd</th>\n",
       "      <th>mas_vnr_type</th>\n",
       "      <th>mas_vnr_area</th>\n",
       "      <th>exter_qual</th>\n",
       "      <th>exter_cond</th>\n",
       "    </tr>\n",
       "  </thead>\n",
       "  <tbody>\n",
       "    <tr>\n",
       "      <th>22</th>\n",
       "      <td>1Fam</td>\n",
       "      <td>2Story</td>\n",
       "      <td>8</td>\n",
       "      <td>5</td>\n",
       "      <td>Gable</td>\n",
       "      <td>CompShg</td>\n",
       "      <td>CemntBd</td>\n",
       "      <td>CmentBd</td>\n",
       "      <td>NaN</td>\n",
       "      <td>NaN</td>\n",
       "      <td>Gd</td>\n",
       "      <td>TA</td>\n",
       "    </tr>\n",
       "    <tr>\n",
       "      <th>41</th>\n",
       "      <td>1Fam</td>\n",
       "      <td>1Story</td>\n",
       "      <td>10</td>\n",
       "      <td>5</td>\n",
       "      <td>Gable</td>\n",
       "      <td>CompShg</td>\n",
       "      <td>VinylSd</td>\n",
       "      <td>VinylSd</td>\n",
       "      <td>NaN</td>\n",
       "      <td>NaN</td>\n",
       "      <td>Ex</td>\n",
       "      <td>TA</td>\n",
       "    </tr>\n",
       "    <tr>\n",
       "      <th>86</th>\n",
       "      <td>1Fam</td>\n",
       "      <td>1Story</td>\n",
       "      <td>7</td>\n",
       "      <td>5</td>\n",
       "      <td>Gable</td>\n",
       "      <td>CompShg</td>\n",
       "      <td>VinylSd</td>\n",
       "      <td>VinylSd</td>\n",
       "      <td>NaN</td>\n",
       "      <td>NaN</td>\n",
       "      <td>Gd</td>\n",
       "      <td>TA</td>\n",
       "    </tr>\n",
       "    <tr>\n",
       "      <th>212</th>\n",
       "      <td>1Fam</td>\n",
       "      <td>1Story</td>\n",
       "      <td>7</td>\n",
       "      <td>5</td>\n",
       "      <td>Gable</td>\n",
       "      <td>CompShg</td>\n",
       "      <td>VinylSd</td>\n",
       "      <td>VinylSd</td>\n",
       "      <td>NaN</td>\n",
       "      <td>NaN</td>\n",
       "      <td>Gd</td>\n",
       "      <td>TA</td>\n",
       "    </tr>\n",
       "    <tr>\n",
       "      <th>276</th>\n",
       "      <td>1Fam</td>\n",
       "      <td>1Story</td>\n",
       "      <td>6</td>\n",
       "      <td>5</td>\n",
       "      <td>Gable</td>\n",
       "      <td>CompShg</td>\n",
       "      <td>VinylSd</td>\n",
       "      <td>VinylSd</td>\n",
       "      <td>NaN</td>\n",
       "      <td>NaN</td>\n",
       "      <td>TA</td>\n",
       "      <td>TA</td>\n",
       "    </tr>\n",
       "    <tr>\n",
       "      <th>338</th>\n",
       "      <td>1Fam</td>\n",
       "      <td>2Story</td>\n",
       "      <td>8</td>\n",
       "      <td>5</td>\n",
       "      <td>Hip</td>\n",
       "      <td>CompShg</td>\n",
       "      <td>WdShing</td>\n",
       "      <td>Wd Shng</td>\n",
       "      <td>NaN</td>\n",
       "      <td>NaN</td>\n",
       "      <td>Gd</td>\n",
       "      <td>TA</td>\n",
       "    </tr>\n",
       "    <tr>\n",
       "      <th>431</th>\n",
       "      <td>1Fam</td>\n",
       "      <td>2Story</td>\n",
       "      <td>8</td>\n",
       "      <td>5</td>\n",
       "      <td>Gable</td>\n",
       "      <td>CompShg</td>\n",
       "      <td>VinylSd</td>\n",
       "      <td>VinylSd</td>\n",
       "      <td>NaN</td>\n",
       "      <td>NaN</td>\n",
       "      <td>Gd</td>\n",
       "      <td>TA</td>\n",
       "    </tr>\n",
       "    <tr>\n",
       "      <th>451</th>\n",
       "      <td>1Fam</td>\n",
       "      <td>1Story</td>\n",
       "      <td>8</td>\n",
       "      <td>5</td>\n",
       "      <td>Hip</td>\n",
       "      <td>CompShg</td>\n",
       "      <td>VinylSd</td>\n",
       "      <td>VinylSd</td>\n",
       "      <td>NaN</td>\n",
       "      <td>NaN</td>\n",
       "      <td>Gd</td>\n",
       "      <td>TA</td>\n",
       "    </tr>\n",
       "    <tr>\n",
       "      <th>591</th>\n",
       "      <td>TwnhsE</td>\n",
       "      <td>1Story</td>\n",
       "      <td>7</td>\n",
       "      <td>5</td>\n",
       "      <td>Gable</td>\n",
       "      <td>CompShg</td>\n",
       "      <td>VinylSd</td>\n",
       "      <td>VinylSd</td>\n",
       "      <td>NaN</td>\n",
       "      <td>NaN</td>\n",
       "      <td>Gd</td>\n",
       "      <td>TA</td>\n",
       "    </tr>\n",
       "    <tr>\n",
       "      <th>844</th>\n",
       "      <td>TwnhsE</td>\n",
       "      <td>1Story</td>\n",
       "      <td>8</td>\n",
       "      <td>5</td>\n",
       "      <td>Gable</td>\n",
       "      <td>CompShg</td>\n",
       "      <td>VinylSd</td>\n",
       "      <td>VinylSd</td>\n",
       "      <td>NaN</td>\n",
       "      <td>NaN</td>\n",
       "      <td>Gd</td>\n",
       "      <td>TA</td>\n",
       "    </tr>\n",
       "    <tr>\n",
       "      <th>913</th>\n",
       "      <td>1Fam</td>\n",
       "      <td>1Story</td>\n",
       "      <td>6</td>\n",
       "      <td>3</td>\n",
       "      <td>Hip</td>\n",
       "      <td>CompShg</td>\n",
       "      <td>Wd Sdng</td>\n",
       "      <td>Stone</td>\n",
       "      <td>NaN</td>\n",
       "      <td>NaN</td>\n",
       "      <td>Gd</td>\n",
       "      <td>TA</td>\n",
       "    </tr>\n",
       "    <tr>\n",
       "      <th>939</th>\n",
       "      <td>1Fam</td>\n",
       "      <td>1Story</td>\n",
       "      <td>7</td>\n",
       "      <td>5</td>\n",
       "      <td>Gable</td>\n",
       "      <td>CompShg</td>\n",
       "      <td>CemntBd</td>\n",
       "      <td>CmentBd</td>\n",
       "      <td>NaN</td>\n",
       "      <td>NaN</td>\n",
       "      <td>Gd</td>\n",
       "      <td>TA</td>\n",
       "    </tr>\n",
       "    <tr>\n",
       "      <th>1025</th>\n",
       "      <td>1Fam</td>\n",
       "      <td>1Story</td>\n",
       "      <td>7</td>\n",
       "      <td>5</td>\n",
       "      <td>Gable</td>\n",
       "      <td>CompShg</td>\n",
       "      <td>VinylSd</td>\n",
       "      <td>VinylSd</td>\n",
       "      <td>NaN</td>\n",
       "      <td>NaN</td>\n",
       "      <td>Gd</td>\n",
       "      <td>TA</td>\n",
       "    </tr>\n",
       "    <tr>\n",
       "      <th>1244</th>\n",
       "      <td>1Fam</td>\n",
       "      <td>2Story</td>\n",
       "      <td>8</td>\n",
       "      <td>5</td>\n",
       "      <td>Gable</td>\n",
       "      <td>CompShg</td>\n",
       "      <td>VinylSd</td>\n",
       "      <td>VinylSd</td>\n",
       "      <td>NaN</td>\n",
       "      <td>NaN</td>\n",
       "      <td>Gd</td>\n",
       "      <td>TA</td>\n",
       "    </tr>\n",
       "    <tr>\n",
       "      <th>1306</th>\n",
       "      <td>1Fam</td>\n",
       "      <td>SLvl</td>\n",
       "      <td>7</td>\n",
       "      <td>5</td>\n",
       "      <td>Gable</td>\n",
       "      <td>CompShg</td>\n",
       "      <td>VinylSd</td>\n",
       "      <td>VinylSd</td>\n",
       "      <td>NaN</td>\n",
       "      <td>NaN</td>\n",
       "      <td>Gd</td>\n",
       "      <td>TA</td>\n",
       "    </tr>\n",
       "    <tr>\n",
       "      <th>1430</th>\n",
       "      <td>1Fam</td>\n",
       "      <td>2Story</td>\n",
       "      <td>7</td>\n",
       "      <td>5</td>\n",
       "      <td>Gable</td>\n",
       "      <td>CompShg</td>\n",
       "      <td>VinylSd</td>\n",
       "      <td>VinylSd</td>\n",
       "      <td>NaN</td>\n",
       "      <td>NaN</td>\n",
       "      <td>Gd</td>\n",
       "      <td>TA</td>\n",
       "    </tr>\n",
       "    <tr>\n",
       "      <th>1434</th>\n",
       "      <td>1Fam</td>\n",
       "      <td>2Story</td>\n",
       "      <td>7</td>\n",
       "      <td>6</td>\n",
       "      <td>Gable</td>\n",
       "      <td>CompShg</td>\n",
       "      <td>CemntBd</td>\n",
       "      <td>CmentBd</td>\n",
       "      <td>NaN</td>\n",
       "      <td>NaN</td>\n",
       "      <td>Gd</td>\n",
       "      <td>TA</td>\n",
       "    </tr>\n",
       "    <tr>\n",
       "      <th>1606</th>\n",
       "      <td>1Fam</td>\n",
       "      <td>2Story</td>\n",
       "      <td>7</td>\n",
       "      <td>5</td>\n",
       "      <td>Gable</td>\n",
       "      <td>CompShg</td>\n",
       "      <td>VinylSd</td>\n",
       "      <td>VinylSd</td>\n",
       "      <td>NaN</td>\n",
       "      <td>NaN</td>\n",
       "      <td>Gd</td>\n",
       "      <td>TA</td>\n",
       "    </tr>\n",
       "    <tr>\n",
       "      <th>1699</th>\n",
       "      <td>1Fam</td>\n",
       "      <td>1Story</td>\n",
       "      <td>8</td>\n",
       "      <td>5</td>\n",
       "      <td>Hip</td>\n",
       "      <td>CompShg</td>\n",
       "      <td>VinylSd</td>\n",
       "      <td>VinylSd</td>\n",
       "      <td>NaN</td>\n",
       "      <td>NaN</td>\n",
       "      <td>Gd</td>\n",
       "      <td>TA</td>\n",
       "    </tr>\n",
       "    <tr>\n",
       "      <th>1815</th>\n",
       "      <td>1Fam</td>\n",
       "      <td>1Story</td>\n",
       "      <td>8</td>\n",
       "      <td>5</td>\n",
       "      <td>Gable</td>\n",
       "      <td>CompShg</td>\n",
       "      <td>VinylSd</td>\n",
       "      <td>VinylSd</td>\n",
       "      <td>NaN</td>\n",
       "      <td>NaN</td>\n",
       "      <td>Gd</td>\n",
       "      <td>TA</td>\n",
       "    </tr>\n",
       "    <tr>\n",
       "      <th>1820</th>\n",
       "      <td>1Fam</td>\n",
       "      <td>2Story</td>\n",
       "      <td>6</td>\n",
       "      <td>5</td>\n",
       "      <td>Gable</td>\n",
       "      <td>CompShg</td>\n",
       "      <td>VinylSd</td>\n",
       "      <td>VinylSd</td>\n",
       "      <td>NaN</td>\n",
       "      <td>NaN</td>\n",
       "      <td>Gd</td>\n",
       "      <td>TA</td>\n",
       "    </tr>\n",
       "    <tr>\n",
       "      <th>1941</th>\n",
       "      <td>1Fam</td>\n",
       "      <td>2Story</td>\n",
       "      <td>6</td>\n",
       "      <td>5</td>\n",
       "      <td>Gable</td>\n",
       "      <td>CompShg</td>\n",
       "      <td>VinylSd</td>\n",
       "      <td>VinylSd</td>\n",
       "      <td>NaN</td>\n",
       "      <td>NaN</td>\n",
       "      <td>Gd</td>\n",
       "      <td>TA</td>\n",
       "    </tr>\n",
       "  </tbody>\n",
       "</table>\n",
       "</div>"
      ],
      "text/plain": [
       "     bldg_type house_style  overall_qual  overall_cond roof_style roof_matl  \\\n",
       "22        1Fam      2Story             8             5      Gable   CompShg   \n",
       "41        1Fam      1Story            10             5      Gable   CompShg   \n",
       "86        1Fam      1Story             7             5      Gable   CompShg   \n",
       "212       1Fam      1Story             7             5      Gable   CompShg   \n",
       "276       1Fam      1Story             6             5      Gable   CompShg   \n",
       "338       1Fam      2Story             8             5        Hip   CompShg   \n",
       "431       1Fam      2Story             8             5      Gable   CompShg   \n",
       "451       1Fam      1Story             8             5        Hip   CompShg   \n",
       "591     TwnhsE      1Story             7             5      Gable   CompShg   \n",
       "844     TwnhsE      1Story             8             5      Gable   CompShg   \n",
       "913       1Fam      1Story             6             3        Hip   CompShg   \n",
       "939       1Fam      1Story             7             5      Gable   CompShg   \n",
       "1025      1Fam      1Story             7             5      Gable   CompShg   \n",
       "1244      1Fam      2Story             8             5      Gable   CompShg   \n",
       "1306      1Fam        SLvl             7             5      Gable   CompShg   \n",
       "1430      1Fam      2Story             7             5      Gable   CompShg   \n",
       "1434      1Fam      2Story             7             6      Gable   CompShg   \n",
       "1606      1Fam      2Story             7             5      Gable   CompShg   \n",
       "1699      1Fam      1Story             8             5        Hip   CompShg   \n",
       "1815      1Fam      1Story             8             5      Gable   CompShg   \n",
       "1820      1Fam      2Story             6             5      Gable   CompShg   \n",
       "1941      1Fam      2Story             6             5      Gable   CompShg   \n",
       "\n",
       "     exterior_1st exterior_2nd mas_vnr_type  mas_vnr_area exter_qual  \\\n",
       "22        CemntBd      CmentBd          NaN           NaN         Gd   \n",
       "41        VinylSd      VinylSd          NaN           NaN         Ex   \n",
       "86        VinylSd      VinylSd          NaN           NaN         Gd   \n",
       "212       VinylSd      VinylSd          NaN           NaN         Gd   \n",
       "276       VinylSd      VinylSd          NaN           NaN         TA   \n",
       "338       WdShing      Wd Shng          NaN           NaN         Gd   \n",
       "431       VinylSd      VinylSd          NaN           NaN         Gd   \n",
       "451       VinylSd      VinylSd          NaN           NaN         Gd   \n",
       "591       VinylSd      VinylSd          NaN           NaN         Gd   \n",
       "844       VinylSd      VinylSd          NaN           NaN         Gd   \n",
       "913       Wd Sdng        Stone          NaN           NaN         Gd   \n",
       "939       CemntBd      CmentBd          NaN           NaN         Gd   \n",
       "1025      VinylSd      VinylSd          NaN           NaN         Gd   \n",
       "1244      VinylSd      VinylSd          NaN           NaN         Gd   \n",
       "1306      VinylSd      VinylSd          NaN           NaN         Gd   \n",
       "1430      VinylSd      VinylSd          NaN           NaN         Gd   \n",
       "1434      CemntBd      CmentBd          NaN           NaN         Gd   \n",
       "1606      VinylSd      VinylSd          NaN           NaN         Gd   \n",
       "1699      VinylSd      VinylSd          NaN           NaN         Gd   \n",
       "1815      VinylSd      VinylSd          NaN           NaN         Gd   \n",
       "1820      VinylSd      VinylSd          NaN           NaN         Gd   \n",
       "1941      VinylSd      VinylSd          NaN           NaN         Gd   \n",
       "\n",
       "     exter_cond  \n",
       "22           TA  \n",
       "41           TA  \n",
       "86           TA  \n",
       "212          TA  \n",
       "276          TA  \n",
       "338          TA  \n",
       "431          TA  \n",
       "451          TA  \n",
       "591          TA  \n",
       "844          TA  \n",
       "913          TA  \n",
       "939          TA  \n",
       "1025         TA  \n",
       "1244         TA  \n",
       "1306         TA  \n",
       "1430         TA  \n",
       "1434         TA  \n",
       "1606         TA  \n",
       "1699         TA  \n",
       "1815         TA  \n",
       "1820         TA  \n",
       "1941         TA  "
      ]
     },
     "execution_count": 3242,
     "metadata": {},
     "output_type": "execute_result"
    }
   ],
   "source": [
    "# See if the nulls occur on the same rows\n",
    "\n",
    "ames_train.loc[:,['bldg_type','house_style','overall_qual','overall_cond','roof_style',\n",
    "                  'roof_matl','exterior_1st','exterior_2nd','mas_vnr_type','mas_vnr_area',\n",
    "                  'exter_qual','exter_cond']][(ames_train['mas_vnr_type'].isnull() == True) & \n",
    "                                              (ames_train['mas_vnr_area'].isnull() == True)]"
   ]
  },
  {
   "cell_type": "code",
   "execution_count": 3243,
   "metadata": {},
   "outputs": [
    {
     "data": {
      "text/plain": [
       "array(['BrkFace', 'None', nan, 'Stone', 'BrkCmn'], dtype=object)"
      ]
     },
     "execution_count": 3243,
     "metadata": {},
     "output_type": "execute_result"
    }
   ],
   "source": [
    "# Check unique values\n",
    "ames_train['mas_vnr_type'].unique()"
   ]
  },
  {
   "cell_type": "markdown",
   "metadata": {},
   "source": [
    "#### observation\n",
    "There doesnt look like there patterns to explore so I will replace mas_vnr_type NaN's with 'Unknown'. Therefore is I create dummy categories then if there is meaning then it wont be lost."
   ]
  },
  {
   "cell_type": "code",
   "execution_count": 3244,
   "metadata": {},
   "outputs": [],
   "source": [
    "mas_vnr_area_df = ames_train.loc[:,['bldg_type','house_style','overall_qual','overall_cond','roof_style',\n",
    "                  'roof_matl','exterior_1st','exterior_2nd','mas_vnr_type','mas_vnr_area',\n",
    "                  'exter_qual','exter_cond']][ames_train['mas_vnr_area'].isnull() == False]"
   ]
  },
  {
   "cell_type": "code",
   "execution_count": 3245,
   "metadata": {},
   "outputs": [
    {
     "data": {
      "text/plain": [
       "count    2029.000000\n",
       "mean       99.695909\n",
       "std       174.963129\n",
       "min         0.000000\n",
       "25%         0.000000\n",
       "50%         0.000000\n",
       "75%       161.000000\n",
       "max      1600.000000\n",
       "Name: mas_vnr_area, dtype: float64"
      ]
     },
     "execution_count": 3245,
     "metadata": {},
     "output_type": "execute_result"
    }
   ],
   "source": [
    "mas_vnr_area_df['mas_vnr_area'].describe()"
   ]
  },
  {
   "cell_type": "code",
   "execution_count": 3246,
   "metadata": {},
   "outputs": [
    {
     "data": {
      "image/png": "[encoded data removed]",
      "text/plain": [
       "<Figure size 432x288 with 1 Axes>"
      ]
     },
     "metadata": {
      "needs_background": "light"
     },
     "output_type": "display_data"
    }
   ],
   "source": [
    "plt.boxplot(mas_vnr_area_df['mas_vnr_area']);"
   ]
  },
  {
   "cell_type": "markdown",
   "metadata": {},
   "source": [
    "This shows that up to the 75% quartile the values are low below 161. The Median is 0 so I will use this as using the mean of ~100 is likely to give it a higher representative number. Especially as its mostly likely the is 0 as this is the median and also the 'mas_vnr_type' has been left out."
   ]
  },
  {
   "cell_type": "code",
   "execution_count": 3247,
   "metadata": {},
   "outputs": [],
   "source": [
    "# update values\n",
    "\n",
    "ames_train.loc[ames_train['mas_vnr_type'].isnull(),'mas_vnr_type'] = 'Unknown'\n",
    "ames_train.loc[ames_train['mas_vnr_area'].isnull(),'mas_vnr_area'] = 0.0\n"
   ]
  },
  {
   "cell_type": "markdown",
   "metadata": {},
   "source": [
    "### Check the overall NaN values"
   ]
  },
  {
   "cell_type": "code",
   "execution_count": 3248,
   "metadata": {},
   "outputs": [
    {
     "data": {
      "text/plain": [
       "saleprice         0\n",
       "total_bsmt_sf     0\n",
       "year_remod/add    0\n",
       "roof_style        0\n",
       "Name: 0, dtype: object"
      ]
     },
     "execution_count": 3248,
     "metadata": {},
     "output_type": "execute_result"
    }
   ],
   "source": [
    "summary_df = pd.DataFrame(ames_train.isnull().sum()).copy()\n",
    "summary_df[0] = summary_df[0].map(lambda x: str(x)) \n",
    "summary_df[0][summary_df[0] != 0].sort_values(ascending=False).head(4)"
   ]
  },
  {
   "cell_type": "markdown",
   "metadata": {},
   "source": [
    "There are only the 3 columns left with NaN's, these I planned to exclude for the first model."
   ]
  },
  {
   "cell_type": "code",
   "execution_count": 3249,
   "metadata": {},
   "outputs": [],
   "source": [
    "# Save Data\n",
    "ames_train.to_csv('./datasets/outputs/data_cleaning_train_1.0.csv')"
   ]
  },
  {
   "cell_type": "markdown",
   "metadata": {},
   "source": [
    "---"
   ]
  },
  {
   "cell_type": "markdown",
   "metadata": {},
   "source": [
    "# Clean Test Data"
   ]
  },
  {
   "cell_type": "code",
   "execution_count": 3250,
   "metadata": {},
   "outputs": [
    {
     "data": {
      "text/html": [
       "<div>\n",
       "<style scoped>\n",
       "    .dataframe tbody tr th:only-of-type {\n",
       "        vertical-align: middle;\n",
       "    }\n",
       "\n",
       "    .dataframe tbody tr th {\n",
       "        vertical-align: top;\n",
       "    }\n",
       "\n",
       "    .dataframe thead th {\n",
       "        text-align: right;\n",
       "    }\n",
       "</style>\n",
       "<table border=\"1\" class=\"dataframe\">\n",
       "  <thead>\n",
       "    <tr style=\"text-align: right;\">\n",
       "      <th></th>\n",
       "      <th>feature</th>\n",
       "      <th>null_count</th>\n",
       "      <th>dt</th>\n",
       "      <th>description</th>\n",
       "    </tr>\n",
       "  </thead>\n",
       "  <tbody>\n",
       "    <tr>\n",
       "      <th>4</th>\n",
       "      <td>lot_frontage</td>\n",
       "      <td>160</td>\n",
       "      <td>float</td>\n",
       "      <td>Linear feet of street connected to property</td>\n",
       "    </tr>\n",
       "    <tr>\n",
       "      <th>7</th>\n",
       "      <td>alley</td>\n",
       "      <td>821</td>\n",
       "      <td>string</td>\n",
       "      <td>Type of alley access to property</td>\n",
       "    </tr>\n",
       "    <tr>\n",
       "      <th>26</th>\n",
       "      <td>mas_vnr_type</td>\n",
       "      <td>1</td>\n",
       "      <td>string</td>\n",
       "      <td>Masonry veneer type</td>\n",
       "    </tr>\n",
       "    <tr>\n",
       "      <th>27</th>\n",
       "      <td>mas_vnr_area</td>\n",
       "      <td>1</td>\n",
       "      <td>float</td>\n",
       "      <td>Masonry veneer area in square feet</td>\n",
       "    </tr>\n",
       "    <tr>\n",
       "      <th>31</th>\n",
       "      <td>bsmt_qual</td>\n",
       "      <td>25</td>\n",
       "      <td>string</td>\n",
       "      <td>Height of the basement</td>\n",
       "    </tr>\n",
       "    <tr>\n",
       "      <th>32</th>\n",
       "      <td>bsmt_cond</td>\n",
       "      <td>25</td>\n",
       "      <td>string</td>\n",
       "      <td>General condition of the basement</td>\n",
       "    </tr>\n",
       "    <tr>\n",
       "      <th>33</th>\n",
       "      <td>bsmt_exposure</td>\n",
       "      <td>25</td>\n",
       "      <td>string</td>\n",
       "      <td>Walkout or garden level basement walls</td>\n",
       "    </tr>\n",
       "    <tr>\n",
       "      <th>34</th>\n",
       "      <td>bsmtfin_type_1</td>\n",
       "      <td>25</td>\n",
       "      <td>string</td>\n",
       "      <td>Quality of basement finished area</td>\n",
       "    </tr>\n",
       "    <tr>\n",
       "      <th>36</th>\n",
       "      <td>bsmtfin_type_2</td>\n",
       "      <td>25</td>\n",
       "      <td>string</td>\n",
       "      <td>Quality of second finished area (if present)</td>\n",
       "    </tr>\n",
       "    <tr>\n",
       "      <th>43</th>\n",
       "      <td>electrical</td>\n",
       "      <td>1</td>\n",
       "      <td>string</td>\n",
       "      <td>Electrical system</td>\n",
       "    </tr>\n",
       "    <tr>\n",
       "      <th>58</th>\n",
       "      <td>fireplace_qu</td>\n",
       "      <td>422</td>\n",
       "      <td>string</td>\n",
       "      <td>Fireplace quality</td>\n",
       "    </tr>\n",
       "    <tr>\n",
       "      <th>59</th>\n",
       "      <td>garage_type</td>\n",
       "      <td>44</td>\n",
       "      <td>string</td>\n",
       "      <td>Garage location</td>\n",
       "    </tr>\n",
       "    <tr>\n",
       "      <th>60</th>\n",
       "      <td>garage_yr_blt</td>\n",
       "      <td>45</td>\n",
       "      <td>float</td>\n",
       "      <td>Year garage was built</td>\n",
       "    </tr>\n",
       "    <tr>\n",
       "      <th>61</th>\n",
       "      <td>garage_finish</td>\n",
       "      <td>45</td>\n",
       "      <td>string</td>\n",
       "      <td>Interior finish of the garage</td>\n",
       "    </tr>\n",
       "    <tr>\n",
       "      <th>64</th>\n",
       "      <td>garage_qual</td>\n",
       "      <td>45</td>\n",
       "      <td>string</td>\n",
       "      <td>Garage quality</td>\n",
       "    </tr>\n",
       "    <tr>\n",
       "      <th>65</th>\n",
       "      <td>garage_cond</td>\n",
       "      <td>45</td>\n",
       "      <td>string</td>\n",
       "      <td>Garage condition</td>\n",
       "    </tr>\n",
       "    <tr>\n",
       "      <th>73</th>\n",
       "      <td>pool_qc</td>\n",
       "      <td>875</td>\n",
       "      <td>string</td>\n",
       "      <td>Pool quality</td>\n",
       "    </tr>\n",
       "    <tr>\n",
       "      <th>74</th>\n",
       "      <td>fence</td>\n",
       "      <td>707</td>\n",
       "      <td>string</td>\n",
       "      <td>Fence quality</td>\n",
       "    </tr>\n",
       "    <tr>\n",
       "      <th>75</th>\n",
       "      <td>misc_feature</td>\n",
       "      <td>838</td>\n",
       "      <td>string</td>\n",
       "      <td>Miscellaneous feature not covered in other cat...</td>\n",
       "    </tr>\n",
       "  </tbody>\n",
       "</table>\n",
       "</div>"
      ],
      "text/plain": [
       "           feature  null_count      dt  \\\n",
       "4     lot_frontage         160   float   \n",
       "7            alley         821  string   \n",
       "26    mas_vnr_type           1  string   \n",
       "27    mas_vnr_area           1   float   \n",
       "31       bsmt_qual          25  string   \n",
       "32       bsmt_cond          25  string   \n",
       "33   bsmt_exposure          25  string   \n",
       "34  bsmtfin_type_1          25  string   \n",
       "36  bsmtfin_type_2          25  string   \n",
       "43      electrical           1  string   \n",
       "58    fireplace_qu         422  string   \n",
       "59     garage_type          44  string   \n",
       "60   garage_yr_blt          45   float   \n",
       "61   garage_finish          45  string   \n",
       "64     garage_qual          45  string   \n",
       "65     garage_cond          45  string   \n",
       "73         pool_qc         875  string   \n",
       "74           fence         707  string   \n",
       "75    misc_feature         838  string   \n",
       "\n",
       "                                          description  \n",
       "4         Linear feet of street connected to property  \n",
       "7                    Type of alley access to property  \n",
       "26                                Masonry veneer type  \n",
       "27                 Masonry veneer area in square feet  \n",
       "31                             Height of the basement  \n",
       "32                  General condition of the basement  \n",
       "33             Walkout or garden level basement walls  \n",
       "34                  Quality of basement finished area  \n",
       "36       Quality of second finished area (if present)  \n",
       "43                                  Electrical system  \n",
       "58                                  Fireplace quality  \n",
       "59                                    Garage location  \n",
       "60                              Year garage was built  \n",
       "61                      Interior finish of the garage  \n",
       "64                                     Garage quality  \n",
       "65                                   Garage condition  \n",
       "73                                       Pool quality  \n",
       "74                                      Fence quality  \n",
       "75  Miscellaneous feature not covered in other cat...  "
      ]
     },
     "execution_count": 3250,
     "metadata": {},
     "output_type": "execute_result"
    }
   ],
   "source": [
    "# Create a dataframe for null values\n",
    "check_nulls_test = pd.DataFrame(ames_test.isnull().sum()).copy()\n",
    "check_nulls_test.rename(columns={0:\"null_count\"}, inplace=True)\n",
    "\n",
    "# reset index\n",
    "check_nulls_test.reset_index(inplace=True)\n",
    "check_nulls_test.rename(columns={'index':\"feature\"}, inplace=True)\n",
    "\n",
    "# Add descriptions so I can make sense of the Features and datatypes\n",
    "check_nulls_test = pd.merge(check_nulls_test, data_dict[['feature','dt','description']],on='feature', how='left')\n",
    "\n",
    "# Show only Features with misisng data\n",
    "cols_to_investigate_test_set = check_nulls_test[check_nulls_test['null_count'] != 0]\n",
    "cols_to_investigate_test_set"
   ]
  },
  {
   "cell_type": "code",
   "execution_count": 3251,
   "metadata": {},
   "outputs": [],
   "source": [
    "# create markdown table to write comments on\n",
    "table_str = '|Feature|Count|Type|Description|Categories|Impact|Observation|\\n|---|---|---|---|---|---|---|\\n'\n",
    "table = cols_to_investigate_test_set.to_dict('index')\n",
    "for key, inner_dic in table.items():\n",
    "    for k,v in inner_dic.items():\n",
    "        table_str += '| ' + str(inner_dic[k]) + \" \"\n",
    "    table_str += '| | | |\\n' \n",
    "\n",
    "# print and create md table\n",
    "#print(table_str)"
   ]
  },
  {
   "cell_type": "markdown",
   "metadata": {},
   "source": [
    "|Feature|Count|Type|Description|Categories|Impact|Observation|\n",
    "|---|---|---|---|---|---|---|\n",
    "| lot_frontage | 160 | float | Linear feet of street connected to property | | | |\n",
    "| alley | 821 | string | Type of alley access to property | | | |\n",
    "| mas_vnr_type | 1 | string | Masonry veneer type | | | |\n",
    "| mas_vnr_area | 1 | float | Masonry veneer area in square feet | | | |\n",
    "| bsmt_qual | 25 | string | Height of the basement | | | |\n",
    "| bsmt_cond | 25 | string | General condition of the basement | | | |\n",
    "| bsmt_exposure | 25 | string | Walkout or garden level basement walls | | | |\n",
    "| bsmtfin_type_1 | 25 | string | Quality of basement finished area | | | |\n",
    "| bsmtfin_type_2 | 25 | string | Quality of second finished area (if present) | | | |\n",
    "| electrical | 1 | string | Electrical system | | | |\n",
    "| fireplace_qu | 422 | string | Fireplace quality | | | |\n",
    "| garage_type | 44 | string | Garage location | | | |\n",
    "| garage_yr_blt | 45 | float | Year garage was built | | | |\n",
    "| garage_finish | 45 | string | Interior finish of the garage | | | |\n",
    "| garage_qual | 45 | string | Garage quality | | | |\n",
    "| garage_cond | 45 | string | Garage condition | | | |\n",
    "| pool_qc | 875 | string | Pool quality | | | |\n",
    "| fence | 707 | string | Fence quality | | | |\n",
    "| misc_feature | 838 | string | Miscellaneous feature not covered in other categories | | | |"
   ]
  },
  {
   "cell_type": "markdown",
   "metadata": {},
   "source": [
    "### Observations\n",
    "The issues that the train set are very similar to the test set. The only difference is the 1 electrical issue. I will investigate this but then treat the NaN's the same as the Training data."
   ]
  },
  {
   "cell_type": "markdown",
   "metadata": {},
   "source": [
    "---"
   ]
  },
  {
   "cell_type": "markdown",
   "metadata": {},
   "source": [
    "### Investigate electrical"
   ]
  },
  {
   "cell_type": "code",
   "execution_count": 3252,
   "metadata": {},
   "outputs": [
    {
     "data": {
      "text/plain": [
       "electrical\n",
       "FuseA     48\n",
       "FuseF     15\n",
       "FuseP      1\n",
       "SBrkr    814\n",
       "Name: electrical, dtype: int64"
      ]
     },
     "execution_count": 3252,
     "metadata": {},
     "output_type": "execute_result"
    }
   ],
   "source": [
    "ames_test.groupby('electrical')['electrical'].count()"
   ]
  },
  {
   "cell_type": "markdown",
   "metadata": {},
   "source": [
    "I will use the mode and median values rather than removing the row. Therefore it will become 'SBrkr'."
   ]
  },
  {
   "cell_type": "code",
   "execution_count": 3253,
   "metadata": {},
   "outputs": [
    {
     "data": {
      "text/html": [
       "<div>\n",
       "<style scoped>\n",
       "    .dataframe tbody tr th:only-of-type {\n",
       "        vertical-align: middle;\n",
       "    }\n",
       "\n",
       "    .dataframe tbody tr th {\n",
       "        vertical-align: top;\n",
       "    }\n",
       "\n",
       "    .dataframe thead th {\n",
       "        text-align: right;\n",
       "    }\n",
       "</style>\n",
       "<table border=\"1\" class=\"dataframe\">\n",
       "  <thead>\n",
       "    <tr style=\"text-align: right;\">\n",
       "      <th></th>\n",
       "      <th>id</th>\n",
       "      <th>electrical</th>\n",
       "    </tr>\n",
       "  </thead>\n",
       "  <tbody>\n",
       "    <tr>\n",
       "      <th>635</th>\n",
       "      <td>1578</td>\n",
       "      <td>NaN</td>\n",
       "    </tr>\n",
       "  </tbody>\n",
       "</table>\n",
       "</div>"
      ],
      "text/plain": [
       "       id electrical\n",
       "635  1578        NaN"
      ]
     },
     "execution_count": 3253,
     "metadata": {},
     "output_type": "execute_result"
    }
   ],
   "source": [
    "# Find row \n",
    "ames_test[['id','electrical']][ames_test['electrical'].isnull()]"
   ]
  },
  {
   "cell_type": "code",
   "execution_count": 3254,
   "metadata": {},
   "outputs": [],
   "source": [
    "# isolate and change\n",
    "ames_test['electrical'][(ames_test['electrical'].isnull()) & (ames_test['id'] == 1578)]\n",
    "ames_test.loc[635:635,'electrical'] = 'SBrkr'"
   ]
  },
  {
   "cell_type": "code",
   "execution_count": 3255,
   "metadata": {},
   "outputs": [
    {
     "data": {
      "text/plain": [
       "635    SBrkr\n",
       "Name: electrical, dtype: object"
      ]
     },
     "execution_count": 3255,
     "metadata": {},
     "output_type": "execute_result"
    }
   ],
   "source": [
    "# show and check\n",
    "ames_test.loc[635:635,'electrical']"
   ]
  },
  {
   "cell_type": "markdown",
   "metadata": {},
   "source": [
    "### Pool Quality"
   ]
  },
  {
   "cell_type": "code",
   "execution_count": 3256,
   "metadata": {},
   "outputs": [
    {
     "data": {
      "text/plain": [
       "Ex    3\n",
       "TA    1\n",
       "Name: pool_qc, dtype: int64"
      ]
     },
     "execution_count": 3256,
     "metadata": {},
     "output_type": "execute_result"
    }
   ],
   "source": [
    "# check the values\n",
    "ames_test['pool_qc'].value_counts()"
   ]
  },
  {
   "cell_type": "code",
   "execution_count": 3257,
   "metadata": {},
   "outputs": [
    {
     "data": {
      "text/plain": [
       "0      True\n",
       "1      True\n",
       "2      True\n",
       "3      True\n",
       "4      True\n",
       "       ... \n",
       "874    True\n",
       "875    True\n",
       "876    True\n",
       "877    True\n",
       "878    True\n",
       "Name: pool_qc, Length: 879, dtype: bool"
      ]
     },
     "execution_count": 3257,
     "metadata": {},
     "output_type": "execute_result"
    }
   ],
   "source": [
    "ames_test['pool_qc'].isnull() == True"
   ]
  },
  {
   "cell_type": "code",
   "execution_count": 3258,
   "metadata": {},
   "outputs": [
    {
     "data": {
      "text/plain": [
       "0      NaN\n",
       "1      NaN\n",
       "2      NaN\n",
       "3      NaN\n",
       "4      NaN\n",
       "      ... \n",
       "874    NaN\n",
       "875    NaN\n",
       "876    NaN\n",
       "877    NaN\n",
       "878    NaN\n",
       "Name: pool_qc, Length: 875, dtype: object"
      ]
     },
     "execution_count": 3258,
     "metadata": {},
     "output_type": "execute_result"
    }
   ],
   "source": [
    "ames_test.loc[ames_test['pool_qc'].isnull(),'pool_qc']"
   ]
  },
  {
   "cell_type": "markdown",
   "metadata": {},
   "source": [
    "####  Decision\n",
    "Update to 'None' to allow one hot encoding"
   ]
  },
  {
   "cell_type": "code",
   "execution_count": 3259,
   "metadata": {},
   "outputs": [],
   "source": [
    "ames_test.loc[ames_test['pool_qc'].isnull(),'pool_qc']  = 'None'"
   ]
  },
  {
   "cell_type": "code",
   "execution_count": 3260,
   "metadata": {},
   "outputs": [
    {
     "data": {
      "text/plain": [
       "None    875\n",
       "Ex        3\n",
       "TA        1\n",
       "Name: pool_qc, dtype: int64"
      ]
     },
     "execution_count": 3260,
     "metadata": {},
     "output_type": "execute_result"
    }
   ],
   "source": [
    "# check changes worked\n",
    "ames_test['pool_qc'].value_counts()"
   ]
  },
  {
   "cell_type": "markdown",
   "metadata": {},
   "source": [
    "---"
   ]
  },
  {
   "cell_type": "markdown",
   "metadata": {},
   "source": [
    "### Fence quality"
   ]
  },
  {
   "cell_type": "code",
   "execution_count": 3261,
   "metadata": {},
   "outputs": [
    {
     "data": {
      "text/plain": [
       "MnPrv    103\n",
       "GdPrv     35\n",
       "GdWo      32\n",
       "MnWw       2\n",
       "Name: fence, dtype: int64"
      ]
     },
     "execution_count": 3261,
     "metadata": {},
     "output_type": "execute_result"
    }
   ],
   "source": [
    "ames_test['fence'].value_counts()"
   ]
  },
  {
   "cell_type": "markdown",
   "metadata": {},
   "source": [
    "####  Decision\n",
    "Update to 'None' to allow one hot encoding"
   ]
  },
  {
   "cell_type": "code",
   "execution_count": 3262,
   "metadata": {},
   "outputs": [],
   "source": [
    "ames_test.loc[ames_test['fence'].isnull(),'fence']  = 'None'"
   ]
  },
  {
   "cell_type": "code",
   "execution_count": 3263,
   "metadata": {},
   "outputs": [
    {
     "data": {
      "text/plain": [
       "None     707\n",
       "MnPrv    103\n",
       "GdPrv     35\n",
       "GdWo      32\n",
       "MnWw       2\n",
       "Name: fence, dtype: int64"
      ]
     },
     "execution_count": 3263,
     "metadata": {},
     "output_type": "execute_result"
    }
   ],
   "source": [
    "# check changes worked\n",
    "ames_test['fence'].value_counts()"
   ]
  },
  {
   "cell_type": "markdown",
   "metadata": {},
   "source": [
    "---"
   ]
  },
  {
   "cell_type": "markdown",
   "metadata": {},
   "source": [
    "\n",
    "\n",
    "### Fireplace quality"
   ]
  },
  {
   "cell_type": "code",
   "execution_count": 3264,
   "metadata": {},
   "outputs": [
    {
     "data": {
      "text/plain": [
       "Gd    221\n",
       "TA    193\n",
       "Fa     16\n",
       "Po     15\n",
       "Ex     12\n",
       "Name: fireplace_qu, dtype: int64"
      ]
     },
     "execution_count": 3264,
     "metadata": {},
     "output_type": "execute_result"
    }
   ],
   "source": [
    "ames_test['fireplace_qu'].value_counts()"
   ]
  },
  {
   "cell_type": "markdown",
   "metadata": {},
   "source": [
    "####  Decision\n",
    "Update to 'None' to allow one hot encoding"
   ]
  },
  {
   "cell_type": "code",
   "execution_count": 3265,
   "metadata": {},
   "outputs": [],
   "source": [
    "ames_test.loc[ames_test['fireplace_qu'].isnull(), 'fireplace_qu']  = 'None'"
   ]
  },
  {
   "cell_type": "code",
   "execution_count": 3266,
   "metadata": {
    "scrolled": true
   },
   "outputs": [
    {
     "data": {
      "text/plain": [
       "None    422\n",
       "Gd      221\n",
       "TA      193\n",
       "Fa       16\n",
       "Po       15\n",
       "Ex       12\n",
       "Name: fireplace_qu, dtype: int64"
      ]
     },
     "execution_count": 3266,
     "metadata": {},
     "output_type": "execute_result"
    }
   ],
   "source": [
    "# check changes worked\n",
    "ames_test['fireplace_qu'].value_counts()"
   ]
  },
  {
   "cell_type": "markdown",
   "metadata": {},
   "source": [
    "---"
   ]
  },
  {
   "cell_type": "markdown",
   "metadata": {},
   "source": [
    "### Garage data"
   ]
  },
  {
   "cell_type": "code",
   "execution_count": 3267,
   "metadata": {},
   "outputs": [
    {
     "data": {
      "text/plain": [
       "garage_type      44\n",
       "garage_yr_blt    45\n",
       "garage_finish    45\n",
       "garage_cars       0\n",
       "garage_area       0\n",
       "garage_qual      45\n",
       "garage_cond      45\n",
       "dtype: int64"
      ]
     },
     "execution_count": 3267,
     "metadata": {},
     "output_type": "execute_result"
    }
   ],
   "source": [
    "ames_test[garage_feats].isnull().sum()"
   ]
  },
  {
   "cell_type": "code",
   "execution_count": 3268,
   "metadata": {},
   "outputs": [
    {
     "data": {
      "text/plain": [
       "(44, 4)"
      ]
     },
     "execution_count": 3268,
     "metadata": {},
     "output_type": "execute_result"
    }
   ],
   "source": [
    "# Calculate any with all missing info for categorical data\n",
    "ames_test.loc[(ames_test['garage_type'].isnull()) & (ames_test['garage_yr_blt'].isnull()) \n",
    "                        & (ames_test['garage_finish'].isnull()) & (ames_test['garage_qual'].isnull())\n",
    "                        & (ames_test['garage_cond'].isnull()),\n",
    "               ['garage_type','garage_finish','garage_qual','garage_cond']].shape\n"
   ]
  },
  {
   "cell_type": "code",
   "execution_count": 3269,
   "metadata": {},
   "outputs": [],
   "source": [
    "ames_test.loc[(ames_test['garage_type'].isnull()) & (ames_test['garage_yr_blt'].isnull()) \n",
    "                        & (ames_test['garage_finish'].isnull()) & (ames_test['garage_qual'].isnull())\n",
    "                        & (ames_test['garage_cond'].isnull()),\n",
    "               ['garage_type','garage_finish','garage_qual','garage_cond']] = 'None'"
   ]
  },
  {
   "cell_type": "code",
   "execution_count": 3270,
   "metadata": {},
   "outputs": [
    {
     "data": {
      "text/plain": [
       "garage_type       0\n",
       "garage_yr_blt    45\n",
       "garage_finish     1\n",
       "garage_cars       0\n",
       "garage_area       0\n",
       "garage_qual       1\n",
       "garage_cond       1\n",
       "dtype: int64"
      ]
     },
     "execution_count": 3270,
     "metadata": {},
     "output_type": "execute_result"
    }
   ],
   "source": [
    "ames_test[garage_feats].isnull().sum()"
   ]
  },
  {
   "cell_type": "code",
   "execution_count": 3271,
   "metadata": {},
   "outputs": [
    {
     "data": {
      "text/html": [
       "<div>\n",
       "<style scoped>\n",
       "    .dataframe tbody tr th:only-of-type {\n",
       "        vertical-align: middle;\n",
       "    }\n",
       "\n",
       "    .dataframe tbody tr th {\n",
       "        vertical-align: top;\n",
       "    }\n",
       "\n",
       "    .dataframe thead th {\n",
       "        text-align: right;\n",
       "    }\n",
       "</style>\n",
       "<table border=\"1\" class=\"dataframe\">\n",
       "  <thead>\n",
       "    <tr style=\"text-align: right;\">\n",
       "      <th></th>\n",
       "      <th>garage_finish</th>\n",
       "      <th>garage_qual</th>\n",
       "      <th>garage_cond</th>\n",
       "    </tr>\n",
       "  </thead>\n",
       "  <tbody>\n",
       "    <tr>\n",
       "      <th>765</th>\n",
       "      <td>NaN</td>\n",
       "      <td>NaN</td>\n",
       "      <td>NaN</td>\n",
       "    </tr>\n",
       "  </tbody>\n",
       "</table>\n",
       "</div>"
      ],
      "text/plain": [
       "    garage_finish garage_qual garage_cond\n",
       "765           NaN         NaN         NaN"
      ]
     },
     "execution_count": 3271,
     "metadata": {},
     "output_type": "execute_result"
    }
   ],
   "source": [
    "# find left over row\n",
    "ames_test.loc[(ames_test['garage_yr_blt'].isnull()) & (ames_test['garage_finish'].isnull()) &\n",
    "              (ames_test['garage_qual'].isnull()) & (ames_test['garage_cond'].isnull()),\n",
    "               ['garage_finish','garage_qual','garage_cond']]"
   ]
  },
  {
   "cell_type": "code",
   "execution_count": 3272,
   "metadata": {},
   "outputs": [],
   "source": [
    "# find left over row\n",
    "ames_test.loc[(ames_test['garage_yr_blt'].isnull()) & (ames_test['garage_finish'].isnull()) &\n",
    "              (ames_test['garage_qual'].isnull()) & (ames_test['garage_cond'].isnull()),\n",
    "               ['garage_finish','garage_qual','garage_cond']] = 'None'"
   ]
  },
  {
   "cell_type": "code",
   "execution_count": 3273,
   "metadata": {},
   "outputs": [
    {
     "data": {
      "text/plain": [
       "garage_type       0\n",
       "garage_yr_blt    45\n",
       "garage_finish     0\n",
       "garage_cars       0\n",
       "garage_area       0\n",
       "garage_qual       0\n",
       "garage_cond       0\n",
       "dtype: int64"
      ]
     },
     "execution_count": 3273,
     "metadata": {},
     "output_type": "execute_result"
    }
   ],
   "source": [
    "# check changes made\n",
    "ames_test[garage_feats].isnull().sum()"
   ]
  },
  {
   "cell_type": "code",
   "execution_count": 3307,
   "metadata": {},
   "outputs": [],
   "source": [
    "# update\n",
    "ames_test.loc[ames_test['garage_yr_blt'].isnull(), 'garage_yr_blt'] = 0\n"
   ]
  },
  {
   "cell_type": "code",
   "execution_count": 3275,
   "metadata": {},
   "outputs": [
    {
     "data": {
      "text/plain": [
       "misc_feature      838\n",
       "alley             821\n",
       "lot_frontage      160\n",
       "bsmt_qual          25\n",
       "bsmtfin_type_2     25\n",
       "bsmtfin_type_1     25\n",
       "bsmt_exposure      25\n",
       "bsmt_cond          25\n",
       "mas_vnr_area        1\n",
       "dtype: int64"
      ]
     },
     "execution_count": 3275,
     "metadata": {},
     "output_type": "execute_result"
    }
   ],
   "source": [
    "ames_test.isnull().sum().sort_values(ascending=False).head(9)"
   ]
  },
  {
   "cell_type": "markdown",
   "metadata": {},
   "source": [
    "---"
   ]
  },
  {
   "cell_type": "markdown",
   "metadata": {},
   "source": [
    "### Basement data"
   ]
  },
  {
   "cell_type": "code",
   "execution_count": 3276,
   "metadata": {},
   "outputs": [],
   "source": [
    "bsmt_feats = ['bsmt_qual','bsmt_cond','bsmt_exposure','bsmtfin_type_1','bsmtfin_sf_1','bsmtfin_type_2','bsmtfin_sf_2',\n",
    "              'bsmt_unf_sf','total_bsmt_sf','bsmt_full_bath','bsmt_half_bath']"
   ]
  },
  {
   "cell_type": "code",
   "execution_count": 3277,
   "metadata": {},
   "outputs": [
    {
     "data": {
      "text/plain": [
       "bsmtfin_type_2    25\n",
       "bsmtfin_type_1    25\n",
       "bsmt_exposure     25\n",
       "bsmt_cond         25\n",
       "bsmt_qual         25\n",
       "bsmt_half_bath     0\n",
       "dtype: int64"
      ]
     },
     "execution_count": 3277,
     "metadata": {},
     "output_type": "execute_result"
    }
   ],
   "source": [
    "ames_test[bsmt_feats].isnull().sum().sort_values(ascending=False).head(6)"
   ]
  },
  {
   "cell_type": "code",
   "execution_count": 3278,
   "metadata": {},
   "outputs": [
    {
     "data": {
      "text/plain": [
       "bsmt_qual         object\n",
       "bsmt_cond         object\n",
       "bsmt_exposure     object\n",
       "bsmtfin_type_1    object\n",
       "bsmtfin_sf_1       int64\n",
       "bsmtfin_type_2    object\n",
       "bsmtfin_sf_2       int64\n",
       "bsmt_unf_sf        int64\n",
       "total_bsmt_sf      int64\n",
       "bsmt_full_bath     int64\n",
       "bsmt_half_bath     int64\n",
       "dtype: object"
      ]
     },
     "execution_count": 3278,
     "metadata": {},
     "output_type": "execute_result"
    }
   ],
   "source": [
    "#check data types\n",
    "ames_test[bsmt_feats].dtypes"
   ]
  },
  {
   "cell_type": "code",
   "execution_count": 3279,
   "metadata": {},
   "outputs": [],
   "source": [
    "# isolate nulls and change nulls to either 'None' for text columns or '0.0' for the floats\n",
    "ames_test.loc[(ames_test['bsmt_qual'].isnull()) & (ames_test['bsmt_cond'].isnull()) \n",
    "                        & (ames_test['bsmt_exposure'].isnull()) & (ames_test['bsmtfin_type_1'].isnull())\n",
    "                        & (ames_test['bsmtfin_type_2'].isnull()),\n",
    "               ['bsmt_qual','bsmt_cond','bsmt_exposure','bsmtfin_type_1','bsmtfin_type_2']] = 'None'"
   ]
  },
  {
   "cell_type": "code",
   "execution_count": 3280,
   "metadata": {},
   "outputs": [
    {
     "data": {
      "text/plain": [
       "bsmt_qual         0\n",
       "bsmt_cond         0\n",
       "bsmt_exposure     0\n",
       "bsmtfin_type_1    0\n",
       "bsmtfin_sf_1      0\n",
       "bsmtfin_type_2    0\n",
       "bsmtfin_sf_2      0\n",
       "bsmt_unf_sf       0\n",
       "total_bsmt_sf     0\n",
       "bsmt_full_bath    0\n",
       "bsmt_half_bath    0\n",
       "dtype: int64"
      ]
     },
     "execution_count": 3280,
     "metadata": {},
     "output_type": "execute_result"
    }
   ],
   "source": [
    "# Check basement is done\n",
    "ames_test[bsmt_feats].isnull().sum()"
   ]
  },
  {
   "cell_type": "markdown",
   "metadata": {},
   "source": [
    "---"
   ]
  },
  {
   "cell_type": "markdown",
   "metadata": {},
   "source": [
    "### Clean mas_vnr_type and mas_vnr_area"
   ]
  },
  {
   "cell_type": "code",
   "execution_count": 3281,
   "metadata": {},
   "outputs": [
    {
     "data": {
      "text/html": [
       "<div>\n",
       "<style scoped>\n",
       "    .dataframe tbody tr th:only-of-type {\n",
       "        vertical-align: middle;\n",
       "    }\n",
       "\n",
       "    .dataframe tbody tr th {\n",
       "        vertical-align: top;\n",
       "    }\n",
       "\n",
       "    .dataframe thead th {\n",
       "        text-align: right;\n",
       "    }\n",
       "</style>\n",
       "<table border=\"1\" class=\"dataframe\">\n",
       "  <thead>\n",
       "    <tr style=\"text-align: right;\">\n",
       "      <th></th>\n",
       "      <th>bldg_type</th>\n",
       "      <th>house_style</th>\n",
       "      <th>overall_qual</th>\n",
       "      <th>overall_cond</th>\n",
       "      <th>roof_style</th>\n",
       "      <th>roof_matl</th>\n",
       "      <th>exterior_1st</th>\n",
       "      <th>exterior_2nd</th>\n",
       "      <th>mas_vnr_type</th>\n",
       "      <th>mas_vnr_area</th>\n",
       "      <th>exter_qual</th>\n",
       "      <th>exter_cond</th>\n",
       "    </tr>\n",
       "  </thead>\n",
       "  <tbody>\n",
       "    <tr>\n",
       "      <th>866</th>\n",
       "      <td>1Fam</td>\n",
       "      <td>2Story</td>\n",
       "      <td>7</td>\n",
       "      <td>5</td>\n",
       "      <td>Gable</td>\n",
       "      <td>CompShg</td>\n",
       "      <td>VinylSd</td>\n",
       "      <td>VinylSd</td>\n",
       "      <td>NaN</td>\n",
       "      <td>NaN</td>\n",
       "      <td>Gd</td>\n",
       "      <td>TA</td>\n",
       "    </tr>\n",
       "  </tbody>\n",
       "</table>\n",
       "</div>"
      ],
      "text/plain": [
       "    bldg_type house_style  overall_qual  overall_cond roof_style roof_matl  \\\n",
       "866      1Fam      2Story             7             5      Gable   CompShg   \n",
       "\n",
       "    exterior_1st exterior_2nd mas_vnr_type  mas_vnr_area exter_qual exter_cond  \n",
       "866      VinylSd      VinylSd          NaN           NaN         Gd         TA  "
      ]
     },
     "execution_count": 3281,
     "metadata": {},
     "output_type": "execute_result"
    }
   ],
   "source": [
    "ames_test.loc[:,['bldg_type','house_style','overall_qual','overall_cond','roof_style',\n",
    "                  'roof_matl','exterior_1st','exterior_2nd','mas_vnr_type','mas_vnr_area',\n",
    "                  'exter_qual','exter_cond']][(ames_test['mas_vnr_type'].isnull() == True) & \n",
    "                                              (ames_test['mas_vnr_area'].isnull() == True)]"
   ]
  },
  {
   "cell_type": "code",
   "execution_count": 3282,
   "metadata": {},
   "outputs": [],
   "source": [
    "# Just one row to be cleaned by making the area 0 and 'Unknown'\n",
    "ames_test.loc[866,'mas_vnr_type'] = 'Unknown'\n",
    "ames_test.loc[866,'mas_vnr_area'] = 0"
   ]
  },
  {
   "cell_type": "code",
   "execution_count": 3283,
   "metadata": {},
   "outputs": [
    {
     "data": {
      "text/plain": [
       "('Unknown', 0.0)"
      ]
     },
     "execution_count": 3283,
     "metadata": {},
     "output_type": "execute_result"
    }
   ],
   "source": [
    "ames_test.loc[866,'mas_vnr_type'], ames_test.loc[866,'mas_vnr_area']"
   ]
  },
  {
   "cell_type": "code",
   "execution_count": 3284,
   "metadata": {},
   "outputs": [
    {
     "data": {
      "text/plain": [
       "misc_feature    838\n",
       "alley           821\n",
       "lot_frontage    160\n",
       "sale_type         0\n",
       "exter_cond        0\n",
       "roof_style        0\n",
       "roof_matl         0\n",
       "dtype: int64"
      ]
     },
     "execution_count": 3284,
     "metadata": {},
     "output_type": "execute_result"
    }
   ],
   "source": [
    "# check data set\n",
    "ames_test.isnull().sum().sort_values(ascending=False).head(7)"
   ]
  },
  {
   "cell_type": "markdown",
   "metadata": {},
   "source": [
    "---"
   ]
  },
  {
   "cell_type": "markdown",
   "metadata": {},
   "source": [
    "### Misc Features"
   ]
  },
  {
   "cell_type": "code",
   "execution_count": 3285,
   "metadata": {},
   "outputs": [
    {
     "data": {
      "text/plain": [
       "838"
      ]
     },
     "execution_count": 3285,
     "metadata": {},
     "output_type": "execute_result"
    }
   ],
   "source": [
    "ames_test['misc_feature'].isnull().sum()"
   ]
  },
  {
   "cell_type": "code",
   "execution_count": 3286,
   "metadata": {},
   "outputs": [
    {
     "data": {
      "text/plain": [
       "Shed    39\n",
       "Gar2     1\n",
       "Othr     1\n",
       "Name: misc_feature, dtype: int64"
      ]
     },
     "execution_count": 3286,
     "metadata": {},
     "output_type": "execute_result"
    }
   ],
   "source": [
    "ames_test['misc_feature'].value_counts()"
   ]
  },
  {
   "cell_type": "markdown",
   "metadata": {},
   "source": [
    "#### Decision\n",
    "It looks like there are very few features but maybe having an elevator or tennis court might be a key influencer on price. So I will replace the NaN values with 'None'. Then after the visualisation stage I will create dummy columns."
   ]
  },
  {
   "cell_type": "code",
   "execution_count": 3287,
   "metadata": {},
   "outputs": [],
   "source": [
    "# Change NaN to 'None'\n",
    "ames_test.loc[ames_test['misc_feature'].isnull(),['misc_feature']] = 'None'"
   ]
  },
  {
   "cell_type": "code",
   "execution_count": 3288,
   "metadata": {},
   "outputs": [
    {
     "data": {
      "text/plain": [
       "None    838\n",
       "Shed     39\n",
       "Gar2      1\n",
       "Othr      1\n",
       "Name: misc_feature, dtype: int64"
      ]
     },
     "execution_count": 3288,
     "metadata": {},
     "output_type": "execute_result"
    }
   ],
   "source": [
    "# Check changes\n",
    "ames_test['misc_feature'].value_counts()"
   ]
  },
  {
   "cell_type": "markdown",
   "metadata": {},
   "source": [
    "---"
   ]
  },
  {
   "cell_type": "markdown",
   "metadata": {},
   "source": [
    "### Alley"
   ]
  },
  {
   "cell_type": "code",
   "execution_count": 3289,
   "metadata": {},
   "outputs": [
    {
     "data": {
      "text/plain": [
       "821"
      ]
     },
     "execution_count": 3289,
     "metadata": {},
     "output_type": "execute_result"
    }
   ],
   "source": [
    "ames_test['alley'].isnull().sum()"
   ]
  },
  {
   "cell_type": "code",
   "execution_count": 3290,
   "metadata": {},
   "outputs": [
    {
     "data": {
      "text/plain": [
       "Grvl    35\n",
       "Pave    23\n",
       "Name: alley, dtype: int64"
      ]
     },
     "execution_count": 3290,
     "metadata": {},
     "output_type": "execute_result"
    }
   ],
   "source": [
    "ames_test['alley'].value_counts()"
   ]
  },
  {
   "cell_type": "markdown",
   "metadata": {},
   "source": [
    "#### Decision\n",
    "Similar to 'misc_feature' there are very few features but maybe it is an influencer on price. So I will replace the NaN values with 'None'. Then after the visualisation stage I will create dummy columns."
   ]
  },
  {
   "cell_type": "code",
   "execution_count": 3291,
   "metadata": {},
   "outputs": [],
   "source": [
    "# Change NaN to 'None'\n",
    "ames_test.loc[ames_test['alley'].isnull(),['alley']] = 'None'"
   ]
  },
  {
   "cell_type": "code",
   "execution_count": 3292,
   "metadata": {},
   "outputs": [
    {
     "data": {
      "text/plain": [
       "None    821\n",
       "Grvl     35\n",
       "Pave     23\n",
       "Name: alley, dtype: int64"
      ]
     },
     "execution_count": 3292,
     "metadata": {},
     "output_type": "execute_result"
    }
   ],
   "source": [
    "# Check changes\n",
    "ames_test['alley'].value_counts()"
   ]
  },
  {
   "cell_type": "code",
   "execution_count": 3293,
   "metadata": {},
   "outputs": [
    {
     "data": {
      "text/plain": [
       "lot_frontage    160\n",
       "sale_type         0\n",
       "exter_cond        0\n",
       "roof_style        0\n",
       "roof_matl         0\n",
       "dtype: int64"
      ]
     },
     "execution_count": 3293,
     "metadata": {},
     "output_type": "execute_result"
    }
   ],
   "source": [
    "# check data set\n",
    "ames_test.isnull().sum().sort_values(ascending=False).head(5)"
   ]
  },
  {
   "cell_type": "markdown",
   "metadata": {},
   "source": [
    "---"
   ]
  },
  {
   "cell_type": "markdown",
   "metadata": {},
   "source": [
    "### Lot Frontage"
   ]
  },
  {
   "cell_type": "markdown",
   "metadata": {},
   "source": [
    "I will use the SLR model to estimate nulls again"
   ]
  },
  {
   "cell_type": "code",
   "execution_count": 3294,
   "metadata": {},
   "outputs": [],
   "source": [
    "frontage_prediction = lr_lot_frontage.predict(X_area)"
   ]
  },
  {
   "cell_type": "code",
   "execution_count": 3295,
   "metadata": {},
   "outputs": [
    {
     "data": {
      "text/plain": [
       "19.041178372964517"
      ]
     },
     "execution_count": 3295,
     "metadata": {},
     "output_type": "execute_result"
    }
   ],
   "source": [
    "np.sqrt(metrics.mean_squared_error(y_frontage, frontage_prediction))"
   ]
  },
  {
   "cell_type": "code",
   "execution_count": 3296,
   "metadata": {},
   "outputs": [],
   "source": [
    "frontage_prediction = list(frontage_prediction)\n",
    "frontage_prediction;"
   ]
  },
  {
   "cell_type": "code",
   "execution_count": 3297,
   "metadata": {
    "scrolled": false
   },
   "outputs": [
    {
     "data": {
      "image/png": "[encoded data removed]",
      "text/plain": [
       "<Figure size 720x720 with 1 Axes>"
      ]
     },
     "metadata": {
      "needs_background": "light"
     },
     "output_type": "display_data"
    }
   ],
   "source": [
    "# plot the data for SLR predictions\n",
    "fig = plt.figure(figsize=(10,10))\n",
    "ax = plt.gca()\n",
    "\n",
    "\n",
    "# plot the data\n",
    "ax.scatter(X_area, y_frontage, c='k')\n",
    "ax.plot(X_area, \n",
    "         frontage_prediction, color='r');\n",
    "plt.xlabel('lot_area')\n",
    "plt.ylabel('lot_frontage')\n",
    "plt.title('Best fit using SLR');"
   ]
  },
  {
   "cell_type": "code",
   "execution_count": 3298,
   "metadata": {},
   "outputs": [
    {
     "data": {
      "text/plain": [
       "(160,)"
      ]
     },
     "execution_count": 3298,
     "metadata": {},
     "output_type": "execute_result"
    }
   ],
   "source": [
    "#### get predicted values for NaN's\n",
    "ames_test_frontage_nans = ames_test[['id','lot_frontage', 'lot_area']][ames_test['lot_frontage'].isnull() == True]\n",
    "ames_test_frontage_nans.head()\n",
    "\n",
    "ames_test_frontage_nans['lot_area'].shape"
   ]
  },
  {
   "cell_type": "code",
   "execution_count": 3299,
   "metadata": {},
   "outputs": [
    {
     "data": {
      "text/plain": [
       "(160,)"
      ]
     },
     "execution_count": 3299,
     "metadata": {},
     "output_type": "execute_result"
    }
   ],
   "source": [
    "# get the predict values using the prediction model\n",
    "frontage_prediction_for_nans = lr_lot_frontage.predict(ames_test_frontage_nans[['lot_area']])\n",
    "frontage_prediction_for_nans.shape"
   ]
  },
  {
   "cell_type": "code",
   "execution_count": 3300,
   "metadata": {},
   "outputs": [],
   "source": [
    "ames_test.loc[ames_test['lot_frontage'].isnull(),'lot_frontage'] = frontage_prediction_for_nans"
   ]
  },
  {
   "cell_type": "code",
   "execution_count": 3306,
   "metadata": {},
   "outputs": [
    {
     "data": {
      "text/plain": [
       "Series([], Name: lot_frontage, dtype: float64)"
      ]
     },
     "execution_count": 3306,
     "metadata": {},
     "output_type": "execute_result"
    }
   ],
   "source": [
    "# check the values have been updated\n",
    "ames_test['lot_frontage'][ames_test['lot_frontage'].isnull()]"
   ]
  },
  {
   "cell_type": "code",
   "execution_count": 3302,
   "metadata": {},
   "outputs": [
    {
     "data": {
      "text/plain": [
       "sale_type         0\n",
       "yr_sold           0\n",
       "year_remod/add    0\n",
       "roof_style        0\n",
       "roof_matl         0\n",
       "dtype: int64"
      ]
     },
     "execution_count": 3302,
     "metadata": {},
     "output_type": "execute_result"
    }
   ],
   "source": [
    "# check data set\n",
    "ames_test.isnull().sum().sort_values(ascending=False).head(5)"
   ]
  },
  {
   "cell_type": "markdown",
   "metadata": {},
   "source": [
    "---"
   ]
  },
  {
   "cell_type": "code",
   "execution_count": 3303,
   "metadata": {},
   "outputs": [],
   "source": [
    "# Save Data\n",
    "ames_test.to_csv('./datasets/outputs/data_cleaning_test_1.0.csv')"
   ]
  },
  {
   "cell_type": "markdown",
   "metadata": {},
   "source": [
    "---"
   ]
  },
  {
   "cell_type": "markdown",
   "metadata": {},
   "source": [
    "## Could I answer the problem statement?\n",
    "\n",
    "It is currently not possible because I need more information into the distributions and relationships between the features. I will be looking at this in the next workbook."
   ]
  },
  {
   "cell_type": "code",
   "execution_count": null,
   "metadata": {},
   "outputs": [],
   "source": []
  },
  {
   "cell_type": "code",
   "execution_count": 3432,
   "metadata": {},
   "outputs": [
    {
     "data": {
      "text/plain": [
       "2010"
      ]
     },
     "execution_count": 3432,
     "metadata": {},
     "output_type": "execute_result"
    }
   ],
   "source": [
    "ames_train['yr_sold'].max()"
   ]
  },
  {
   "cell_type": "code",
   "execution_count": 3433,
   "metadata": {},
   "outputs": [
    {
     "data": {
      "text/plain": [
       "2006"
      ]
     },
     "execution_count": 3433,
     "metadata": {},
     "output_type": "execute_result"
    }
   ],
   "source": [
    "ames_train['yr_sold'].min()"
   ]
  },
  {
   "cell_type": "code",
   "execution_count": 3435,
   "metadata": {},
   "outputs": [
    {
     "data": {
      "text/plain": [
       "2051"
      ]
     },
     "execution_count": 3435,
     "metadata": {},
     "output_type": "execute_result"
    }
   ],
   "source": [
    "ames_train['id'].size"
   ]
  },
  {
   "cell_type": "code",
   "execution_count": 3436,
   "metadata": {},
   "outputs": [
    {
     "data": {
      "text/plain": [
       "879"
      ]
     },
     "execution_count": 3436,
     "metadata": {},
     "output_type": "execute_result"
    }
   ],
   "source": [
    "ames_test['id'].size"
   ]
  },
  {
   "cell_type": "code",
   "execution_count": 3438,
   "metadata": {},
   "outputs": [
    {
     "data": {
      "text/plain": [
       "80"
      ]
     },
     "execution_count": 3438,
     "metadata": {},
     "output_type": "execute_result"
    }
   ],
   "source": [
    "len(ames_test.columns)"
   ]
  },
  {
   "cell_type": "code",
   "execution_count": null,
   "metadata": {},
   "outputs": [],
   "source": []
  }
 ],
 "metadata": {
  "kernelspec": {
   "display_name": "Python 3",
   "language": "python",
   "name": "python3"
  },
  "language_info": {
   "codemirror_mode": {
    "name": "ipython",
    "version": 3
   },
   "file_extension": ".py",
   "mimetype": "text/x-python",
   "name": "python",
   "nbconvert_exporter": "python",
   "pygments_lexer": "ipython3",
   "version": "3.7.6"
  }
 },
 "nbformat": 4,
 "nbformat_minor": 4
}
