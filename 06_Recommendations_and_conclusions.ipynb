{
 "cells": [
  {
   "cell_type": "markdown",
   "metadata": {},
   "source": [
    "# Recommendations and conclusions\n",
    "\n",
    "In this notebook I will:\n",
    "\n",
    "Highlight the key take aways for the stakeholders\n"
   ]
  },
  {
   "cell_type": "markdown",
   "metadata": {},
   "source": [
    "### Contents:\n",
    "- [Key Factors](#Key-Features)\n",
    "    - [Positive Factors](#Positive-Factors)\n",
    "    - [Negative Factors](#Negative-Factors)\n",
    "- [Other Factors](#Other-Factors)\n",
    "- [Recommendations for stakeholders](#Recommendations)"
   ]
  },
  {
   "cell_type": "markdown",
   "metadata": {},
   "source": [
    "---"
   ]
  },
  {
   "cell_type": "markdown",
   "metadata": {},
   "source": [
    "# Key Factors"
   ]
  },
  {
   "cell_type": "markdown",
   "metadata": {},
   "source": [
    "![Top and Bottom features](images/top_and_bottom_features.png)"
   ]
  },
  {
   "cell_type": "markdown",
   "metadata": {},
   "source": [
    "This chart shows the key features that contribute the most to house prices. It also shows the elements that affect the price negatively."
   ]
  },
  {
   "cell_type": "markdown",
   "metadata": {},
   "source": [
    "---"
   ]
  },
  {
   "cell_type": "markdown",
   "metadata": {},
   "source": [
    "### Positive Factors"
   ]
  },
  {
   "cell_type": "markdown",
   "metadata": {},
   "source": [
    "+ General above ground living area\n",
    "+ Overall quality of the house\n",
    "+ Some neighborhoods are exclusive\n",
    "+ When the house was built"
   ]
  },
  {
   "cell_type": "markdown",
   "metadata": {},
   "source": [
    "---"
   ]
  },
  {
   "cell_type": "markdown",
   "metadata": {},
   "source": [
    "### Negative Factors"
   ]
  },
  {
   "cell_type": "markdown",
   "metadata": {},
   "source": [
    "+ Houses being planned are sold at a discount\n",
    "+ The shape of the plot the house is on\n",
    "+ Some neighborhoods are not so sought after\n",
    "+ Whether the unit was planned or not"
   ]
  },
  {
   "cell_type": "markdown",
   "metadata": {},
   "source": [
    "---"
   ]
  },
  {
   "cell_type": "markdown",
   "metadata": {},
   "source": [
    "# Other Findings"
   ]
  },
  {
   "cell_type": "markdown",
   "metadata": {},
   "source": [
    "#### The neighborhoods are important to house prices"
   ]
  },
  {
   "cell_type": "markdown",
   "metadata": {},
   "source": [
    "![Neighborhood ranks](images/neighborhood_analysis.png)"
   ]
  },
  {
   "cell_type": "markdown",
   "metadata": {},
   "source": [
    "![Neighborhood ranks](images/neighborhood_av_price_analysis.png)"
   ]
  },
  {
   "cell_type": "markdown",
   "metadata": {},
   "source": [
    "The charts show that neighborhoods correlate to both average sale price and importance of features in the model. It is a good indicator of price"
   ]
  },
  {
   "cell_type": "markdown",
   "metadata": {},
   "source": [
    "#### People in Ames like their basements and the following graph shows key features of basement"
   ]
  },
  {
   "cell_type": "markdown",
   "metadata": {},
   "source": [
    "![basements](images/key_basement_features.png)"
   ]
  },
  {
   "cell_type": "markdown",
   "metadata": {},
   "source": [
    "The basement can add a lot of value if the house has the correct basement attributes"
   ]
  },
  {
   "cell_type": "markdown",
   "metadata": {},
   "source": [
    "#### Peak season"
   ]
  },
  {
   "cell_type": "markdown",
   "metadata": {},
   "source": [
    "![basements](images/most_active_period_ames.png)"
   ]
  },
  {
   "cell_type": "markdown",
   "metadata": {},
   "source": [
    "June and July are the most active periods. However the average price drops the most in April. Probably due to new lisitngs and a slow market for the previous 6 months."
   ]
  },
  {
   "cell_type": "markdown",
   "metadata": {},
   "source": [
    "#### Aesthetics matter in Ames"
   ]
  },
  {
   "cell_type": "markdown",
   "metadata": {},
   "source": [
    "![](images/Desirable_undesirable_exter_features.png)"
   ]
  },
  {
   "cell_type": "markdown",
   "metadata": {},
   "source": [
    "The graph shows that Brick Face and Cement board are popular. However Wood siding and stone are not that popular"
   ]
  },
  {
   "cell_type": "markdown",
   "metadata": {},
   "source": [
    "---"
   ]
  },
  {
   "cell_type": "markdown",
   "metadata": {},
   "source": [
    "# Recommendations"
   ]
  },
  {
   "cell_type": "markdown",
   "metadata": {},
   "source": [
    "#### The best way to add value is to increase the ground floor living area. So look at potential ways to extend would likely to be beneficial."
   ]
  },
  {
   "cell_type": "markdown",
   "metadata": {},
   "source": [
    "#### Home values increase with quality. So if you are going to look to add value with home improvements, it is worth doing it to a high standard."
   ]
  },
  {
   "cell_type": "markdown",
   "metadata": {},
   "source": [
    "#### If you are looking to build or buy take note of the basement. Look out for large, well fitted, high ceilings, with bathrooms with direct outside access."
   ]
  },
  {
   "cell_type": "markdown",
   "metadata": {},
   "source": [
    "#### Look at selling in the middle of the year, look to buy at the end and the begiinning when demand is low"
   ]
  },
  {
   "cell_type": "markdown",
   "metadata": {},
   "source": [
    "#### Choose your neighborhood wisely. Buying and selling needs to be done in context of the area. Buying in a bad area and extending a house might not have the return that an investor might predict."
   ]
  },
  {
   "cell_type": "code",
   "execution_count": null,
   "metadata": {},
   "outputs": [],
   "source": []
  },
  {
   "cell_type": "markdown",
   "metadata": {},
   "source": [
    "# Other thoughts"
   ]
  },
  {
   "cell_type": "markdown",
   "metadata": {},
   "source": [
    "In theory the model should be usuable outside of Ames. It is a large sample of data from the US housing market. The US housing market would have a normal distribution of prices. You should therefore be able to infer things about the population from the sample.\n",
    "\n",
    "However I dont think the model would be useful in other areas. In the model peoples tastes are not taken into account or geography. Space restrictions would also play a role. An identical apartment in New york would be much more expensive even if the ground living area would be much less. \n",
    "\n",
    "To generalise the model would need a lot more features that take in the economy as a whole. Local gdp, crime rates for example would be needed. However the principles of modelling would be the same."
   ]
  }
 ],
 "metadata": {
  "kernelspec": {
   "display_name": "Python 3",
   "language": "python",
   "name": "python3"
  },
  "language_info": {
   "codemirror_mode": {
    "name": "ipython",
    "version": 3
   },
   "file_extension": ".py",
   "mimetype": "text/x-python",
   "name": "python",
   "nbconvert_exporter": "python",
   "pygments_lexer": "ipython3",
   "version": "3.7.6"
  }
 },
 "nbformat": 4,
 "nbformat_minor": 4
}
